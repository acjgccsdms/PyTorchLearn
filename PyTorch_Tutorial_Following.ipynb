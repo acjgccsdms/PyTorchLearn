{
  "nbformat": 4,
  "nbformat_minor": 0,
  "metadata": {
    "colab": {
      "provenance": [],
      "authorship_tag": "ABX9TyMFmKyTreZ8ckN+097Xkytd",
      "include_colab_link": true
    },
    "kernelspec": {
      "name": "python3",
      "display_name": "Python 3"
    },
    "language_info": {
      "name": "python"
    }
  },
  "cells": [
    {
      "cell_type": "markdown",
      "metadata": {
        "id": "view-in-github",
        "colab_type": "text"
      },
      "source": [
        "<a href=\"https://colab.research.google.com/github/acjgccsdms/PyTorchLearn/blob/main/PyTorch_Tutorial_Following.ipynb\" target=\"_parent\"><img src=\"https://colab.research.google.com/assets/colab-badge.svg\" alt=\"Open In Colab\"/></a>"
      ]
    },
    {
      "cell_type": "code",
      "execution_count": null,
      "metadata": {
        "colab": {
          "base_uri": "https://localhost:8080/"
        },
        "id": "Pymvr4SXXpGH",
        "outputId": "215fda2e-4c31-431f-b2f6-c9b2cbb7f0d9"
      },
      "outputs": [
        {
          "output_type": "stream",
          "name": "stdout",
          "text": [
            "/bin/bash: line 1: nvidia-smi: command not found\n"
          ]
        }
      ],
      "source": [
        "!nvidia-smi"
      ]
    },
    {
      "cell_type": "markdown",
      "source": [
        "# **00.** PyTorch Fundamentals\n",
        "\n",
        "Resource Notebook: https://www.learnpytorch.io/00_pytorch_fundamentals/\n",
        "\n"
      ],
      "metadata": {
        "id": "Dk2XK9OjYLSW"
      }
    },
    {
      "cell_type": "code",
      "source": [
        "import torch\n",
        "import pandas as pd\n",
        "import numpy as np\n",
        "import matplotlib.pyplot as plt\n",
        "print(torch.__version__)"
      ],
      "metadata": {
        "colab": {
          "base_uri": "https://localhost:8080/"
        },
        "id": "BQ2Wk7S9YyEF",
        "outputId": "550490c4-2997-4733-86b0-f147327189de"
      },
      "execution_count": null,
      "outputs": [
        {
          "output_type": "stream",
          "name": "stdout",
          "text": [
            "2.5.0+cu121\n"
          ]
        }
      ]
    },
    {
      "cell_type": "markdown",
      "source": [
        "## Introduction to Tensors\n",
        "\n",
        "### Creating Tensors\n",
        "\n",
        "PyTorch tensors are created using `torch.tensor()`\n"
      ],
      "metadata": {
        "id": "agIADTFaZrnT"
      }
    },
    {
      "cell_type": "code",
      "source": [
        "# scalar\n",
        "scalar = torch.tensor(7)\n",
        "scalar"
      ],
      "metadata": {
        "colab": {
          "base_uri": "https://localhost:8080/"
        },
        "id": "d8lCVQeFZdoi",
        "outputId": "e7eac559-4c02-4156-da1b-d4236621b61c"
      },
      "execution_count": null,
      "outputs": [
        {
          "output_type": "execute_result",
          "data": {
            "text/plain": [
              "tensor(7)"
            ]
          },
          "metadata": {},
          "execution_count": 103
        }
      ]
    },
    {
      "cell_type": "code",
      "source": [
        "scalar.ndim"
      ],
      "metadata": {
        "colab": {
          "base_uri": "https://localhost:8080/"
        },
        "id": "wHOjRBlBapdp",
        "outputId": "bc87ebdc-2020-47d3-b6b6-12acc00413cc"
      },
      "execution_count": null,
      "outputs": [
        {
          "output_type": "execute_result",
          "data": {
            "text/plain": [
              "0"
            ]
          },
          "metadata": {},
          "execution_count": 104
        }
      ]
    },
    {
      "cell_type": "code",
      "source": [
        "# Get tensor back as Python int\n",
        "scalar.item()"
      ],
      "metadata": {
        "colab": {
          "base_uri": "https://localhost:8080/"
        },
        "id": "jCVGdZSmax2o",
        "outputId": "7a2021a1-c379-4ee3-f6a9-ed3748223402"
      },
      "execution_count": null,
      "outputs": [
        {
          "output_type": "execute_result",
          "data": {
            "text/plain": [
              "7"
            ]
          },
          "metadata": {},
          "execution_count": 105
        }
      ]
    },
    {
      "cell_type": "code",
      "source": [
        "# Vector\n",
        "vector = torch.tensor([7, 7])\n",
        "vector"
      ],
      "metadata": {
        "colab": {
          "base_uri": "https://localhost:8080/"
        },
        "id": "YlS0ui17a3Ij",
        "outputId": "384866f8-05e5-41bd-eb51-fcbce137b950"
      },
      "execution_count": null,
      "outputs": [
        {
          "output_type": "execute_result",
          "data": {
            "text/plain": [
              "tensor([7, 7])"
            ]
          },
          "metadata": {},
          "execution_count": 106
        }
      ]
    },
    {
      "cell_type": "code",
      "source": [
        "vector.ndim"
      ],
      "metadata": {
        "colab": {
          "base_uri": "https://localhost:8080/"
        },
        "id": "7j5mV2ehbFS8",
        "outputId": "7b90a431-8e12-4f00-ce06-b398a9c9d410"
      },
      "execution_count": null,
      "outputs": [
        {
          "output_type": "execute_result",
          "data": {
            "text/plain": [
              "1"
            ]
          },
          "metadata": {},
          "execution_count": 107
        }
      ]
    },
    {
      "cell_type": "code",
      "source": [
        "vector.shape"
      ],
      "metadata": {
        "colab": {
          "base_uri": "https://localhost:8080/"
        },
        "id": "uKUcgid3bKXv",
        "outputId": "03ecda5a-13a4-48ca-be4c-491b8c8674ce"
      },
      "execution_count": null,
      "outputs": [
        {
          "output_type": "execute_result",
          "data": {
            "text/plain": [
              "torch.Size([2])"
            ]
          },
          "metadata": {},
          "execution_count": 108
        }
      ]
    },
    {
      "cell_type": "code",
      "source": [
        "# MATRIX\n",
        "MATRIX = torch.tensor([[7,8],[9, 10]])\n",
        "MATRIX"
      ],
      "metadata": {
        "colab": {
          "base_uri": "https://localhost:8080/"
        },
        "id": "ksa1iB5IbMxM",
        "outputId": "9bd74388-4889-4216-c537-44cc9609ee05"
      },
      "execution_count": null,
      "outputs": [
        {
          "output_type": "execute_result",
          "data": {
            "text/plain": [
              "tensor([[ 7,  8],\n",
              "        [ 9, 10]])"
            ]
          },
          "metadata": {},
          "execution_count": 109
        }
      ]
    },
    {
      "cell_type": "code",
      "source": [
        "MATRIX.ndim"
      ],
      "metadata": {
        "colab": {
          "base_uri": "https://localhost:8080/"
        },
        "id": "JnAiT0eObNFX",
        "outputId": "2eafe3d3-2d7a-43d1-e844-7c05e4f2e9ab"
      },
      "execution_count": null,
      "outputs": [
        {
          "output_type": "execute_result",
          "data": {
            "text/plain": [
              "2"
            ]
          },
          "metadata": {},
          "execution_count": 110
        }
      ]
    },
    {
      "cell_type": "code",
      "source": [
        "MATRIX[0]\n",
        "#MATRIX[1]"
      ],
      "metadata": {
        "colab": {
          "base_uri": "https://localhost:8080/"
        },
        "id": "q2DQKiKvbNHK",
        "outputId": "008a0026-0264-40aa-b820-f2d4cf0c8059"
      },
      "execution_count": null,
      "outputs": [
        {
          "output_type": "execute_result",
          "data": {
            "text/plain": [
              "tensor([7, 8])"
            ]
          },
          "metadata": {},
          "execution_count": 111
        }
      ]
    },
    {
      "cell_type": "code",
      "source": [
        "MATRIX.shape"
      ],
      "metadata": {
        "colab": {
          "base_uri": "https://localhost:8080/"
        },
        "id": "q41KjhMJbNJJ",
        "outputId": "bf765273-f6c5-4eb7-b27c-c53cbec1ac14"
      },
      "execution_count": null,
      "outputs": [
        {
          "output_type": "execute_result",
          "data": {
            "text/plain": [
              "torch.Size([2, 2])"
            ]
          },
          "metadata": {},
          "execution_count": 112
        }
      ]
    },
    {
      "cell_type": "code",
      "source": [
        "# TENSOR\n",
        "TENSOR = torch.tensor([[[3, 4, 4], [4,3,2], [5,6,7]]])\n",
        "TENSOR"
      ],
      "metadata": {
        "colab": {
          "base_uri": "https://localhost:8080/"
        },
        "id": "0Utspu-gbpsR",
        "outputId": "34e590cd-db0d-440e-ce18-aefa7c39647a"
      },
      "execution_count": null,
      "outputs": [
        {
          "output_type": "execute_result",
          "data": {
            "text/plain": [
              "tensor([[[3, 4, 4],\n",
              "         [4, 3, 2],\n",
              "         [5, 6, 7]]])"
            ]
          },
          "metadata": {},
          "execution_count": 113
        }
      ]
    },
    {
      "cell_type": "code",
      "source": [
        "TENSOR.ndim"
      ],
      "metadata": {
        "colab": {
          "base_uri": "https://localhost:8080/"
        },
        "id": "IlAW2Jr0b9ch",
        "outputId": "9eb66075-5ae3-4bf8-9676-ff97b5188716"
      },
      "execution_count": null,
      "outputs": [
        {
          "output_type": "execute_result",
          "data": {
            "text/plain": [
              "3"
            ]
          },
          "metadata": {},
          "execution_count": 114
        }
      ]
    },
    {
      "cell_type": "code",
      "source": [
        "TENSOR.shape"
      ],
      "metadata": {
        "colab": {
          "base_uri": "https://localhost:8080/"
        },
        "id": "1K77QDQhcACI",
        "outputId": "73d78bc6-a6a8-4d8f-836f-92e284c181e1"
      },
      "execution_count": null,
      "outputs": [
        {
          "output_type": "execute_result",
          "data": {
            "text/plain": [
              "torch.Size([1, 3, 3])"
            ]
          },
          "metadata": {},
          "execution_count": 115
        }
      ]
    },
    {
      "cell_type": "code",
      "source": [
        "TENSOR[0]"
      ],
      "metadata": {
        "colab": {
          "base_uri": "https://localhost:8080/"
        },
        "id": "U00D-eS6cH0L",
        "outputId": "465a3844-e6ef-4bc9-c9db-cffa9725af21"
      },
      "execution_count": null,
      "outputs": [
        {
          "output_type": "execute_result",
          "data": {
            "text/plain": [
              "tensor([[3, 4, 4],\n",
              "        [4, 3, 2],\n",
              "        [5, 6, 7]])"
            ]
          },
          "metadata": {},
          "execution_count": 116
        }
      ]
    },
    {
      "cell_type": "code",
      "source": [
        "TENSOR[0, 1, 2]\n",
        "# First # is the outer dimension, and then continue to select inner dimensions with each extra index"
      ],
      "metadata": {
        "colab": {
          "base_uri": "https://localhost:8080/"
        },
        "id": "tTa60W-fcNn4",
        "outputId": "b656361c-1db4-46c7-8258-afbc6520ee58"
      },
      "execution_count": null,
      "outputs": [
        {
          "output_type": "execute_result",
          "data": {
            "text/plain": [
              "tensor(2)"
            ]
          },
          "metadata": {},
          "execution_count": 117
        }
      ]
    },
    {
      "cell_type": "markdown",
      "source": [
        "### Random Tensors\n",
        "\n",
        "Why random tensors?\n",
        "\n",
        "Random tensors are important because the way many neural networks learn is they start with tensors of random numbers and then change these numbers to \"learn\" to better represent the data.\n",
        "\n"
      ],
      "metadata": {
        "id": "By9UX0WUc9kJ"
      }
    },
    {
      "cell_type": "code",
      "source": [
        "# Create a random TENSOR\n",
        "RANDOM_TENSOR = torch.rand(5,3,4)\n",
        "RANDOM_TENSOR"
      ],
      "metadata": {
        "colab": {
          "base_uri": "https://localhost:8080/"
        },
        "id": "6iuLxXQVcoEE",
        "outputId": "e18618f1-c3b1-402f-fe33-f5e24a8ff371"
      },
      "execution_count": null,
      "outputs": [
        {
          "output_type": "execute_result",
          "data": {
            "text/plain": [
              "tensor([[[0.8823, 0.9150, 0.3829, 0.9593],\n",
              "         [0.3904, 0.6009, 0.2566, 0.7936],\n",
              "         [0.9408, 0.1332, 0.9346, 0.5936]],\n",
              "\n",
              "        [[0.8694, 0.5677, 0.7411, 0.4294],\n",
              "         [0.8854, 0.5739, 0.2666, 0.6274],\n",
              "         [0.2696, 0.4414, 0.2969, 0.8317]],\n",
              "\n",
              "        [[0.1053, 0.2695, 0.3588, 0.1994],\n",
              "         [0.5472, 0.0062, 0.9516, 0.0753],\n",
              "         [0.8860, 0.5832, 0.3376, 0.8090]],\n",
              "\n",
              "        [[0.5779, 0.9040, 0.5547, 0.3423],\n",
              "         [0.6343, 0.3644, 0.7104, 0.9464],\n",
              "         [0.7890, 0.2814, 0.7886, 0.5895]],\n",
              "\n",
              "        [[0.7539, 0.1952, 0.0050, 0.3068],\n",
              "         [0.1165, 0.9103, 0.6440, 0.7071],\n",
              "         [0.6581, 0.4913, 0.8913, 0.1447]]])"
            ]
          },
          "metadata": {},
          "execution_count": 118
        }
      ]
    },
    {
      "cell_type": "code",
      "source": [
        "# Create a random tensor with shape similar to an image tensor\n",
        "ran_image_size_tensor = torch.rand(size= (3, 244, 244))\n",
        "ran_image_size_tensor.shape, ran_image_size_tensor.ndim"
      ],
      "metadata": {
        "colab": {
          "base_uri": "https://localhost:8080/"
        },
        "id": "_8_XgOSvd989",
        "outputId": "a97b32b8-dbfb-4fe7-eb4a-2f81cc8ed6f5"
      },
      "execution_count": null,
      "outputs": [
        {
          "output_type": "execute_result",
          "data": {
            "text/plain": [
              "(torch.Size([3, 244, 244]), 3)"
            ]
          },
          "metadata": {},
          "execution_count": 119
        }
      ]
    },
    {
      "cell_type": "markdown",
      "source": [
        "### Zeros and Ones\n",
        "\n"
      ],
      "metadata": {
        "id": "kFQmu8QAfJ0F"
      }
    },
    {
      "cell_type": "code",
      "source": [
        "# Create a tensor of all zeros\n",
        "zeros = torch.zeros(3,4)\n",
        "zeros"
      ],
      "metadata": {
        "colab": {
          "base_uri": "https://localhost:8080/"
        },
        "id": "JPEh5gzdfMyU",
        "outputId": "8618ee30-e545-4082-ff7c-0de1fab4741f"
      },
      "execution_count": null,
      "outputs": [
        {
          "output_type": "execute_result",
          "data": {
            "text/plain": [
              "tensor([[0., 0., 0., 0.],\n",
              "        [0., 0., 0., 0.],\n",
              "        [0., 0., 0., 0.]])"
            ]
          },
          "metadata": {},
          "execution_count": 120
        }
      ]
    },
    {
      "cell_type": "code",
      "source": [
        "# Create a tensor of all ones\n",
        "ones = torch.ones(3,4)\n",
        "ones"
      ],
      "metadata": {
        "colab": {
          "base_uri": "https://localhost:8080/"
        },
        "id": "qvc46SJMfU0i",
        "outputId": "86ac8b63-245f-468e-986f-839165f13b63"
      },
      "execution_count": null,
      "outputs": [
        {
          "output_type": "execute_result",
          "data": {
            "text/plain": [
              "tensor([[1., 1., 1., 1.],\n",
              "        [1., 1., 1., 1.],\n",
              "        [1., 1., 1., 1.]])"
            ]
          },
          "metadata": {},
          "execution_count": 121
        }
      ]
    },
    {
      "cell_type": "markdown",
      "source": [
        "### Creating a range of tensors and tensors-like\n",
        "\n",
        "tensors-like creates a tensor with the same shape and structure as the input tensor"
      ],
      "metadata": {
        "id": "LP0-fzJsflBe"
      }
    },
    {
      "cell_type": "code",
      "source": [
        "# Use torch.arange()\n",
        "torch.arange(1,11)\n"
      ],
      "metadata": {
        "colab": {
          "base_uri": "https://localhost:8080/"
        },
        "id": "xlUfGohafp37",
        "outputId": "a6b0f007-0f44-4fb2-cfe9-02fdf6e30aea"
      },
      "execution_count": null,
      "outputs": [
        {
          "output_type": "execute_result",
          "data": {
            "text/plain": [
              "tensor([ 1,  2,  3,  4,  5,  6,  7,  8,  9, 10])"
            ]
          },
          "metadata": {},
          "execution_count": 122
        }
      ]
    },
    {
      "cell_type": "code",
      "source": [
        "step_range = torch.arange(start = 1, end = 11, step = 1)\n",
        "step_range"
      ],
      "metadata": {
        "colab": {
          "base_uri": "https://localhost:8080/"
        },
        "id": "aZtvsXxjf4YL",
        "outputId": "8ac6f810-f95e-47fc-dec0-a42ed0d935cb"
      },
      "execution_count": null,
      "outputs": [
        {
          "output_type": "execute_result",
          "data": {
            "text/plain": [
              "tensor([ 1,  2,  3,  4,  5,  6,  7,  8,  9, 10])"
            ]
          },
          "metadata": {},
          "execution_count": 123
        }
      ]
    },
    {
      "cell_type": "code",
      "source": [
        "# Creating tensors like\n",
        "ten_zeros = torch.zeros_like(input = step_range)\n",
        "ten_zeros"
      ],
      "metadata": {
        "colab": {
          "base_uri": "https://localhost:8080/"
        },
        "id": "aAdpytnUgLAQ",
        "outputId": "611fa31f-884c-4e8b-8504-3f35498e1870"
      },
      "execution_count": null,
      "outputs": [
        {
          "output_type": "execute_result",
          "data": {
            "text/plain": [
              "tensor([0, 0, 0, 0, 0, 0, 0, 0, 0, 0])"
            ]
          },
          "metadata": {},
          "execution_count": 124
        }
      ]
    },
    {
      "cell_type": "markdown",
      "source": [
        "### Tensor datatypes\n",
        "\n",
        "**Note:** Tensor datatypes are one of the main 3 errors we will run into with PyTorch and deep learning.\n",
        "\n",
        "**Others are:**\n",
        "Not right shape and Not right device"
      ],
      "metadata": {
        "id": "xHheL6NGgrPc"
      }
    },
    {
      "cell_type": "code",
      "source": [
        "# Float 32 tensor\n",
        "float_32_tensor = torch.tensor([3.0, 6.0, 9.0], dtype = None, # What datatype is the tensor (e.g. float32 or float16)\n",
        "                               device = None, # What device is your tensor on (CPU, GPU, TPU)\n",
        "                               requires_grad = False) # Whether or not to track gradients with this tensors operations\n",
        "float_32_tensor"
      ],
      "metadata": {
        "colab": {
          "base_uri": "https://localhost:8080/"
        },
        "id": "UzgenPAUguUs",
        "outputId": "1aa8be37-893c-4838-de39-737948ade7b3"
      },
      "execution_count": null,
      "outputs": [
        {
          "output_type": "execute_result",
          "data": {
            "text/plain": [
              "tensor([3., 6., 9.])"
            ]
          },
          "metadata": {},
          "execution_count": 125
        }
      ]
    },
    {
      "cell_type": "markdown",
      "source": [
        "### Getting information from tensors\n",
        "\n",
        "1. How to get datatype - `tensor.dtype`\n",
        "2. How to get shape - `tensor.shape`\n",
        "3. How to get the device - `tensor.device`"
      ],
      "metadata": {
        "id": "E5l1R-BWkkHm"
      }
    },
    {
      "cell_type": "code",
      "source": [
        "tensor = torch.rand(3,4)\n",
        "tensor\n"
      ],
      "metadata": {
        "colab": {
          "base_uri": "https://localhost:8080/"
        },
        "id": "b1vMPJd6k4NR",
        "outputId": "89a76dd1-819d-4308-a27c-6bf456cdb1b2"
      },
      "execution_count": null,
      "outputs": [
        {
          "output_type": "execute_result",
          "data": {
            "text/plain": [
              "tensor([[0.2916, 0.1722, 0.9716, 0.7282],\n",
              "        [0.4054, 0.7865, 0.9859, 0.6173],\n",
              "        [0.5845, 0.8406, 0.5673, 0.6257]])"
            ]
          },
          "metadata": {},
          "execution_count": 126
        }
      ]
    },
    {
      "cell_type": "code",
      "source": [
        "# Get details about tensor\n",
        "\n",
        "print(tensor)\n",
        "print(f\"Datatype of tensor: {tensor.dtype}\")\n",
        "print(f\"Shape of tensor: {tensor.shape}\")\n",
        "print(f\"Device tensor is on: {tensor.device}\")"
      ],
      "metadata": {
        "colab": {
          "base_uri": "https://localhost:8080/"
        },
        "id": "j8R0s5eQlEkw",
        "outputId": "fc7de805-0b68-4750-b6ee-eaa67aabdb38"
      },
      "execution_count": null,
      "outputs": [
        {
          "output_type": "stream",
          "name": "stdout",
          "text": [
            "tensor([[0.2916, 0.1722, 0.9716, 0.7282],\n",
            "        [0.4054, 0.7865, 0.9859, 0.6173],\n",
            "        [0.5845, 0.8406, 0.5673, 0.6257]])\n",
            "Datatype of tensor: torch.float32\n",
            "Shape of tensor: torch.Size([3, 4])\n",
            "Device tensor is on: cpu\n"
          ]
        }
      ]
    },
    {
      "cell_type": "markdown",
      "source": [
        "### Manipulating Tensors with tensor operations\n",
        "\n",
        "Tensor operations include:\n",
        "* Addition\n",
        "* Subtraction\n",
        "* Mult (element wise)\n",
        "* Division\n",
        "* Matrix Mult\n"
      ],
      "metadata": {
        "id": "II3sjobTlo5b"
      }
    },
    {
      "cell_type": "code",
      "source": [
        "# Add 10 to a tensor\n",
        "tensor = torch.tensor([1, 2, 3])\n",
        "tensor + 10\n"
      ],
      "metadata": {
        "colab": {
          "base_uri": "https://localhost:8080/"
        },
        "id": "OLj7wZIll7Mv",
        "outputId": "e02994fc-3fe7-40c0-d9a6-cc8f774ee24b"
      },
      "execution_count": null,
      "outputs": [
        {
          "output_type": "execute_result",
          "data": {
            "text/plain": [
              "tensor([11, 12, 13])"
            ]
          },
          "metadata": {},
          "execution_count": 128
        }
      ]
    },
    {
      "cell_type": "code",
      "source": [
        "# Mult tensor by 10\n",
        "tensor * 10"
      ],
      "metadata": {
        "colab": {
          "base_uri": "https://localhost:8080/"
        },
        "id": "n1wiwyUqmPsW",
        "outputId": "767abab9-a779-4f2f-c529-36c966e6c46b"
      },
      "execution_count": null,
      "outputs": [
        {
          "output_type": "execute_result",
          "data": {
            "text/plain": [
              "tensor([10, 20, 30])"
            ]
          },
          "metadata": {},
          "execution_count": 129
        }
      ]
    },
    {
      "cell_type": "code",
      "source": [
        "# Subtract 10\n",
        "tensor - 10"
      ],
      "metadata": {
        "colab": {
          "base_uri": "https://localhost:8080/"
        },
        "id": "8mvumg9QmS6b",
        "outputId": "7ec27e6e-4cf1-4780-cc79-4591a805e017"
      },
      "execution_count": null,
      "outputs": [
        {
          "output_type": "execute_result",
          "data": {
            "text/plain": [
              "tensor([-9, -8, -7])"
            ]
          },
          "metadata": {},
          "execution_count": 130
        }
      ]
    },
    {
      "cell_type": "code",
      "source": [
        "# Element wise tensor mult\n",
        "tensor * tensor"
      ],
      "metadata": {
        "colab": {
          "base_uri": "https://localhost:8080/"
        },
        "id": "HcNuaI0Rmeyb",
        "outputId": "5ba0021b-bdf5-4607-ec41-ca086ec73201"
      },
      "execution_count": null,
      "outputs": [
        {
          "output_type": "execute_result",
          "data": {
            "text/plain": [
              "tensor([1, 4, 9])"
            ]
          },
          "metadata": {},
          "execution_count": 131
        }
      ]
    },
    {
      "cell_type": "markdown",
      "source": [
        "### Matrix Mult\n",
        "\n",
        "Two main ways of performing mult in neural networks and deep learning:\n",
        "\n",
        "* Element Wise\n",
        "* Dot Product\n",
        "\n"
      ],
      "metadata": {
        "id": "g6w3XbYbmy6U"
      }
    },
    {
      "cell_type": "code",
      "source": [
        "# Matrix Mult (This is the dot product b/w the two same size tensors)\n",
        "torch.matmul(tensor, tensor)"
      ],
      "metadata": {
        "colab": {
          "base_uri": "https://localhost:8080/"
        },
        "id": "Gt_9lU3ynXiX",
        "outputId": "e5fa62ef-e108-41d4-d3ba-4df22dec5327"
      },
      "execution_count": null,
      "outputs": [
        {
          "output_type": "execute_result",
          "data": {
            "text/plain": [
              "tensor(14)"
            ]
          },
          "metadata": {},
          "execution_count": 132
        }
      ]
    },
    {
      "cell_type": "markdown",
      "source": [
        "### Tensor Shape Errors"
      ],
      "metadata": {
        "id": "83MeqUKAqC7_"
      }
    },
    {
      "cell_type": "code",
      "source": [
        "# Shapes for matrix mult\n",
        "tensor_A = torch.tensor([[1,2],\n",
        "                         [3,4],\n",
        "                         [5,6]])\n",
        "tensor_B = torch.tensor([[7,10],\n",
        "                        [8,11],\n",
        "                        [9,12]])\n",
        "\n",
        "# torch.mm is also matmul\n",
        "# torch.mm(tensor_A, tensor_B)\n",
        "# Fails since A and B have same dim\n",
        "\n",
        "# Instead use tensor_B.T which transposes B\n",
        "AB = torch.mm(tensor_A, tensor_B.T)\n",
        "print(f\"AB = {AB}\")\n",
        "BA = torch.mm(tensor_A.T, tensor_B)\n",
        "print(f\"BA = {BA}\")"
      ],
      "metadata": {
        "colab": {
          "base_uri": "https://localhost:8080/"
        },
        "id": "Ylk_WX3CqGHM",
        "outputId": "8eba1939-7c40-4842-8571-d588357cec87"
      },
      "execution_count": null,
      "outputs": [
        {
          "output_type": "stream",
          "name": "stdout",
          "text": [
            "AB = tensor([[ 27,  30,  33],\n",
            "        [ 61,  68,  75],\n",
            "        [ 95, 106, 117]])\n",
            "BA = tensor([[ 76, 103],\n",
            "        [100, 136]])\n"
          ]
        }
      ]
    },
    {
      "cell_type": "markdown",
      "source": [
        "### Finding min, max, sum, mean, etc (tensor aggregations)\n",
        "\n",
        "\n",
        "\n",
        "*   x.min()\n",
        "*   x.max()\n",
        "*   x.mean()\n",
        "*   x.sum()\n",
        "\n",
        "\n",
        "Position of min or max:\n",
        "\n",
        "*   x.argmin()\n",
        "*   x.argmax()\n",
        "\n",
        "\n",
        "\n",
        "\n"
      ],
      "metadata": {
        "id": "RtSU_OcAru1y"
      }
    },
    {
      "cell_type": "code",
      "source": [
        "x = torch.arange(0, 100, 10)\n",
        "x"
      ],
      "metadata": {
        "colab": {
          "base_uri": "https://localhost:8080/"
        },
        "id": "HNsrh4BCrzuD",
        "outputId": "42635e30-c647-4490-e1bd-c94abe28f0ed"
      },
      "execution_count": null,
      "outputs": [
        {
          "output_type": "execute_result",
          "data": {
            "text/plain": [
              "tensor([ 0, 10, 20, 30, 40, 50, 60, 70, 80, 90])"
            ]
          },
          "metadata": {},
          "execution_count": 134
        }
      ]
    },
    {
      "cell_type": "code",
      "source": [
        "torch.max(x), x. max()"
      ],
      "metadata": {
        "colab": {
          "base_uri": "https://localhost:8080/"
        },
        "id": "cfRaRzlrr4GL",
        "outputId": "891b4c1b-5d77-44af-f50c-02b86c5b61fb"
      },
      "execution_count": null,
      "outputs": [
        {
          "output_type": "execute_result",
          "data": {
            "text/plain": [
              "(tensor(90), tensor(90))"
            ]
          },
          "metadata": {},
          "execution_count": 135
        }
      ]
    },
    {
      "cell_type": "code",
      "source": [
        "torch.mean(x, dtype = torch.float32), x.type(torch.float32).mean() # torch.mean() needs a floating point or complex data type"
      ],
      "metadata": {
        "colab": {
          "base_uri": "https://localhost:8080/"
        },
        "id": "XXHKp96-r-sz",
        "outputId": "63268590-cae0-4bf9-b016-d5818053a863"
      },
      "execution_count": null,
      "outputs": [
        {
          "output_type": "execute_result",
          "data": {
            "text/plain": [
              "(tensor(45.), tensor(45.))"
            ]
          },
          "metadata": {},
          "execution_count": 136
        }
      ]
    },
    {
      "cell_type": "markdown",
      "source": [
        "## Reshaping, Stacking, Squeezing, and Unsqueezing Tensors\n",
        "\n",
        "* Reshaping - reshapes an input tensor to a defined shape\n",
        "* View - Return a view of an input tensor of certain shape but keep the same memory as the original tensor\n",
        "* Stacking - combine multiple tensors on top (vstack) or side by side (hstack) of each other\n",
        "* Squeeze - removes all `1` dimensions from a tensor\n",
        "* Unsqueeze - adds a `1` dimension to a tensor\n",
        "* Permute - Return a view of the input tensor with dimensions swapper/permuted\n"
      ],
      "metadata": {
        "id": "UbcInjCOuNb7"
      }
    },
    {
      "cell_type": "code",
      "source": [
        "x = torch.arange(1.,11.)\n",
        "x, x.shape"
      ],
      "metadata": {
        "colab": {
          "base_uri": "https://localhost:8080/"
        },
        "id": "svq9VeeovQzp",
        "outputId": "99b74030-fd5f-4a75-d657-74b9dd399e4b"
      },
      "execution_count": null,
      "outputs": [
        {
          "output_type": "execute_result",
          "data": {
            "text/plain": [
              "(tensor([ 1.,  2.,  3.,  4.,  5.,  6.,  7.,  8.,  9., 10.]), torch.Size([10]))"
            ]
          },
          "metadata": {},
          "execution_count": 137
        }
      ]
    },
    {
      "cell_type": "code",
      "source": [
        "# Reshape -  Add an extra dimension\n",
        "\n",
        "# Adds outer dim\n",
        "x_reshaped = x.reshape(1, 10)\n",
        "x_reshaped, x_reshaped.shape\n",
        "\n",
        "# Adds inner dim\n",
        "#x_reshaped = x.reshape(10, 1)\n",
        "#x_reshaped, x_reshaped.shape\n",
        "\n",
        "# Fails - Too much data to fit\n",
        "#x_reshaped = x.reshape(1, 7)\n",
        "#x_reshaped, x_reshaped.shape\n",
        "\n",
        "# Fails - Not enough data to fill\n",
        "#x_reshaped = x.reshape(2, 10)\n",
        "#x_reshaped, x_reshaped.shape\n",
        "\n",
        "# Reorganizes data into a different shape\n",
        "#x_reshaped = x.reshape(2, 5)\n",
        "#x_reshaped, x_reshaped.shape"
      ],
      "metadata": {
        "colab": {
          "base_uri": "https://localhost:8080/"
        },
        "id": "zowAoqvbvawJ",
        "outputId": "8a6a6fa2-5b5d-4ca0-fb11-c4cfda8ebb3b"
      },
      "execution_count": null,
      "outputs": [
        {
          "output_type": "execute_result",
          "data": {
            "text/plain": [
              "(tensor([[ 1.,  2.,  3.,  4.,  5.,  6.,  7.,  8.,  9., 10.]]),\n",
              " torch.Size([1, 10]))"
            ]
          },
          "metadata": {},
          "execution_count": 138
        }
      ]
    },
    {
      "cell_type": "code",
      "source": [
        "# Change the view\n",
        "\n",
        "z = x.view(1,10)\n",
        "z, z.shape"
      ],
      "metadata": {
        "colab": {
          "base_uri": "https://localhost:8080/"
        },
        "id": "5PIvAUVKv8Od",
        "outputId": "9c18ed9d-545a-41c2-b8e8-0238b124d1dd"
      },
      "execution_count": null,
      "outputs": [
        {
          "output_type": "execute_result",
          "data": {
            "text/plain": [
              "(tensor([[ 1.,  2.,  3.,  4.,  5.,  6.,  7.,  8.,  9., 10.]]),\n",
              " torch.Size([1, 10]))"
            ]
          },
          "metadata": {},
          "execution_count": 139
        }
      ]
    },
    {
      "cell_type": "code",
      "source": [
        "# Changing z changes x since the view uses same memory as original tensor\n",
        "z[:, 0] = 5\n",
        "z, x"
      ],
      "metadata": {
        "colab": {
          "base_uri": "https://localhost:8080/"
        },
        "id": "tucVRVahwkH5",
        "outputId": "cc72f237-1ef1-436b-f76d-c277b0082bba"
      },
      "execution_count": null,
      "outputs": [
        {
          "output_type": "execute_result",
          "data": {
            "text/plain": [
              "(tensor([[ 5.,  2.,  3.,  4.,  5.,  6.,  7.,  8.,  9., 10.]]),\n",
              " tensor([ 5.,  2.,  3.,  4.,  5.,  6.,  7.,  8.,  9., 10.]))"
            ]
          },
          "metadata": {},
          "execution_count": 140
        }
      ]
    },
    {
      "cell_type": "code",
      "source": [
        "# Stack tensors on top\n",
        "x_stacked = torch.stack([x,x,x,x], dim = 0)\n",
        "x_stacked"
      ],
      "metadata": {
        "colab": {
          "base_uri": "https://localhost:8080/"
        },
        "id": "wcyqoLaWwsf7",
        "outputId": "75718c5f-0a9d-449e-9b81-3500fa9b5d02"
      },
      "execution_count": null,
      "outputs": [
        {
          "output_type": "execute_result",
          "data": {
            "text/plain": [
              "tensor([[ 5.,  2.,  3.,  4.,  5.,  6.,  7.,  8.,  9., 10.],\n",
              "        [ 5.,  2.,  3.,  4.,  5.,  6.,  7.,  8.,  9., 10.],\n",
              "        [ 5.,  2.,  3.,  4.,  5.,  6.,  7.,  8.,  9., 10.],\n",
              "        [ 5.,  2.,  3.,  4.,  5.,  6.,  7.,  8.,  9., 10.]])"
            ]
          },
          "metadata": {},
          "execution_count": 141
        }
      ]
    },
    {
      "cell_type": "code",
      "source": [
        "# Stack tensors side by side\n",
        "x_stacked = torch.stack([x,x,x,x], dim = 1)\n",
        "x_stacked"
      ],
      "metadata": {
        "colab": {
          "base_uri": "https://localhost:8080/"
        },
        "id": "-MWxRwlLw92h",
        "outputId": "160a8e31-adea-43a6-be31-c28e206f9ca4"
      },
      "execution_count": null,
      "outputs": [
        {
          "output_type": "execute_result",
          "data": {
            "text/plain": [
              "tensor([[ 5.,  5.,  5.,  5.],\n",
              "        [ 2.,  2.,  2.,  2.],\n",
              "        [ 3.,  3.,  3.,  3.],\n",
              "        [ 4.,  4.,  4.,  4.],\n",
              "        [ 5.,  5.,  5.,  5.],\n",
              "        [ 6.,  6.,  6.,  6.],\n",
              "        [ 7.,  7.,  7.,  7.],\n",
              "        [ 8.,  8.,  8.,  8.],\n",
              "        [ 9.,  9.,  9.,  9.],\n",
              "        [10., 10., 10., 10.]])"
            ]
          },
          "metadata": {},
          "execution_count": 142
        }
      ]
    },
    {
      "cell_type": "code",
      "source": [
        "# Using squeeze\n",
        "torch.squeeze(x_reshaped)"
      ],
      "metadata": {
        "colab": {
          "base_uri": "https://localhost:8080/"
        },
        "id": "qtJ46W5yxIRu",
        "outputId": "aba4f359-d5d7-4e17-f8dc-7a67df47c00d"
      },
      "execution_count": null,
      "outputs": [
        {
          "output_type": "execute_result",
          "data": {
            "text/plain": [
              "tensor([ 5.,  2.,  3.,  4.,  5.,  6.,  7.,  8.,  9., 10.])"
            ]
          },
          "metadata": {},
          "execution_count": 143
        }
      ]
    },
    {
      "cell_type": "code",
      "source": [
        "# Using unsqueeze\n",
        "torch.unsqueeze(torch.squeeze(x_reshaped), dim = 0) # dim = 0 or 1 works similar to stack dim\n"
      ],
      "metadata": {
        "colab": {
          "base_uri": "https://localhost:8080/"
        },
        "id": "_fGd54GVxks0",
        "outputId": "3fa4e031-d019-4bd0-8d19-9e50ebf7cd87"
      },
      "execution_count": null,
      "outputs": [
        {
          "output_type": "execute_result",
          "data": {
            "text/plain": [
              "tensor([[ 5.,  2.,  3.,  4.,  5.,  6.,  7.,  8.,  9., 10.]])"
            ]
          },
          "metadata": {},
          "execution_count": 144
        }
      ]
    },
    {
      "cell_type": "code",
      "source": [
        "# Using Permute\n",
        "x = torch.randn(2,3,5)\n",
        "x.size()\n",
        "\n",
        "torch.permute(x, (2,0,1)).size() # dim indexes go in the permute vector"
      ],
      "metadata": {
        "colab": {
          "base_uri": "https://localhost:8080/"
        },
        "id": "PpTwtAzFx9bN",
        "outputId": "8c3f1644-4da9-470f-fbea-030f060a3670"
      },
      "execution_count": null,
      "outputs": [
        {
          "output_type": "execute_result",
          "data": {
            "text/plain": [
              "torch.Size([5, 2, 3])"
            ]
          },
          "metadata": {},
          "execution_count": 145
        }
      ]
    },
    {
      "cell_type": "code",
      "source": [
        "# torch.permute -\n",
        "x_original = torch.rand(size=(224, 224, 3)) # [height, width, color_channels]\n",
        "\n",
        "# Permute the original to have the color channels first\n",
        "x_permuted = x_original.permute(2, 0, 1)\n",
        "\n",
        "print(f\"Original: {x_original.shape}\")\n",
        "print(f\"Permuted: {x_permuted.shape}\")\n",
        "# Permute is a VIEW of the original so it will share same data"
      ],
      "metadata": {
        "colab": {
          "base_uri": "https://localhost:8080/"
        },
        "id": "7VR_-KRN2M0v",
        "outputId": "3a985fa1-ea11-4bc1-beba-481b83cce7d4"
      },
      "execution_count": null,
      "outputs": [
        {
          "output_type": "stream",
          "name": "stdout",
          "text": [
            "Original: torch.Size([224, 224, 3])\n",
            "Permuted: torch.Size([3, 224, 224])\n"
          ]
        }
      ]
    },
    {
      "cell_type": "code",
      "source": [],
      "metadata": {
        "id": "3szSghTl27sl"
      },
      "execution_count": null,
      "outputs": []
    },
    {
      "cell_type": "markdown",
      "source": [
        "### Indexing (selecting data from tensors)\n",
        "\n",
        "Indexing with PyTorch is similar to indexing with NumPy\n"
      ],
      "metadata": {
        "id": "T1a1BY9b3Z_4"
      }
    },
    {
      "cell_type": "code",
      "source": [
        "import torch\n",
        "x = torch.arange(1,10).reshape(1,3,3)\n",
        "x,x.shape\n"
      ],
      "metadata": {
        "colab": {
          "base_uri": "https://localhost:8080/"
        },
        "id": "R-Rb-76J3jgI",
        "outputId": "62938e35-bf7d-4f79-bd8f-675faf098a55"
      },
      "execution_count": null,
      "outputs": [
        {
          "output_type": "execute_result",
          "data": {
            "text/plain": [
              "(tensor([[[1, 2, 3],\n",
              "          [4, 5, 6],\n",
              "          [7, 8, 9]]]),\n",
              " torch.Size([1, 3, 3]))"
            ]
          },
          "metadata": {},
          "execution_count": 147
        }
      ]
    },
    {
      "cell_type": "code",
      "source": [
        "# Indexing\n",
        "x[0]\n"
      ],
      "metadata": {
        "colab": {
          "base_uri": "https://localhost:8080/"
        },
        "id": "SEYFHqJl3vTy",
        "outputId": "2acbb48f-abb4-4c95-e1db-e9bf2307f434"
      },
      "execution_count": null,
      "outputs": [
        {
          "output_type": "execute_result",
          "data": {
            "text/plain": [
              "tensor([[1, 2, 3],\n",
              "        [4, 5, 6],\n",
              "        [7, 8, 9]])"
            ]
          },
          "metadata": {},
          "execution_count": 148
        }
      ]
    },
    {
      "cell_type": "code",
      "source": [
        "x[0][0]"
      ],
      "metadata": {
        "colab": {
          "base_uri": "https://localhost:8080/"
        },
        "id": "RQAdJkdo3zqP",
        "outputId": "8b15a9cb-f7fe-454f-ab94-b5aa101011dd"
      },
      "execution_count": null,
      "outputs": [
        {
          "output_type": "execute_result",
          "data": {
            "text/plain": [
              "tensor([1, 2, 3])"
            ]
          },
          "metadata": {},
          "execution_count": 149
        }
      ]
    },
    {
      "cell_type": "code",
      "source": [
        "x[0][0][0]"
      ],
      "metadata": {
        "colab": {
          "base_uri": "https://localhost:8080/"
        },
        "id": "29EETrgm31Ty",
        "outputId": "bb5fa4f2-a365-45d7-9583-2ed8a427e77b"
      },
      "execution_count": null,
      "outputs": [
        {
          "output_type": "execute_result",
          "data": {
            "text/plain": [
              "tensor(1)"
            ]
          },
          "metadata": {},
          "execution_count": 150
        }
      ]
    },
    {
      "cell_type": "code",
      "source": [
        "x[0][1][1]"
      ],
      "metadata": {
        "colab": {
          "base_uri": "https://localhost:8080/"
        },
        "id": "EYAE62oG4Go1",
        "outputId": "11c53557-70e2-4146-aaa6-7416553bbd00"
      },
      "execution_count": null,
      "outputs": [
        {
          "output_type": "execute_result",
          "data": {
            "text/plain": [
              "tensor(5)"
            ]
          },
          "metadata": {},
          "execution_count": 151
        }
      ]
    },
    {
      "cell_type": "code",
      "source": [
        "x[0][2][2]"
      ],
      "metadata": {
        "colab": {
          "base_uri": "https://localhost:8080/"
        },
        "id": "ZsUAgwLe4LOt",
        "outputId": "da5d6abd-84c7-44a3-e01e-cd4bc9ffe29b"
      },
      "execution_count": null,
      "outputs": [
        {
          "output_type": "execute_result",
          "data": {
            "text/plain": [
              "tensor(9)"
            ]
          },
          "metadata": {},
          "execution_count": 152
        }
      ]
    },
    {
      "cell_type": "code",
      "source": [
        "# Use : to select all of a specified dim\n",
        "x[0, :, 0] # all of 1st dim and first of 2nd"
      ],
      "metadata": {
        "colab": {
          "base_uri": "https://localhost:8080/"
        },
        "id": "ujfx7LxF4ORp",
        "outputId": "ac092372-72ff-4367-df9a-1d23ba30aa95"
      },
      "execution_count": null,
      "outputs": [
        {
          "output_type": "execute_result",
          "data": {
            "text/plain": [
              "tensor([1, 4, 7])"
            ]
          },
          "metadata": {},
          "execution_count": 153
        }
      ]
    },
    {
      "cell_type": "code",
      "source": [
        "# Get index 0 0th and 1st dim and all of 2nd\n",
        "x[0,0,:]"
      ],
      "metadata": {
        "colab": {
          "base_uri": "https://localhost:8080/"
        },
        "id": "qYBDQVpQ4lvr",
        "outputId": "1732d9f3-aaee-46da-ed16-fe9f3da8a713"
      },
      "execution_count": null,
      "outputs": [
        {
          "output_type": "execute_result",
          "data": {
            "text/plain": [
              "tensor([1, 2, 3])"
            ]
          },
          "metadata": {},
          "execution_count": 154
        }
      ]
    },
    {
      "cell_type": "markdown",
      "source": [
        "## PyTorch Tensors and NumPy\n",
        "\n",
        "NumPy is a computing library\n",
        "\n",
        "* Data in NumPy to PyTorch `torch.from_numpy(array\n",
        "\n",
        "```\n",
        "# This is formatted as code\n",
        "```\n",
        "\n",
        ")`\n",
        "* PyTorch to NumPy `torch.Tensor.numpy()`"
      ],
      "metadata": {
        "id": "pfLY0QbG5Gdx"
      }
    },
    {
      "cell_type": "code",
      "source": [
        "# NumPy array to tensor\n",
        "import torch\n",
        "import numpy as np\n",
        "\n",
        "array = np.arange(1.0, 8.0)\n",
        "tensor = torch.from_numpy(array)\n",
        "array, tensor\n",
        "\n",
        "# NumPy default dtype is float64 so when converting tensor will have same dtype\n",
        "# fix with\n",
        "# tensor = torch.from_numpy(array).type(torch.float32)"
      ],
      "metadata": {
        "colab": {
          "base_uri": "https://localhost:8080/"
        },
        "id": "my3ttmc65b-f",
        "outputId": "8bb49f29-1003-4cb5-ca4a-8ae6632e9cfb"
      },
      "execution_count": null,
      "outputs": [
        {
          "output_type": "execute_result",
          "data": {
            "text/plain": [
              "(array([1., 2., 3., 4., 5., 6., 7.]),\n",
              " tensor([1., 2., 3., 4., 5., 6., 7.], dtype=torch.float64))"
            ]
          },
          "metadata": {},
          "execution_count": 155
        }
      ]
    },
    {
      "cell_type": "code",
      "source": [
        "# Change the value of the array. Does the tensor also change\n",
        "\n",
        "array = array + 1\n",
        "array, tensor\n",
        "\n",
        "# No the memory is separate"
      ],
      "metadata": {
        "colab": {
          "base_uri": "https://localhost:8080/"
        },
        "id": "ctU1Gf_16L_m",
        "outputId": "3eecd96e-b587-4084-b261-3b97105246d4"
      },
      "execution_count": null,
      "outputs": [
        {
          "output_type": "execute_result",
          "data": {
            "text/plain": [
              "(array([2., 3., 4., 5., 6., 7., 8.]),\n",
              " tensor([1., 2., 3., 4., 5., 6., 7.], dtype=torch.float64))"
            ]
          },
          "metadata": {},
          "execution_count": 156
        }
      ]
    },
    {
      "cell_type": "code",
      "source": [
        "# Tensor to NumPy array\n",
        "tensor = torch.ones(7)\n",
        "numpy_tensor = tensor.numpy()\n",
        "tensor, numpy_tensor"
      ],
      "metadata": {
        "colab": {
          "base_uri": "https://localhost:8080/"
        },
        "id": "4regGunY6Wcs",
        "outputId": "14a59adb-8889-4a82-ccb1-81bac8d2a31e"
      },
      "execution_count": null,
      "outputs": [
        {
          "output_type": "execute_result",
          "data": {
            "text/plain": [
              "(tensor([1., 1., 1., 1., 1., 1., 1.]),\n",
              " array([1., 1., 1., 1., 1., 1., 1.], dtype=float32))"
            ]
          },
          "metadata": {},
          "execution_count": 157
        }
      ]
    },
    {
      "cell_type": "code",
      "source": [
        "# Change the tensor. Does numpy tensor change\n",
        "tensor = tensor + 1\n",
        "tensor, numpy_tensor\n",
        "\n",
        "# No they also dont share memory"
      ],
      "metadata": {
        "colab": {
          "base_uri": "https://localhost:8080/"
        },
        "id": "8yGJKCuz6pld",
        "outputId": "41442329-09da-4467-f06b-fd43eaeb186f"
      },
      "execution_count": null,
      "outputs": [
        {
          "output_type": "execute_result",
          "data": {
            "text/plain": [
              "(tensor([2., 2., 2., 2., 2., 2., 2.]),\n",
              " array([1., 1., 1., 1., 1., 1., 1.], dtype=float32))"
            ]
          },
          "metadata": {},
          "execution_count": 158
        }
      ]
    },
    {
      "cell_type": "markdown",
      "source": [
        "## Reproducibility (trying to take the random out of random)\n",
        "\n",
        "Neural networks:\n",
        "`start with rand numbers -> tensor ops -> update rand numbers -> again and again`\n",
        "\n",
        "To reduce the randomness in neural networks and PyTorch use the concept of a **random seed**\n",
        "\n",
        "Flavours the randomness\n"
      ],
      "metadata": {
        "id": "cv-A8ArI60rX"
      }
    },
    {
      "cell_type": "code",
      "source": [
        "import torch\n",
        "\n",
        "# Create two rand tensors\n",
        "rand_A = torch.rand(3, 4)\n",
        "rand_B = torch.rand(3, 4)\n",
        "\n",
        "print(rand_A)\n",
        "print(rand_B)\n",
        "print(rand_A == rand_B)\n"
      ],
      "metadata": {
        "colab": {
          "base_uri": "https://localhost:8080/"
        },
        "id": "7B3r9iFF7IxB",
        "outputId": "86118b22-7300-4816-b5fa-26a25a1cb936"
      },
      "execution_count": null,
      "outputs": [
        {
          "output_type": "stream",
          "name": "stdout",
          "text": [
            "tensor([[0.6571, 0.9869, 0.1249, 0.4902],\n",
            "        [0.1707, 0.5940, 0.4332, 0.7378],\n",
            "        [0.2040, 0.1315, 0.3011, 0.5599]])\n",
            "tensor([[0.3961, 0.5914, 0.6526, 0.6050],\n",
            "        [0.6712, 0.3457, 0.2492, 0.6921],\n",
            "        [0.4268, 0.3566, 0.9116, 0.7582]])\n",
            "tensor([[False, False, False, False],\n",
            "        [False, False, False, False],\n",
            "        [False, False, False, False]])\n"
          ]
        }
      ]
    },
    {
      "cell_type": "code",
      "source": [
        "# Create two rand tensors with a random seed (reproducible)\n",
        "\n",
        "# Set the seed\n",
        "random_seed = 34\n",
        "torch.manual_seed(random_seed)\n",
        "\n",
        "# Create tensors with random seed\n",
        "torch.manual_seed(random_seed)\n",
        "rand_C = torch.rand(3, 4)\n",
        "\n",
        "torch.manual_seed(random_seed)\n",
        "rand_D = torch.rand(3, 4)\n",
        "\n",
        "print(rand_C)\n",
        "print(rand_D)\n",
        "print(rand_C == rand_D)"
      ],
      "metadata": {
        "colab": {
          "base_uri": "https://localhost:8080/"
        },
        "id": "aCChyGJK7wb_",
        "outputId": "1f2a04cb-ddbc-4aa1-fbd9-fb700778e197"
      },
      "execution_count": null,
      "outputs": [
        {
          "output_type": "stream",
          "name": "stdout",
          "text": [
            "tensor([[0.8718, 0.1155, 0.7057, 0.3841],\n",
            "        [0.7322, 0.0119, 0.0205, 0.6273],\n",
            "        [0.5561, 0.9923, 0.6566, 0.8479]])\n",
            "tensor([[0.8718, 0.1155, 0.7057, 0.3841],\n",
            "        [0.7322, 0.0119, 0.0205, 0.6273],\n",
            "        [0.5561, 0.9923, 0.6566, 0.8479]])\n",
            "tensor([[True, True, True, True],\n",
            "        [True, True, True, True],\n",
            "        [True, True, True, True]])\n"
          ]
        }
      ]
    },
    {
      "cell_type": "markdown",
      "source": [
        "## Running tensors and PyTorch objects on the gpu"
      ],
      "metadata": {
        "id": "zyEA5DfJFsQ-"
      }
    },
    {
      "cell_type": "markdown",
      "source": [
        "### 1. Getting a gpu\n",
        "\n",
        "1. Easiest: Use google colab for free\n",
        "2. Use own: takes a bit of setup and need to purchase\n",
        "3. Cloud computing: GCP, AWS, Azure- rent online and access\n",
        "\n",
        "For 2,3 PyTorch + GPU drivers takes a bit of setup: refer to PyTorch setup docs"
      ],
      "metadata": {
        "id": "kdB3ETbYF-gR"
      }
    },
    {
      "cell_type": "markdown",
      "source": [
        "### 2. Check for GPU connection in PyTorch"
      ],
      "metadata": {
        "id": "To02an0YGgEs"
      }
    },
    {
      "cell_type": "code",
      "source": [
        "import torch\n",
        "torch.cuda.is_available()"
      ],
      "metadata": {
        "colab": {
          "base_uri": "https://localhost:8080/"
        },
        "id": "upWcsy-nHQB6",
        "outputId": "07e8ea15-4b23-49fe-a2a7-79025ded101d"
      },
      "execution_count": null,
      "outputs": [
        {
          "output_type": "execute_result",
          "data": {
            "text/plain": [
              "False"
            ]
          },
          "metadata": {},
          "execution_count": 161
        }
      ]
    },
    {
      "cell_type": "code",
      "source": [
        "# Setup device agnostic mode\n",
        "# BEST PRACTICE\n",
        "device = \"cuda\" if torch.cuda.is_available() else \"cpu\"\n",
        "device"
      ],
      "metadata": {
        "colab": {
          "base_uri": "https://localhost:8080/",
          "height": 35
        },
        "id": "jATJIY_EHa0t",
        "outputId": "b98e5262-3371-4c75-fb29-5aaffc646f91"
      },
      "execution_count": null,
      "outputs": [
        {
          "output_type": "execute_result",
          "data": {
            "text/plain": [
              "'cpu'"
            ],
            "application/vnd.google.colaboratory.intrinsic+json": {
              "type": "string"
            }
          },
          "metadata": {},
          "execution_count": 162
        }
      ]
    },
    {
      "cell_type": "code",
      "source": [
        "# Count number of devices\n",
        "torch.cuda.device_count()"
      ],
      "metadata": {
        "colab": {
          "base_uri": "https://localhost:8080/"
        },
        "id": "_0RT9hLfHmix",
        "outputId": "c07008da-2169-49bb-cdf7-71795d601ab0"
      },
      "execution_count": null,
      "outputs": [
        {
          "output_type": "execute_result",
          "data": {
            "text/plain": [
              "0"
            ]
          },
          "metadata": {},
          "execution_count": 163
        }
      ]
    },
    {
      "cell_type": "markdown",
      "source": [
        "### 3. Putting tensors ( and models) on the GPU\n",
        "\n",
        "The reason we want our tensors on the gpu is because it is faster"
      ],
      "metadata": {
        "id": "-67lveEIICmv"
      }
    },
    {
      "cell_type": "code",
      "source": [
        "# Create a tensor (default is cpu)\n",
        "tensor = torch.tensor([1,2,3], device = \"cpu\")\n",
        "\n",
        "# Tensor not on GPU\n",
        "print(tensor, tensor.device)\n"
      ],
      "metadata": {
        "colab": {
          "base_uri": "https://localhost:8080/"
        },
        "id": "qPxAB2F3ILYC",
        "outputId": "0be409ad-ac67-4e17-ab73-ba1d1ecce47d"
      },
      "execution_count": null,
      "outputs": [
        {
          "output_type": "stream",
          "name": "stdout",
          "text": [
            "tensor([1, 2, 3]) cpu\n"
          ]
        }
      ]
    },
    {
      "cell_type": "code",
      "source": [
        "# Move tensor to target device\n",
        "tensor_on_gpu = tensor.to(device)\n",
        "tensor_on_gpu"
      ],
      "metadata": {
        "colab": {
          "base_uri": "https://localhost:8080/"
        },
        "id": "RcMPwY1nIar8",
        "outputId": "d81fc4c2-be15-483c-eb05-88042d85bb0c"
      },
      "execution_count": null,
      "outputs": [
        {
          "output_type": "execute_result",
          "data": {
            "text/plain": [
              "tensor([1, 2, 3])"
            ]
          },
          "metadata": {},
          "execution_count": 165
        }
      ]
    },
    {
      "cell_type": "markdown",
      "source": [
        "### 4. Moving tensors back to the GPU"
      ],
      "metadata": {
        "id": "UnCQGpE-I24X"
      }
    },
    {
      "cell_type": "code",
      "source": [
        "# If tensor is on GPU, can't transform to NumPy\n",
        "\n",
        "#tensor_on_gpu.numpy()\n",
        "\n",
        "# Results in device error so use\n",
        "\n",
        "tensor_back_on_cpu = tensor_on_gpu.cpu().numpy()\n",
        "tensor_back_on_cpu, tensor_on_gpu\n"
      ],
      "metadata": {
        "colab": {
          "base_uri": "https://localhost:8080/"
        },
        "id": "Cy4E4kUpI9ny",
        "outputId": "350d6551-06ce-44b1-fc4d-325f261d98f8"
      },
      "execution_count": null,
      "outputs": [
        {
          "output_type": "execute_result",
          "data": {
            "text/plain": [
              "(array([1, 2, 3]), tensor([1, 2, 3]))"
            ]
          },
          "metadata": {},
          "execution_count": 166
        }
      ]
    },
    {
      "cell_type": "markdown",
      "source": [
        "# **01.** PyTorch Workflow"
      ],
      "metadata": {
        "id": "e7X5FAt0J_2l"
      }
    },
    {
      "cell_type": "markdown",
      "source": [
        "\n",
        "\n",
        "1.   Get data ready into tensors\n",
        "2.   Build/pick a model\n",
        "     * Pick loss function and optimizer\n",
        "     * Build the training loop\n",
        "3.   Fit model to data and make prediction\n",
        "4.   Evaluate model\n",
        "5.   Improve through experimentation\n",
        "6.   Save and reload trained model\n",
        "\n",
        "\n",
        "\n"
      ],
      "metadata": {
        "id": "TySLJvjANkcA"
      }
    },
    {
      "cell_type": "code",
      "source": [
        "import torch\n",
        "from torch import nn # Contains all of the building blocks for neural networks\n",
        "import matplotlib.pyplot as plt\n",
        "# Check PyTorch version: need at least 1.10.0+cu111\n",
        "torch.__version__\n"
      ],
      "metadata": {
        "colab": {
          "base_uri": "https://localhost:8080/"
        },
        "id": "SrKjvlQ8ObMI",
        "outputId": "8cc62583-74c0-4f18-8a3d-00edfbb51b7c"
      },
      "execution_count": null,
      "outputs": [
        {
          "output_type": "execute_result",
          "data": {
            "text/plain": [
              "'2.5.0+cu121'"
            ],
            "application/vnd.google.colaboratory.intrinsic+json": {
              "type": "string"
            }
          },
          "metadata": {},
          "execution_count": 1
        }
      ]
    },
    {
      "cell_type": "markdown",
      "source": [
        "## 1. Data (preparing and loading)\n",
        "\n",
        "Data can be almost anything\n",
        "\n",
        "* Spreadsheet\n",
        "* Images\n",
        "* Videos\n",
        "* DNA\n",
        "* Text\n",
        "* etc\n",
        "\n",
        "To do this lets create some *known* data with a linear regression formula: \\begin{equation}\n",
        "y = \\mathrm{weight} \\cdot X + \\mathrm{bias}\n",
        "\\end{equation}\n",
        "\n"
      ],
      "metadata": {
        "id": "6ZszIGrMPHtK"
      }
    },
    {
      "cell_type": "code",
      "source": [
        "# Create known parameters\n",
        "weight = .7 # slope\n",
        "bias = .3 # intercept\n",
        "\n",
        "start = 0\n",
        "end = 1\n",
        "step = .02\n",
        "X = torch.arange(start, end, step).unsqueeze(dim = 1)\n",
        "y = weight * X + bias\n",
        "X[:10],y[:10] # shows first 10 parts of each"
      ],
      "metadata": {
        "colab": {
          "base_uri": "https://localhost:8080/"
        },
        "id": "prWkwTaaPUeZ",
        "outputId": "d7efc24d-4a03-4bed-a561-e220a7e3e4c8"
      },
      "execution_count": null,
      "outputs": [
        {
          "output_type": "execute_result",
          "data": {
            "text/plain": [
              "(tensor([[0.0000],\n",
              "         [0.0200],\n",
              "         [0.0400],\n",
              "         [0.0600],\n",
              "         [0.0800],\n",
              "         [0.1000],\n",
              "         [0.1200],\n",
              "         [0.1400],\n",
              "         [0.1600],\n",
              "         [0.1800]]),\n",
              " tensor([[0.3000],\n",
              "         [0.3140],\n",
              "         [0.3280],\n",
              "         [0.3420],\n",
              "         [0.3560],\n",
              "         [0.3700],\n",
              "         [0.3840],\n",
              "         [0.3980],\n",
              "         [0.4120],\n",
              "         [0.4260]]))"
            ]
          },
          "metadata": {},
          "execution_count": 2
        }
      ]
    },
    {
      "cell_type": "markdown",
      "source": [
        "### Splitting data into training and test sets\n",
        "One of the most important concepts in machine learning.\n",
        "\n",
        "3 Sets of data:\n",
        "\n",
        "1. Training set: Always used and usually 60-80% of data\n",
        "2. Validation set: Not always used and usually 10-20%\n",
        "3. Testing set: Always used and usually 10-20% of data\n"
      ],
      "metadata": {
        "id": "QUpIkq2DQ2e1"
      }
    },
    {
      "cell_type": "code",
      "source": [
        "# Create the training and testing sets\n",
        "\n",
        "train_split = int(.8 * len(X))\n",
        "X_train, y_train = X[:train_split], y[:train_split]\n",
        "X_test, y_test = X[train_split:], y[train_split:]\n",
        "len(X_train), len(y_train), len(X_test), len(y_test)"
      ],
      "metadata": {
        "colab": {
          "base_uri": "https://localhost:8080/"
        },
        "id": "1w069361RwvS",
        "outputId": "a08b144f-7339-4b27-c4d0-ef064754e5d8"
      },
      "execution_count": null,
      "outputs": [
        {
          "output_type": "execute_result",
          "data": {
            "text/plain": [
              "(40, 40, 10, 10)"
            ]
          },
          "metadata": {},
          "execution_count": 3
        }
      ]
    },
    {
      "cell_type": "code",
      "source": [
        "# Let's visualize the data\n",
        "\n",
        "def plot_predictions(train_data = X_train,\n",
        "                     train_labels = y_train,\n",
        "                     test_data = X_test,\n",
        "                     test_labels = y_test,\n",
        "                     predictions = None):\n",
        "  \"\"\"\n",
        "  Plots training data, test data, and prediction from model.\n",
        "  \"\"\"\n",
        "\n",
        "  plt.figure(figsize=(6,4))\n",
        "\n",
        "# Plot training data in blue\n",
        "  plt.scatter(train_data, train_labels, c = 'b', s = 4, label = \"Training Data\")\n",
        "\n",
        "# Plot training data in green\n",
        "  plt.scatter(test_data, test_labels, c = 'g', s = 4, label = \"Testing Data\")\n",
        "\n",
        "  if predictions is not None:\n",
        "    plt.scatter(test_data, predictions, c = \"r\", s = 4, label = \"predictions\")\n",
        "\n",
        "# Show the legend\n",
        "  plt.legend(prop = {\"size\": 14})"
      ],
      "metadata": {
        "id": "ywoR-p4PSOkk"
      },
      "execution_count": null,
      "outputs": []
    },
    {
      "cell_type": "code",
      "source": [
        "plot_predictions();"
      ],
      "metadata": {
        "colab": {
          "base_uri": "https://localhost:8080/"
        },
        "id": "woOyM6TnTtgj",
        "outputId": "eb272a75-da94-4333-9248-285fee8647e1"
      },
      "execution_count": null,
      "outputs": [
        {
          "output_type": "display_data",
          "data": {
            "text/plain": [
              "<Figure size 600x400 with 1 Axes>"
            ],
            "image/png": "[encoded data removed]"
          },
          "metadata": {}
        }
      ]
    },
    {
      "cell_type": "markdown",
      "source": [
        "## 2. Building our first PyTorch model\n",
        "\n",
        "We use classes here and throughout the course:\n",
        "\n",
        "To get familiar with them and Object Oriented Programming use Real Python https://realpython.com/python3-object-oriented-programming/"
      ],
      "metadata": {
        "id": "RjZgC4vBVQjR"
      }
    },
    {
      "cell_type": "code",
      "source": [
        "# Create a linear regression model class\n",
        "class LinearRegressionModel(nn.Module): # almost everything in PyTorch inherits from nn.Module\n",
        "  def __init__(self):\n",
        "    super().__init__()\n",
        "    # We are creating the model parameters here\n",
        "    # This is not always done manually: PyTorch can construct the layers itself\n",
        "    self.weights = nn.Parameter(torch.randn(1,\n",
        "                                            requires_grad = True,\n",
        "                                            dtype = torch.float))\n",
        "    self.bias = nn.Parameter(torch.randn(1,\n",
        "                                         requires_grad = True,\n",
        "                                         dtype = torch.float))\n",
        "\n",
        "    # Forward method to define the computation in the model\n",
        "  def forward(self, x: torch.Tensor) -> torch.Tensor: # x is input data\n",
        "    return self.weights * x + self.bias # this is the linear regression formula\n",
        "\n"
      ],
      "metadata": {
        "id": "Yv28kMehVXZZ"
      },
      "execution_count": null,
      "outputs": []
    },
    {
      "cell_type": "markdown",
      "source": [
        "### PyTorch model building essentials\n",
        "\n",
        "* torch.nn - contains of the buildigns for computational graphs\n",
        "* torch.nn.Parameter - what paraemters should our model try and learn, often set for us\n",
        "* torch.nn.Module - The base class for all neural networks, if it is subclassed it should have forward() overwritten\n",
        "* torch.optim - The optimizers in PyTorch live here\n",
        "* def forward() - All nn.Module subclasses require you to overwrite forward(), this method defines what happens in the forward computation\n",
        "* torch.utils.data.Dataset - Represents a map between key (label) and sample (features) pairs of the data\n",
        "* torch.utils.data.Dataloader - Creates a python iterable over a torch Dataset ( allows iteration over data)\n",
        "\n",
        "See more in the PyTorch Cheat Sheet"
      ],
      "metadata": {
        "id": "-iFDTf9tZG9J"
      }
    },
    {
      "cell_type": "markdown",
      "source": [
        "### Checking the contents of our model\n",
        "\n",
        "Now that we've created a model, how do we see whats inside of it.\n",
        "\n",
        "We check the model parameters with `.parameters()`\n",
        "\n"
      ],
      "metadata": {
        "id": "UUrwdGaPauSi"
      }
    },
    {
      "cell_type": "code",
      "source": [
        "# Create a random seed so that the parameters are reproducible\n",
        "torch.manual_seed(2)\n",
        "\n",
        "# Create an instance of the model (this is a subclass of nn.Module)\n",
        "model_0 = LinearRegressionModel()\n",
        "\n",
        "# List the parameters\n",
        "list(model_0.parameters())"
      ],
      "metadata": {
        "colab": {
          "base_uri": "https://localhost:8080/"
        },
        "id": "L-KehiWYa8v7",
        "outputId": "81bcc8a1-0262-46ea-85e1-a6b175a0f457"
      },
      "execution_count": null,
      "outputs": [
        {
          "output_type": "execute_result",
          "data": {
            "text/plain": [
              "[Parameter containing:\n",
              " tensor([0.3923], requires_grad=True),\n",
              " Parameter containing:\n",
              " tensor([-0.2236], requires_grad=True)]"
            ]
          },
          "metadata": {},
          "execution_count": 7
        }
      ]
    },
    {
      "cell_type": "code",
      "source": [
        "# List named parameters\n",
        "model_0.state_dict()\n"
      ],
      "metadata": {
        "colab": {
          "base_uri": "https://localhost:8080/"
        },
        "id": "8G1_jhXyFpuo",
        "outputId": "aebec086-2d84-47e7-8411-8a5a0cb3b0b1"
      },
      "execution_count": null,
      "outputs": [
        {
          "output_type": "execute_result",
          "data": {
            "text/plain": [
              "OrderedDict([('weights', tensor([0.3923])), ('bias', tensor([-0.2236]))])"
            ]
          },
          "metadata": {},
          "execution_count": 8
        }
      ]
    },
    {
      "cell_type": "markdown",
      "source": [
        "In this simple case we want to get these random values closer and closer to the known values.\n",
        "\n",
        "In general we won't know what the final values need to be but can still get to a good approximation."
      ],
      "metadata": {
        "id": "n5GN2ByDFz8r"
      }
    },
    {
      "cell_type": "markdown",
      "source": [
        "### Making prediction using `torch.inference_mode()`\n",
        "\n",
        "How well does our model predict `y_test` based on `x_test`\n",
        "\n",
        "When we pass data through our model, its going to run it through the forward() method."
      ],
      "metadata": {
        "id": "pqVqVgz-GBLF"
      }
    },
    {
      "cell_type": "code",
      "source": [
        "# Make predictions with the model\n",
        "with torch.inference_mode():\n",
        "  y_preds = model_0(X_test)\n",
        "\n",
        "y_preds"
      ],
      "metadata": {
        "colab": {
          "base_uri": "https://localhost:8080/"
        },
        "id": "e3k6D5ZdGWWD",
        "outputId": "b6c42ac1-d700-4643-fcd0-c44ff383ef29"
      },
      "execution_count": null,
      "outputs": [
        {
          "output_type": "execute_result",
          "data": {
            "text/plain": [
              "tensor([[0.0903],\n",
              "        [0.0981],\n",
              "        [0.1060],\n",
              "        [0.1138],\n",
              "        [0.1217],\n",
              "        [0.1295],\n",
              "        [0.1373],\n",
              "        [0.1452],\n",
              "        [0.1530],\n",
              "        [0.1609]])"
            ]
          },
          "metadata": {},
          "execution_count": 9
        }
      ]
    },
    {
      "cell_type": "code",
      "source": [
        "plot_predictions(predictions = y_preds)"
      ],
      "metadata": {
        "colab": {
          "base_uri": "https://localhost:8080/"
        },
        "id": "IHXYfCHMG6Xu",
        "outputId": "adc3f93b-4751-4d3f-d60c-ea6b98c3b8fe"
      },
      "execution_count": null,
      "outputs": [
        {
          "output_type": "display_data",
          "data": {
            "text/plain": [
              "<Figure size 600x400 with 1 Axes>"
            ],
            "image/png": "[encoded data removed]"
          },
          "metadata": {}
        }
      ]
    },
    {
      "cell_type": "markdown",
      "source": [
        "Obviously with the random parameters initially the predictions are not good.\n",
        "\n",
        "Using `inference_mode` disables the gradient and certain other memory aspects that aren't needed during the prediction/inference steps."
      ],
      "metadata": {
        "id": "J8aNBJ89Hu7c"
      }
    },
    {
      "cell_type": "markdown",
      "source": [
        "### 3. Train Model\n",
        "\n",
        "We need a way to measure how poor the predictions are.\n",
        "\n",
        "The way we do this is with a loss function. There are many loss functions implemented in PyTorch.\n",
        "\n",
        "Things needed for the training:\n",
        "\n",
        "* Loss Function: We will use a L1 loss function `nn.L1Loss` for this model\n",
        "* Optimizer: We will use SGQ (most popular)\n",
        "\n"
      ],
      "metadata": {
        "id": "StEyRGRfI9uj"
      }
    },
    {
      "cell_type": "code",
      "source": [
        "# Setup the loss function\n",
        "loss_fn = nn.L1Loss()\n",
        "\n",
        "# Setup the optimizer\n",
        "optimizer = torch.optim.SGD(params = model_0.parameters(),\n",
        "                            lr = 0.01) # lr = learning rate (VERY IMPORTANT VALUE)\n"
      ],
      "metadata": {
        "id": "IbyaNqewJAHP"
      },
      "execution_count": null,
      "outputs": []
    },
    {
      "cell_type": "markdown",
      "source": [
        "### Build a training (and testing) loop\n",
        "\n",
        "What we need in a training loop:\n",
        "0. Loop through the data\n",
        "1. Forward pass or propogation (data moves through the forward functions)\n",
        "2. Calculate the loss\n",
        "3. Optimizer zero grad\n",
        "4. Loss backward (move backwards through the network to calculate the gradients of each of the parameters wrt the loss)\n",
        "5. Optimizer step (use the optimizer to adjust our model's parameters to try to improve the loss **Gradient Descent**)"
      ],
      "metadata": {
        "id": "LK0ZfyPnMpMV"
      }
    },
    {
      "cell_type": "code",
      "source": [
        "model_0.state_dict()"
      ],
      "metadata": {
        "colab": {
          "base_uri": "https://localhost:8080/"
        },
        "id": "0CWvP4hUweBc",
        "outputId": "7b24cdd0-20a2-43aa-b3ce-f8eedc5cbd12"
      },
      "execution_count": null,
      "outputs": [
        {
          "output_type": "execute_result",
          "data": {
            "text/plain": [
              "OrderedDict([('weights', tensor([0.3923])), ('bias', tensor([-0.2236]))])"
            ]
          },
          "metadata": {},
          "execution_count": 12
        }
      ]
    },
    {
      "cell_type": "code",
      "source": [
        "# An Epoch is one loop through the data\n",
        "epochs = 200 # this is a hyper parameter because we've set it ourselves\n",
        "\n",
        "\n",
        "epoch_count = []\n",
        "loss_values = []\n",
        "test_loss_values = []\n",
        "# 0. Loop through data\n",
        "for epoch in range(epochs):\n",
        "  # Set the model to training mode\n",
        "  # Training loop\n",
        "  model_0.train() # train mode sets all parameters needing gradients to require_grad\n",
        "\n",
        "  # 1. Forward Pass\n",
        "  y_pred = model_0(X_train)\n",
        "\n",
        "  # 2. Calc the loss\n",
        "  loss = loss_fn(y_pred, y_train)\n",
        "\n",
        "  # 3. Optimizer zero grad\n",
        "  optimizer.zero_grad()\n",
        "\n",
        "  # 4. Perform backprop on the loss wrt the parameters of the model\n",
        "  loss.backward()\n",
        "\n",
        "  # 5. Step the optimizer (perform gradient descent)\n",
        "  optimizer.step()\n",
        "\n",
        "  # Set the model to eval mode\n",
        "  # Testing loop\n",
        "  model_0.eval() # turns off gradient tracking\n",
        "  with torch.inference_mode():\n",
        "    # 1. Forward Pass\n",
        "    test_pred = model_0(X_test)\n",
        "\n",
        "    # 2. Calculate Test Loss\n",
        "    test_loss = loss_fn(test_pred, y_test)\n",
        "  if epoch % 10 == 0:\n",
        "    epoch_count.append(epoch)\n",
        "    loss_values.append(loss)\n",
        "    test_loss_values.append(test_loss)\n",
        "\n",
        "    print(f\"Epoch: {epoch} | Loss: {loss} | Test Loss: {test_loss}\")\n",
        "    print(model_0.state_dict())\n"
      ],
      "metadata": {
        "colab": {
          "base_uri": "https://localhost:8080/"
        },
        "id": "hs4b6u6iNqcj",
        "outputId": "c66691c8-9f09-45af-ce1c-c433381a6ef0"
      },
      "execution_count": null,
      "outputs": [
        {
          "output_type": "stream",
          "name": "stdout",
          "text": [
            "Epoch: 0 | Loss: 0.6435682773590088 | Test Loss: 0.7839487791061401\n",
            "OrderedDict([('weights', tensor([0.3962])), ('bias', tensor([-0.2136]))])\n",
            "Epoch: 10 | Loss: 0.5283582806587219 | Test Loss: 0.6492388844490051\n",
            "OrderedDict([('weights', tensor([0.4352])), ('bias', tensor([-0.1136]))])\n",
            "Epoch: 20 | Loss: 0.41314831376075745 | Test Loss: 0.5145289897918701\n",
            "OrderedDict([('weights', tensor([0.4742])), ('bias', tensor([-0.0136]))])\n",
            "Epoch: 30 | Loss: 0.2979383170604706 | Test Loss: 0.3798190653324127\n",
            "OrderedDict([('weights', tensor([0.5132])), ('bias', tensor([0.0864]))])\n",
            "Epoch: 40 | Loss: 0.1827283352613449 | Test Loss: 0.24510908126831055\n",
            "OrderedDict([('weights', tensor([0.5522])), ('bias', tensor([0.1864]))])\n",
            "Epoch: 50 | Loss: 0.06751836836338043 | Test Loss: 0.11039917171001434\n",
            "OrderedDict([('weights', tensor([0.5912])), ('bias', tensor([0.2864]))])\n",
            "Epoch: 60 | Loss: 0.016020705923438072 | Test Loss: 0.03857617825269699\n",
            "OrderedDict([('weights', tensor([0.6219])), ('bias', tensor([0.3309]))])\n",
            "Epoch: 70 | Loss: 0.012479040771722794 | Test Loss: 0.028251904994249344\n",
            "OrderedDict([('weights', tensor([0.6397])), ('bias', tensor([0.3254]))])\n",
            "Epoch: 80 | Loss: 0.009042811580002308 | Test Loss: 0.020666247233748436\n",
            "OrderedDict([('weights', tensor([0.6566])), ('bias', tensor([0.3179]))])\n",
            "Epoch: 90 | Loss: 0.005614229943603277 | Test Loss: 0.012393707409501076\n",
            "OrderedDict([('weights', tensor([0.6738])), ('bias', tensor([0.3109]))])\n",
            "Epoch: 100 | Loss: 0.0021754212211817503 | Test Loss: 0.004121154546737671\n",
            "OrderedDict([('weights', tensor([0.6909])), ('bias', tensor([0.3039]))])\n",
            "Epoch: 110 | Loss: 0.0025422864127904177 | Test Loss: 0.008392000570893288\n",
            "OrderedDict([('weights', tensor([0.6988])), ('bias', tensor([0.3094]))])\n",
            "Epoch: 120 | Loss: 0.0025422864127904177 | Test Loss: 0.008392000570893288\n",
            "OrderedDict([('weights', tensor([0.6988])), ('bias', tensor([0.3094]))])\n",
            "Epoch: 130 | Loss: 0.0025422864127904177 | Test Loss: 0.008392000570893288\n",
            "OrderedDict([('weights', tensor([0.6988])), ('bias', tensor([0.3094]))])\n",
            "Epoch: 140 | Loss: 0.0025422864127904177 | Test Loss: 0.008392000570893288\n",
            "OrderedDict([('weights', tensor([0.6988])), ('bias', tensor([0.3094]))])\n",
            "Epoch: 150 | Loss: 0.0025422864127904177 | Test Loss: 0.008392000570893288\n",
            "OrderedDict([('weights', tensor([0.6988])), ('bias', tensor([0.3094]))])\n",
            "Epoch: 160 | Loss: 0.0025422864127904177 | Test Loss: 0.008392000570893288\n",
            "OrderedDict([('weights', tensor([0.6988])), ('bias', tensor([0.3094]))])\n",
            "Epoch: 170 | Loss: 0.0025422864127904177 | Test Loss: 0.008392000570893288\n",
            "OrderedDict([('weights', tensor([0.6988])), ('bias', tensor([0.3094]))])\n",
            "Epoch: 180 | Loss: 0.0025422864127904177 | Test Loss: 0.008392000570893288\n",
            "OrderedDict([('weights', tensor([0.6988])), ('bias', tensor([0.3094]))])\n",
            "Epoch: 190 | Loss: 0.0025422864127904177 | Test Loss: 0.008392000570893288\n",
            "OrderedDict([('weights', tensor([0.6988])), ('bias', tensor([0.3094]))])\n"
          ]
        }
      ]
    },
    {
      "cell_type": "code",
      "source": [
        "model_0.state_dict()"
      ],
      "metadata": {
        "colab": {
          "base_uri": "https://localhost:8080/"
        },
        "id": "F3ypILgPwpDh",
        "outputId": "b6137534-f054-42bd-ef0f-6d0668bfb438"
      },
      "execution_count": null,
      "outputs": [
        {
          "output_type": "execute_result",
          "data": {
            "text/plain": [
              "OrderedDict([('weights', tensor([0.6949])), ('bias', tensor([0.2994]))])"
            ]
          },
          "metadata": {},
          "execution_count": 14
        }
      ]
    },
    {
      "cell_type": "markdown",
      "source": [
        "The learning rate of .01 results in a double fixed point around minumum. It alternates b/w after that.\n",
        "\n",
        ".001 is similar but the fixed points are much closer to the min."
      ],
      "metadata": {
        "id": "HPoYAT4-xhP-"
      }
    },
    {
      "cell_type": "code",
      "source": [
        "# Plotting the loss curves\n",
        "import numpy as np\n",
        "plt.plot(epoch_count, np.array(torch.tensor(loss_values).numpy()), label = \"Train Loss\")\n",
        "plt.plot(epoch_count, np.array(torch.tensor(test_loss_values).numpy()), label = \"Test Loss\")\n",
        "plt.title(\"Training vs Test Loss Curves\")\n",
        "plt.ylabel(\"Loss\")\n",
        "plt.xlabel(\"Epoch\")\n",
        "plt.legend();"
      ],
      "metadata": {
        "colab": {
          "base_uri": "https://localhost:8080/"
        },
        "id": "ArpruJ6EerQ1",
        "outputId": "be0ace89-118d-4827-ff18-184bc26588e8"
      },
      "execution_count": null,
      "outputs": [
        {
          "output_type": "display_data",
          "data": {
            "text/plain": [
              "<Figure size 640x480 with 1 Axes>"
            ],
            "image/png": "[encoded data removed]"
          },
          "metadata": {}
        }
      ]
    },
    {
      "cell_type": "markdown",
      "source": [
        "## Saving and Loading our Models\n",
        "\n",
        "There are three main methods for saving and loading models in PyTorch.\n",
        "\n",
        "1. `torch.save()` - allows you to save a PyTorch objext in Python's pickle format\n",
        "2. `torch.load()` - allows you to load a saved PyTorch object\n",
        "3. `torch.nn.Module.load_state_dict()` - this allows to load a model's saved state dictionary\n",
        "\n",
        "See Saving and Loading Models: PyTorch docs for more info."
      ],
      "metadata": {
        "id": "nqi1dYSIf71S"
      }
    },
    {
      "cell_type": "code",
      "source": [
        "# PyTorch save and load code\n",
        "from pathlib import Path\n",
        "\n",
        "# 1. Create a model directory\n",
        "MODEL_PATH = Path(\"models\")\n",
        "MODEL_PATH.mkdir(parents = True, exist_ok = True)\n",
        "\n",
        "# 2. Create a model save path\n",
        "MODEL_NAME = \"01_pytorch_workflow_model_0.pth\"\n",
        "MODEL_SAVE_PATH = MODEL_PATH/MODEL_NAME\n",
        "\n",
        "# 3. Save the model state_dict()\n",
        "print(f\"Saving model to: {MODEL_SAVE_PATH}\")\n",
        "torch.save(obj = model_0.state_dict(),\n",
        "           f = MODEL_SAVE_PATH)"
      ],
      "metadata": {
        "colab": {
          "base_uri": "https://localhost:8080/"
        },
        "id": "YYfBHoSchLRy",
        "outputId": "7e011761-7433-4849-df19-bfd02565f4c1"
      },
      "execution_count": null,
      "outputs": [
        {
          "output_type": "stream",
          "name": "stdout",
          "text": [
            "Saving model to: models/01_pytorch_workflow_model_0.pth\n"
          ]
        }
      ]
    },
    {
      "cell_type": "code",
      "source": [
        "!ls -1 models # lists all of our saved models"
      ],
      "metadata": {
        "colab": {
          "base_uri": "https://localhost:8080/"
        },
        "id": "xEqQCojRjMDQ",
        "outputId": "c9405bd3-44e1-440f-d9d3-5053a6d61e4e"
      },
      "execution_count": null,
      "outputs": [
        {
          "output_type": "stream",
          "name": "stdout",
          "text": [
            "01_pytorch_workflow_model_0.pth\n"
          ]
        }
      ]
    },
    {
      "cell_type": "markdown",
      "source": [
        "## Loading a Model\n",
        "\n",
        "Since we've saved our model's `state_dict()` rather than the entire model, we'll create a new instance of our model class and put the `state_dict()` into that.\n"
      ],
      "metadata": {
        "id": "Ws7USyPmjl3X"
      }
    },
    {
      "cell_type": "code",
      "source": [
        "# Instantiate a new instance of our model class\n",
        "loaded_model_0 = LinearRegressionModel()\n",
        "\n",
        "# Load the state_dict of model_0 into our new model\n",
        "loaded_model_0.load_state_dict(torch.load(f=MODEL_SAVE_PATH))"
      ],
      "metadata": {
        "colab": {
          "base_uri": "https://localhost:8080/"
        },
        "id": "gmaOVST-j5QT",
        "outputId": "1434f71b-af7e-429f-a96d-983afc80ae29"
      },
      "execution_count": null,
      "outputs": [
        {
          "output_type": "stream",
          "name": "stderr",
          "text": [
            "<ipython-input-18-1124e200fcb6>:5: FutureWarning: You are using `torch.load` with `weights_only=False` (the current default value), which uses the default pickle module implicitly. It is possible to construct malicious pickle data which will execute arbitrary code during unpickling (See https://github.com/pytorch/pytorch/blob/main/SECURITY.md#untrusted-models for more details). In a future release, the default value for `weights_only` will be flipped to `True`. This limits the functions that could be executed during unpickling. Arbitrary objects will no longer be allowed to be loaded via this mode unless they are explicitly allowlisted by the user via `torch.serialization.add_safe_globals`. We recommend you start setting `weights_only=True` for any use case where you don't have full control of the loaded file. Please open an issue on GitHub for any issues related to this experimental feature.\n",
            "  loaded_model_0.load_state_dict(torch.load(f=MODEL_SAVE_PATH))\n"
          ]
        },
        {
          "output_type": "execute_result",
          "data": {
            "text/plain": [
              "<All keys matched successfully>"
            ]
          },
          "metadata": {},
          "execution_count": 18
        }
      ]
    },
    {
      "cell_type": "code",
      "source": [
        "# Check the new model\n",
        "loaded_model_0.eval()\n",
        "with torch.inference_mode():\n",
        "  loaded_model_preds = loaded_model_0(X_test)\n",
        "\n",
        "loaded_model_preds"
      ],
      "metadata": {
        "colab": {
          "base_uri": "https://localhost:8080/"
        },
        "id": "0zPAlYw9kYgP",
        "outputId": "b991bafc-404a-4426-90dd-92e188ec9b12"
      },
      "execution_count": null,
      "outputs": [
        {
          "output_type": "execute_result",
          "data": {
            "text/plain": [
              "tensor([[0.8554],\n",
              "        [0.8693],\n",
              "        [0.8832],\n",
              "        [0.8971],\n",
              "        [0.9110],\n",
              "        [0.9249],\n",
              "        [0.9388],\n",
              "        [0.9527],\n",
              "        [0.9666],\n",
              "        [0.9805]])"
            ]
          },
          "metadata": {},
          "execution_count": 19
        }
      ]
    },
    {
      "cell_type": "code",
      "source": [
        "plot_predictions(predictions = loaded_model_preds)"
      ],
      "metadata": {
        "colab": {
          "base_uri": "https://localhost:8080/"
        },
        "id": "BuPRynAAkmyk",
        "outputId": "6c3d5689-ac34-4ff6-ff18-db62ba285d27"
      },
      "execution_count": null,
      "outputs": [
        {
          "output_type": "display_data",
          "data": {
            "text/plain": [
              "<Figure size 600x400 with 1 Axes>"
            ],
            "image/png": "[encoded data removed]"
          },
          "metadata": {}
        }
      ]
    },
    {
      "cell_type": "markdown",
      "source": [
        "## 6. Putting it all together\n",
        "\n",
        "Let's go back through the steps to see what all we've done."
      ],
      "metadata": {
        "id": "bbzyVJh-lJEJ"
      }
    },
    {
      "cell_type": "code",
      "source": [
        "import torch\n",
        "from torch import nn\n",
        "import matplotlib.pyplot as plt\n",
        "\n",
        "# Check Torch Version\n",
        "torch.__version__"
      ],
      "metadata": {
        "colab": {
          "base_uri": "https://localhost:8080/"
        },
        "id": "6DdAP07d5v_m",
        "outputId": "030c3bcf-bff5-4870-fa0a-582ac906380d"
      },
      "execution_count": null,
      "outputs": [
        {
          "output_type": "execute_result",
          "data": {
            "text/plain": [
              "'2.5.0+cu121'"
            ],
            "application/vnd.google.colaboratory.intrinsic+json": {
              "type": "string"
            }
          },
          "metadata": {},
          "execution_count": 21
        }
      ]
    },
    {
      "cell_type": "code",
      "source": [
        "# Create device agnostic code\n",
        "device = \"cuda\" if torch.cuda.is_available() else \"cpu\"\n",
        "print(f\"Using device: {device}\")\n"
      ],
      "metadata": {
        "colab": {
          "base_uri": "https://localhost:8080/"
        },
        "id": "PqZmARTO57TO",
        "outputId": "2feb5d51-afed-46f6-e44b-bb8c54cea21e"
      },
      "execution_count": null,
      "outputs": [
        {
          "output_type": "stream",
          "name": "stdout",
          "text": [
            "Using device: cpu\n"
          ]
        }
      ]
    },
    {
      "cell_type": "code",
      "source": [
        "# Create some data using the linear regression formula\n",
        "weight = .3\n",
        "bias = .7\n",
        "\n",
        "start = 0\n",
        "end = 1\n",
        "step = .02\n",
        "\n",
        "X = torch.arange(start, end, step).unsqueeze(dim = 1) # without unsqueeze errors pop up due to mat mult\n",
        "y = weight*X + bias\n"
      ],
      "metadata": {
        "id": "P7SGj-ev6Q9R"
      },
      "execution_count": null,
      "outputs": []
    },
    {
      "cell_type": "code",
      "source": [
        "# Split the data\n",
        "train_split = int(0.8 * len(X))\n",
        "X_train, y_train = X[:train_split], y[:train_split]\n",
        "X_test, y_test = X[train_split:], y[train_split:]\n"
      ],
      "metadata": {
        "id": "S2GE1KGK7OdQ"
      },
      "execution_count": null,
      "outputs": []
    },
    {
      "cell_type": "code",
      "source": [
        "plot_predictions()"
      ],
      "metadata": {
        "colab": {
          "base_uri": "https://localhost:8080/"
        },
        "id": "BZTZFRna7taC",
        "outputId": "be758630-672d-4c15-ba5f-b7e436a90cca"
      },
      "execution_count": null,
      "outputs": [
        {
          "output_type": "display_data",
          "data": {
            "text/plain": [
              "<Figure size 600x400 with 1 Axes>"
            ],
            "image/png": "[encoded data removed]"
          },
          "metadata": {}
        }
      ]
    },
    {
      "cell_type": "code",
      "source": [
        "# Build the PyTorch linear model\n",
        "\n",
        "class LinearRegressionModel2(nn.Module):\n",
        "  def __init__(self):\n",
        "    super().__init__()\n",
        "\n",
        "    # Use nn.Linear() for creating the model parameters\n",
        "    self.linear_layer = nn.Linear(in_features = 1,\n",
        "                                  out_features = 1)\n",
        "\n",
        "  def forward(self, x: torch.Tensor) -> torch.Tensor:\n",
        "    return self.linear_layer(x)\n",
        "\n",
        "\n",
        "# Set the manual seed\n",
        "torch.manual_seed(42)\n",
        "model_1 = LinearRegressionModel2()\n",
        "model_1, model_1.state_dict()"
      ],
      "metadata": {
        "colab": {
          "base_uri": "https://localhost:8080/"
        },
        "id": "_X2V06sl716e",
        "outputId": "530c25c5-a0e5-4cbe-a92f-c8219201998a"
      },
      "execution_count": null,
      "outputs": [
        {
          "output_type": "execute_result",
          "data": {
            "text/plain": [
              "(LinearRegressionModel2(\n",
              "   (linear_layer): Linear(in_features=1, out_features=1, bias=True)\n",
              " ),\n",
              " OrderedDict([('linear_layer.weight', tensor([[0.7645]])),\n",
              "              ('linear_layer.bias', tensor([0.8300]))]))"
            ]
          },
          "metadata": {},
          "execution_count": 26
        }
      ]
    },
    {
      "cell_type": "code",
      "source": [
        "# Check the model current device\n",
        "next(model_1.parameters()).device"
      ],
      "metadata": {
        "colab": {
          "base_uri": "https://localhost:8080/"
        },
        "id": "L2PhTdc_-z9k",
        "outputId": "eb379746-8c38-490f-8198-98a4579230a0"
      },
      "execution_count": null,
      "outputs": [
        {
          "output_type": "execute_result",
          "data": {
            "text/plain": [
              "device(type='cpu')"
            ]
          },
          "metadata": {},
          "execution_count": 27
        }
      ]
    },
    {
      "cell_type": "code",
      "source": [
        "# Set the model to use the target device\n",
        "model_1.to(device)\n",
        "next(model_1.parameters()).device\n"
      ],
      "metadata": {
        "colab": {
          "base_uri": "https://localhost:8080/"
        },
        "id": "S-XhFxVr-L5I",
        "outputId": "03fe3f40-4b33-431a-8f70-1766d90b55fd"
      },
      "execution_count": null,
      "outputs": [
        {
          "output_type": "execute_result",
          "data": {
            "text/plain": [
              "device(type='cpu')"
            ]
          },
          "metadata": {},
          "execution_count": 28
        }
      ]
    },
    {
      "cell_type": "code",
      "source": [
        "# Setup loss function\n",
        "loss_fn = nn.L1Loss()\n",
        "\n",
        "# Setup the optimizer\n",
        "optimizer = torch.optim.SGD(params = model_1.parameters(),\n",
        "                            lr = .001)\n"
      ],
      "metadata": {
        "id": "ytb88K3e_Cly"
      },
      "execution_count": null,
      "outputs": []
    },
    {
      "cell_type": "code",
      "source": [
        "# Make the training loop\n",
        "torch.manual_seed(42)\n",
        "epochs = 2000\n",
        "\n",
        "# Put data on the correct device\n",
        "X_train = X_train.to(device)\n",
        "y_train = y_train.to(device)\n",
        "\n",
        "for epoch in range(epochs):\n",
        "  model_1.train()\n",
        "\n",
        "  # Forward Pass\n",
        "  y_pred = model_1(X_train)\n",
        "\n",
        "  # Calc Loss\n",
        "  loss = loss_fn(y_pred, y_train)\n",
        "\n",
        "  # Zero Grad\n",
        "  optimizer.zero_grad()\n",
        "\n",
        "  # BackProp\n",
        "  loss.backward()\n",
        "\n",
        "  # Optim step\n",
        "  optimizer.step()\n",
        "\n",
        "  ### Testing\n",
        "  model_1.eval()\n",
        "  with torch.inference_mode():\n",
        "    test_pred = model_1(X_test)\n",
        "\n",
        "    test_loss = loss_fn(test_pred, y_test)\n",
        "\n",
        "\n",
        "  if epoch % 10 == 0:\n",
        "    print(f\"Epoch: {epoch} | Loss: {loss} | Test Loss: {test_loss}\")\n",
        "\n",
        "\n",
        "\n"
      ],
      "metadata": {
        "colab": {
          "base_uri": "https://localhost:8080/"
        },
        "id": "F0M1vy9n_how",
        "outputId": "fd135f26-b941-482c-82bf-37a11672d592"
      },
      "execution_count": null,
      "outputs": [
        {
          "output_type": "stream",
          "name": "stdout",
          "text": [
            "Epoch: 0 | Loss: 0.31117793917655945 | Test Loss: 0.5421000719070435\n",
            "Epoch: 10 | Loss: 0.29965710639953613 | Test Loss: 0.5286293029785156\n",
            "Epoch: 20 | Loss: 0.28813624382019043 | Test Loss: 0.515158474445343\n",
            "Epoch: 30 | Loss: 0.2766154110431671 | Test Loss: 0.5016877055168152\n",
            "Epoch: 40 | Loss: 0.2650945782661438 | Test Loss: 0.4882168769836426\n",
            "Epoch: 50 | Loss: 0.2535737156867981 | Test Loss: 0.47474604845046997\n",
            "Epoch: 60 | Loss: 0.24205288290977478 | Test Loss: 0.46127524971961975\n",
            "Epoch: 70 | Loss: 0.23053200542926788 | Test Loss: 0.44780445098876953\n",
            "Epoch: 80 | Loss: 0.21901118755340576 | Test Loss: 0.4343336224555969\n",
            "Epoch: 90 | Loss: 0.20749035477638245 | Test Loss: 0.4208628237247467\n",
            "Epoch: 100 | Loss: 0.19596949219703674 | Test Loss: 0.4073920249938965\n",
            "Epoch: 110 | Loss: 0.18444864451885223 | Test Loss: 0.39392122626304626\n",
            "Epoch: 120 | Loss: 0.17292781174182892 | Test Loss: 0.38045039772987366\n",
            "Epoch: 130 | Loss: 0.16140694916248322 | Test Loss: 0.36697959899902344\n",
            "Epoch: 140 | Loss: 0.1509256809949875 | Test Loss: 0.3541106581687927\n",
            "Epoch: 150 | Loss: 0.14151163399219513 | Test Loss: 0.3418041169643402\n",
            "Epoch: 160 | Loss: 0.13305020332336426 | Test Loss: 0.3300703465938568\n",
            "Epoch: 170 | Loss: 0.12543627619743347 | Test Loss: 0.31886711716651917\n",
            "Epoch: 180 | Loss: 0.11860966682434082 | Test Loss: 0.3082030713558197\n",
            "Epoch: 190 | Loss: 0.11247497797012329 | Test Loss: 0.29803186655044556\n",
            "Epoch: 200 | Loss: 0.10697788000106812 | Test Loss: 0.28836023807525635\n",
            "Epoch: 210 | Loss: 0.10206763446331024 | Test Loss: 0.27913886308670044\n",
            "Epoch: 220 | Loss: 0.09775550663471222 | Test Loss: 0.27048856019973755\n",
            "Epoch: 230 | Loss: 0.09390298277139664 | Test Loss: 0.2623019814491272\n",
            "Epoch: 240 | Loss: 0.09043492376804352 | Test Loss: 0.25452595949172974\n",
            "Epoch: 250 | Loss: 0.08728767931461334 | Test Loss: 0.24704451858997345\n",
            "Epoch: 260 | Loss: 0.08461148291826248 | Test Loss: 0.24016070365905762\n",
            "Epoch: 270 | Loss: 0.0821545347571373 | Test Loss: 0.2335805892944336\n",
            "Epoch: 280 | Loss: 0.07995619624853134 | Test Loss: 0.22730405628681183\n",
            "Epoch: 290 | Loss: 0.07805512100458145 | Test Loss: 0.22152011096477509\n",
            "Epoch: 300 | Loss: 0.07626120746135712 | Test Loss: 0.2158593237400055\n",
            "Epoch: 310 | Loss: 0.07478850334882736 | Test Loss: 0.21082277595996857\n",
            "Epoch: 320 | Loss: 0.07335121929645538 | Test Loss: 0.20578618347644806\n",
            "Epoch: 330 | Loss: 0.07214514911174774 | Test Loss: 0.20125660300254822\n",
            "Epoch: 340 | Loss: 0.07101617008447647 | Test Loss: 0.19685377180576324\n",
            "Epoch: 350 | Loss: 0.0699763223528862 | Test Loss: 0.1927078366279602\n",
            "Epoch: 360 | Loss: 0.06910618394613266 | Test Loss: 0.18894721567630768\n",
            "Epoch: 370 | Loss: 0.06823605298995972 | Test Loss: 0.18518656492233276\n",
            "Epoch: 380 | Loss: 0.06747139990329742 | Test Loss: 0.1818167269229889\n",
            "Epoch: 390 | Loss: 0.06680971384048462 | Test Loss: 0.17870734632015228\n",
            "Epoch: 400 | Loss: 0.06614803522825241 | Test Loss: 0.17559795081615448\n",
            "Epoch: 410 | Loss: 0.0654863566160202 | Test Loss: 0.17248862981796265\n",
            "Epoch: 420 | Loss: 0.06496690213680267 | Test Loss: 0.1700395792722702\n",
            "Epoch: 430 | Loss: 0.0644623190164566 | Test Loss: 0.16759051382541656\n",
            "Epoch: 440 | Loss: 0.06395772099494934 | Test Loss: 0.16514141857624054\n",
            "Epoch: 450 | Loss: 0.06345314532518387 | Test Loss: 0.1626923382282257\n",
            "Epoch: 460 | Loss: 0.06295032054185867 | Test Loss: 0.16031017899513245\n",
            "Epoch: 470 | Loss: 0.0625503659248352 | Test Loss: 0.15853044390678406\n",
            "Epoch: 480 | Loss: 0.062150418758392334 | Test Loss: 0.15675069391727448\n",
            "Epoch: 490 | Loss: 0.06175047159194946 | Test Loss: 0.1549709141254425\n",
            "Epoch: 500 | Loss: 0.06135053187608719 | Test Loss: 0.15319111943244934\n",
            "Epoch: 510 | Loss: 0.06095057725906372 | Test Loss: 0.15141138434410095\n",
            "Epoch: 520 | Loss: 0.06055063009262085 | Test Loss: 0.14963163435459137\n",
            "Epoch: 530 | Loss: 0.06015068292617798 | Test Loss: 0.1478518545627594\n",
            "Epoch: 540 | Loss: 0.05975878983736038 | Test Loss: 0.14620764553546906\n",
            "Epoch: 550 | Loss: 0.05940977483987808 | Test Loss: 0.14510565996170044\n",
            "Epoch: 560 | Loss: 0.05906075984239578 | Test Loss: 0.1440037041902542\n",
            "Epoch: 570 | Loss: 0.05871174484491348 | Test Loss: 0.1429016888141632\n",
            "Epoch: 580 | Loss: 0.05836272984743118 | Test Loss: 0.14179976284503937\n",
            "Epoch: 590 | Loss: 0.05801371484994888 | Test Loss: 0.14069774746894836\n",
            "Epoch: 600 | Loss: 0.05766469985246658 | Test Loss: 0.13959582149982452\n",
            "Epoch: 610 | Loss: 0.05731568485498428 | Test Loss: 0.13849380612373352\n",
            "Epoch: 620 | Loss: 0.056966669857501984 | Test Loss: 0.13739188015460968\n",
            "Epoch: 630 | Loss: 0.056617654860019684 | Test Loss: 0.13628986477851868\n",
            "Epoch: 640 | Loss: 0.056268639862537384 | Test Loss: 0.13518793880939484\n",
            "Epoch: 650 | Loss: 0.055919624865055084 | Test Loss: 0.13408592343330383\n",
            "Epoch: 660 | Loss: 0.055570609867572784 | Test Loss: 0.13298399746418\n",
            "Epoch: 670 | Loss: 0.055221594870090485 | Test Loss: 0.131881982088089\n",
            "Epoch: 680 | Loss: 0.054872579872608185 | Test Loss: 0.13078005611896515\n",
            "Epoch: 690 | Loss: 0.054523564875125885 | Test Loss: 0.12967804074287415\n",
            "Epoch: 700 | Loss: 0.054174549877643585 | Test Loss: 0.1285761147737503\n",
            "Epoch: 710 | Loss: 0.053825534880161285 | Test Loss: 0.1274741142988205\n",
            "Epoch: 720 | Loss: 0.053476519882678986 | Test Loss: 0.12637218832969666\n",
            "Epoch: 730 | Loss: 0.053127504885196686 | Test Loss: 0.12527017295360565\n",
            "Epoch: 740 | Loss: 0.052778489887714386 | Test Loss: 0.12416823953390121\n",
            "Epoch: 750 | Loss: 0.052429474890232086 | Test Loss: 0.12306623160839081\n",
            "Epoch: 760 | Loss: 0.052080459892749786 | Test Loss: 0.12196429818868637\n",
            "Epoch: 770 | Loss: 0.05173144489526749 | Test Loss: 0.12086229026317596\n",
            "Epoch: 780 | Loss: 0.05138819292187691 | Test Loss: 0.12010376155376434\n",
            "Epoch: 790 | Loss: 0.05104489251971245 | Test Loss: 0.1192765012383461\n",
            "Epoch: 800 | Loss: 0.05070098489522934 | Test Loss: 0.11844927072525024\n",
            "Epoch: 810 | Loss: 0.050357889384031296 | Test Loss: 0.11769070476293564\n",
            "Epoch: 820 | Loss: 0.050014447420835495 | Test Loss: 0.11686345189809799\n",
            "Epoch: 830 | Loss: 0.049670539796352386 | Test Loss: 0.11603619903326035\n",
            "Epoch: 840 | Loss: 0.04932760074734688 | Test Loss: 0.11527763307094574\n",
            "Epoch: 850 | Loss: 0.04898398369550705 | Test Loss: 0.11445041000843048\n",
            "Epoch: 860 | Loss: 0.0486401803791523 | Test Loss: 0.11369182169437408\n",
            "Epoch: 870 | Loss: 0.048297297209501266 | Test Loss: 0.11286459118127823\n",
            "Epoch: 880 | Loss: 0.0479535348713398 | Test Loss: 0.11203734576702118\n",
            "Epoch: 890 | Loss: 0.04760988429188728 | Test Loss: 0.11127877235412598\n",
            "Epoch: 900 | Loss: 0.047266989946365356 | Test Loss: 0.11045150458812714\n",
            "Epoch: 910 | Loss: 0.04692307859659195 | Test Loss: 0.10962430387735367\n",
            "Epoch: 920 | Loss: 0.04657958075404167 | Test Loss: 0.10886571556329727\n",
            "Epoch: 930 | Loss: 0.04623653367161751 | Test Loss: 0.10803848505020142\n",
            "Epoch: 940 | Loss: 0.045892633497714996 | Test Loss: 0.10721123218536377\n",
            "Epoch: 950 | Loss: 0.04554928466677666 | Test Loss: 0.10645266622304916\n",
            "Epoch: 960 | Loss: 0.045206084847450256 | Test Loss: 0.10562541335821152\n",
            "Epoch: 970 | Loss: 0.04486217349767685 | Test Loss: 0.10479818284511566\n",
            "Epoch: 980 | Loss: 0.04451899230480194 | Test Loss: 0.10403960943222046\n",
            "Epoch: 990 | Loss: 0.04417562112212181 | Test Loss: 0.10321234166622162\n",
            "Epoch: 1000 | Loss: 0.043831706047058105 | Test Loss: 0.10238512605428696\n",
            "Epoch: 1010 | Loss: 0.04348868876695633 | Test Loss: 0.10162656009197235\n",
            "Epoch: 1020 | Loss: 0.04314516857266426 | Test Loss: 0.10079929977655411\n",
            "Epoch: 1030 | Loss: 0.04280126467347145 | Test Loss: 0.1000407338142395\n",
            "Epoch: 1040 | Loss: 0.042458392679691315 | Test Loss: 0.09921349585056305\n",
            "Epoch: 1050 | Loss: 0.04211471229791641 | Test Loss: 0.0983862429857254\n",
            "Epoch: 1060 | Loss: 0.041770972311496735 | Test Loss: 0.0976276844739914\n",
            "Epoch: 1070 | Loss: 0.0414280965924263 | Test Loss: 0.09680044651031494\n",
            "Epoch: 1080 | Loss: 0.041084256023168564 | Test Loss: 0.0959731787443161\n",
            "Epoch: 1090 | Loss: 0.04074067622423172 | Test Loss: 0.09521464258432388\n",
            "Epoch: 1100 | Loss: 0.04039771482348442 | Test Loss: 0.09438738971948624\n",
            "Epoch: 1110 | Loss: 0.040053822100162506 | Test Loss: 0.09356018155813217\n",
            "Epoch: 1120 | Loss: 0.039710402488708496 | Test Loss: 0.09280174970626831\n",
            "Epoch: 1130 | Loss: 0.039367321878671646 | Test Loss: 0.09197461605072021\n",
            "Epoch: 1140 | Loss: 0.03902343288064003 | Test Loss: 0.09114748239517212\n",
            "Epoch: 1150 | Loss: 0.038680169731378555 | Test Loss: 0.09038903564214706\n",
            "Epoch: 1160 | Loss: 0.03833693638443947 | Test Loss: 0.08956189453601837\n",
            "Epoch: 1170 | Loss: 0.03799363225698471 | Test Loss: 0.0887690931558609\n",
            "Epoch: 1180 | Loss: 0.03764979913830757 | Test Loss: 0.0879419669508934\n",
            "Epoch: 1190 | Loss: 0.03730625659227371 | Test Loss: 0.08718352019786835\n",
            "Epoch: 1200 | Loss: 0.03696329891681671 | Test Loss: 0.08635640144348145\n",
            "Epoch: 1210 | Loss: 0.03661941736936569 | Test Loss: 0.08552924543619156\n",
            "Epoch: 1220 | Loss: 0.03627602383494377 | Test Loss: 0.0847708210349083\n",
            "Epoch: 1230 | Loss: 0.03593291714787483 | Test Loss: 0.0839436873793602\n",
            "Epoch: 1240 | Loss: 0.035589028149843216 | Test Loss: 0.0831165537238121\n",
            "Epoch: 1250 | Loss: 0.035245783627033234 | Test Loss: 0.08235812187194824\n",
            "Epoch: 1260 | Loss: 0.034902531653642654 | Test Loss: 0.08153096586465836\n",
            "Epoch: 1270 | Loss: 0.03455864265561104 | Test Loss: 0.08070383220911026\n",
            "Epoch: 1280 | Loss: 0.034215547144412994 | Test Loss: 0.079945407807827\n",
            "Epoch: 1290 | Loss: 0.03387214615941048 | Test Loss: 0.0791182667016983\n",
            "Epoch: 1300 | Loss: 0.03352826088666916 | Test Loss: 0.07829111814498901\n",
            "Epoch: 1310 | Loss: 0.03318531811237335 | Test Loss: 0.07753269374370575\n",
            "Epoch: 1320 | Loss: 0.0328417606651783 | Test Loss: 0.07670555263757706\n",
            "Epoch: 1330 | Loss: 0.03249793499708176 | Test Loss: 0.0759471207857132\n",
            "Epoch: 1340 | Loss: 0.032155074179172516 | Test Loss: 0.0751199871301651\n",
            "Epoch: 1350 | Loss: 0.03181137517094612 | Test Loss: 0.0742928609251976\n",
            "Epoch: 1360 | Loss: 0.03146769851446152 | Test Loss: 0.07353440672159195\n",
            "Epoch: 1370 | Loss: 0.031124841421842575 | Test Loss: 0.07270727306604385\n",
            "Epoch: 1380 | Loss: 0.030780989676713943 | Test Loss: 0.07188013941049576\n",
            "Epoch: 1390 | Loss: 0.030437463894486427 | Test Loss: 0.0711217001080513\n",
            "Epoch: 1400 | Loss: 0.03009449876844883 | Test Loss: 0.0702945664525032\n",
            "Epoch: 1410 | Loss: 0.029750604182481766 | Test Loss: 0.06946743279695511\n",
            "Epoch: 1420 | Loss: 0.029407361522316933 | Test Loss: 0.06867461651563644\n",
            "Epoch: 1430 | Loss: 0.029063547030091286 | Test Loss: 0.06791619211435318\n",
            "Epoch: 1440 | Loss: 0.028720688074827194 | Test Loss: 0.06708906590938568\n",
            "Epoch: 1450 | Loss: 0.028376972302794456 | Test Loss: 0.066261887550354\n",
            "Epoch: 1460 | Loss: 0.028033310547471046 | Test Loss: 0.06550348550081253\n",
            "Epoch: 1470 | Loss: 0.027690451592206955 | Test Loss: 0.06467632949352264\n",
            "Epoch: 1480 | Loss: 0.027346590533852577 | Test Loss: 0.06384919583797455\n",
            "Epoch: 1490 | Loss: 0.027003074064850807 | Test Loss: 0.06309075653553009\n",
            "Epoch: 1500 | Loss: 0.026660088449716568 | Test Loss: 0.0622636154294014\n",
            "Epoch: 1510 | Loss: 0.02631620690226555 | Test Loss: 0.0614364854991436\n",
            "Epoch: 1520 | Loss: 0.025972848758101463 | Test Loss: 0.06067804619669914\n",
            "Epoch: 1530 | Loss: 0.025629708543419838 | Test Loss: 0.05985092371702194\n",
            "Epoch: 1540 | Loss: 0.02528582140803337 | Test Loss: 0.059023767709732056\n",
            "Epoch: 1550 | Loss: 0.024942602962255478 | Test Loss: 0.05826533958315849\n",
            "Epoch: 1560 | Loss: 0.02459932118654251 | Test Loss: 0.0574381947517395\n",
            "Epoch: 1570 | Loss: 0.024255434051156044 | Test Loss: 0.056611061096191406\n",
            "Epoch: 1580 | Loss: 0.02391236647963524 | Test Loss: 0.055852629244327545\n",
            "Epoch: 1590 | Loss: 0.023568935692310333 | Test Loss: 0.055025506764650345\n",
            "Epoch: 1600 | Loss: 0.023225050419569016 | Test Loss: 0.05419835448265076\n",
            "Epoch: 1610 | Loss: 0.022882133722305298 | Test Loss: 0.053439926356077194\n",
            "Epoch: 1620 | Loss: 0.022538546472787857 | Test Loss: 0.0526127815246582\n",
            "Epoch: 1630 | Loss: 0.0221947580575943 | Test Loss: 0.05185433477163315\n",
            "Epoch: 1640 | Loss: 0.02185189723968506 | Test Loss: 0.051027197390794754\n",
            "Epoch: 1650 | Loss: 0.021508164703845978 | Test Loss: 0.050200074911117554\n",
            "Epoch: 1660 | Loss: 0.02116452343761921 | Test Loss: 0.0494416244328022\n",
            "Epoch: 1670 | Loss: 0.020821664482355118 | Test Loss: 0.0486144945025444\n",
            "Epoch: 1680 | Loss: 0.0204777792096138 | Test Loss: 0.04778736084699631\n",
            "Epoch: 1690 | Loss: 0.020134281367063522 | Test Loss: 0.04702891781926155\n",
            "Epoch: 1700 | Loss: 0.019791284576058388 | Test Loss: 0.046201784163713455\n",
            "Epoch: 1710 | Loss: 0.01944739557802677 | Test Loss: 0.045374639332294464\n",
            "Epoch: 1720 | Loss: 0.01910405047237873 | Test Loss: 0.0446162223815918\n",
            "Epoch: 1730 | Loss: 0.01876089535653591 | Test Loss: 0.04378904029726982\n",
            "Epoch: 1740 | Loss: 0.018417011946439743 | Test Loss: 0.042961932718753815\n",
            "Epoch: 1750 | Loss: 0.01807381398975849 | Test Loss: 0.04220350459218025\n",
            "Epoch: 1760 | Loss: 0.017730513587594032 | Test Loss: 0.041376370936632156\n",
            "Epoch: 1770 | Loss: 0.017386624589562416 | Test Loss: 0.040549181401729584\n",
            "Epoch: 1780 | Loss: 0.0170435793697834 | Test Loss: 0.03979077935218811\n",
            "Epoch: 1790 | Loss: 0.016700129956007004 | Test Loss: 0.03896365687251091\n",
            "Epoch: 1800 | Loss: 0.016356229782104492 | Test Loss: 0.038136500865221024\n",
            "Epoch: 1810 | Loss: 0.016013342887163162 | Test Loss: 0.03737807273864746\n",
            "Epoch: 1820 | Loss: 0.015669742599129677 | Test Loss: 0.03655093163251877\n",
            "Epoch: 1830 | Loss: 0.015325970947742462 | Test Loss: 0.035792507231235504\n",
            "Epoch: 1840 | Loss: 0.014983107335865498 | Test Loss: 0.03496537357568741\n",
            "Epoch: 1850 | Loss: 0.014639426954090595 | Test Loss: 0.034172557294368744\n",
            "Epoch: 1860 | Loss: 0.014296111650764942 | Test Loss: 0.03334542363882065\n",
            "Epoch: 1870 | Loss: 0.01395222544670105 | Test Loss: 0.03251828998327255\n",
            "Epoch: 1880 | Loss: 0.013609188608825207 | Test Loss: 0.031759850680828094\n",
            "Epoch: 1890 | Loss: 0.013265728950500488 | Test Loss: 0.030932724475860596\n",
            "Epoch: 1900 | Loss: 0.012921837158501148 | Test Loss: 0.0301055908203125\n",
            "Epoch: 1910 | Loss: 0.012578954920172691 | Test Loss: 0.029347127303481102\n",
            "Epoch: 1920 | Loss: 0.012235338799655437 | Test Loss: 0.0285200122743845\n",
            "Epoch: 1930 | Loss: 0.011891576461493969 | Test Loss: 0.02776157855987549\n",
            "Epoch: 1940 | Loss: 0.011548717506229877 | Test Loss: 0.026934439316391945\n",
            "Epoch: 1950 | Loss: 0.01120495330542326 | Test Loss: 0.02610728144645691\n",
            "Epoch: 1960 | Loss: 0.010861347429454327 | Test Loss: 0.02534886635839939\n",
            "Epoch: 1970 | Loss: 0.010518459603190422 | Test Loss: 0.024521727114915848\n",
            "Epoch: 1980 | Loss: 0.010174574330449104 | Test Loss: 0.023694569244980812\n",
            "Epoch: 1990 | Loss: 0.00983110535889864 | Test Loss: 0.022936159744858742\n"
          ]
        }
      ]
    },
    {
      "cell_type": "code",
      "source": [
        "# Make Predictions on test data\n",
        "model_1.eval()\n",
        "\n",
        "with torch.inference_mode():\n",
        "  y_preds = model_1(X_test)\n"
      ],
      "metadata": {
        "id": "vTPf_Rz2CGgE"
      },
      "execution_count": null,
      "outputs": []
    },
    {
      "cell_type": "code",
      "source": [
        "# Visualize model predictions\n",
        "plot_predictions(predictions = y_preds.cpu())\n"
      ],
      "metadata": {
        "colab": {
          "base_uri": "https://localhost:8080/"
        },
        "id": "huKrqoPSBXSq",
        "outputId": "65a9031e-f241-4565-d55c-b16c18bf19ce"
      },
      "execution_count": null,
      "outputs": [
        {
          "output_type": "display_data",
          "data": {
            "text/plain": [
              "<Figure size 600x400 with 1 Axes>"
            ],
            "image/png": "[encoded data removed]"
          },
          "metadata": {}
        }
      ]
    },
    {
      "cell_type": "code",
      "source": [
        "# Saving and loading the model\n",
        "from pathlib import Path\n",
        "# Create a model directory\n",
        "MODEL_PATH = Path(\"models\")\n",
        "MODEL_PATH.mkdir(parents=True, exist_ok=True)\n",
        "\n",
        "MODEL_NAME = \"01_pytorch_workflow_model_1.pth\"\n",
        "MODEL_SAVE_PATH = MODEL_PATH / MODEL_NAME\n",
        "\n",
        "print(f\"Saving model to: {MODEL_SAVE_PATH}\")\n",
        "torch.save(obj=model_1.state_dict(), f=MODEL_SAVE_PATH)\n",
        "\n"
      ],
      "metadata": {
        "id": "HOGFoTYJDyPa",
        "colab": {
          "base_uri": "https://localhost:8080/"
        },
        "outputId": "ebf96f1f-d578-4fe0-e4ff-becb3d924ba4"
      },
      "execution_count": null,
      "outputs": [
        {
          "output_type": "stream",
          "name": "stdout",
          "text": [
            "Saving model to: models/01_pytorch_workflow_model_1.pth\n"
          ]
        }
      ]
    },
    {
      "cell_type": "code",
      "source": [
        "# Load a model\n",
        "\n",
        "# Create a new instance of the model\n",
        "loaded_model_1 = LinearRegressionModel2()\n",
        "\n",
        "# load the save model_1 state dict\n",
        "loaded_model_1.load_state_dict(torch.load(MODEL_SAVE_PATH))\n",
        "\n",
        "# Put the loaded model to device\n",
        "loaded_model_1.to(device)"
      ],
      "metadata": {
        "colab": {
          "base_uri": "https://localhost:8080/"
        },
        "id": "ga3Ifx6NW-FY",
        "outputId": "85fed233-f94e-4d99-aee3-8a168fe9d7ec"
      },
      "execution_count": null,
      "outputs": [
        {
          "output_type": "stream",
          "name": "stderr",
          "text": [
            "<ipython-input-34-b2e0a8df33c8>:7: FutureWarning: You are using `torch.load` with `weights_only=False` (the current default value), which uses the default pickle module implicitly. It is possible to construct malicious pickle data which will execute arbitrary code during unpickling (See https://github.com/pytorch/pytorch/blob/main/SECURITY.md#untrusted-models for more details). In a future release, the default value for `weights_only` will be flipped to `True`. This limits the functions that could be executed during unpickling. Arbitrary objects will no longer be allowed to be loaded via this mode unless they are explicitly allowlisted by the user via `torch.serialization.add_safe_globals`. We recommend you start setting `weights_only=True` for any use case where you don't have full control of the loaded file. Please open an issue on GitHub for any issues related to this experimental feature.\n",
            "  loaded_model_1.load_state_dict(torch.load(MODEL_SAVE_PATH))\n"
          ]
        },
        {
          "output_type": "execute_result",
          "data": {
            "text/plain": [
              "LinearRegressionModel2(\n",
              "  (linear_layer): Linear(in_features=1, out_features=1, bias=True)\n",
              ")"
            ]
          },
          "metadata": {},
          "execution_count": 34
        }
      ]
    },
    {
      "cell_type": "code",
      "source": [
        "# Evaluate the loaded model\n",
        "loaded_model_1.eval()\n",
        "with torch.inference_mode():\n",
        "  loaded_model_1_preds = loaded_model_1(X_test)\n",
        "y_preds == loaded_model_1_preds # Checks if equal"
      ],
      "metadata": {
        "colab": {
          "base_uri": "https://localhost:8080/"
        },
        "id": "bt7l9wOkXh9d",
        "outputId": "f95516b2-da28-4c3e-baa3-719cc0467262"
      },
      "execution_count": null,
      "outputs": [
        {
          "output_type": "execute_result",
          "data": {
            "text/plain": [
              "tensor([[True],\n",
              "        [True],\n",
              "        [True],\n",
              "        [True],\n",
              "        [True],\n",
              "        [True],\n",
              "        [True],\n",
              "        [True],\n",
              "        [True],\n",
              "        [True]])"
            ]
          },
          "metadata": {},
          "execution_count": 35
        }
      ]
    },
    {
      "cell_type": "markdown",
      "source": [
        "## Exercises and Extra Curriculum\n",
        "\n",
        "Refer to the exercises section of the book."
      ],
      "metadata": {
        "id": "RHM3oluRYBih"
      }
    },
    {
      "cell_type": "code",
      "source": [],
      "metadata": {
        "id": "ourQV9s4adiK"
      },
      "execution_count": null,
      "outputs": []
    },
    {
      "cell_type": "markdown",
      "source": [
        "# **02.** PyTorch Neural Network Classification"
      ],
      "metadata": {
        "id": "4Hamv71baiz1"
      }
    },
    {
      "cell_type": "markdown",
      "source": [
        "Types of classification:\n",
        "\n",
        "\n",
        "\n",
        "*   Binary Classification\n",
        "*   Multiclass Classification: Imagenet1k has 1000 object classes, one label per class\n",
        "*   Multilabel Classification: Can have multiple labels\n",
        "\n"
      ],
      "metadata": {
        "id": "e2Nmoj-VeFR-"
      }
    },
    {
      "cell_type": "markdown",
      "source": [
        "### Classification Examples\n",
        "\n",
        "Ex: Is an image a dog or a cat: Binary Classification\n",
        "\n",
        "Ex: What kind of animal : Multiclass"
      ],
      "metadata": {
        "id": "ajZoRKaUeqIK"
      }
    },
    {
      "cell_type": "markdown",
      "source": [
        "Image Prediction input and outputs\n",
        "\n",
        "Images maybe 32 at a time (batch_size) and encoding them.\n",
        "Input: [batch_size, color_channels, width, height]\n",
        "Shape = [32, 3, 224, 224] 224x224 Pixels\n",
        "Output = [List of Probabilities]\n",
        "Shape = [Number of Possibilities]"
      ],
      "metadata": {
        "id": "1fh3WomSzHhA"
      }
    },
    {
      "cell_type": "markdown",
      "source": [
        "High Level Overview of Architecture of a Classification Model\n",
        "\n",
        "*   Input Layer Shape: `in_features` Same as number of features.\n",
        "\n",
        "*   Hidden Layer(s): Problem specific\n",
        "\n",
        "*   Neurons per layer: generally 10 to 512\n",
        "\n",
        "*   Output Layer Shape: 1 (one class or the other) for binary and 1 per class for multiclass\n",
        "\n",
        "*   Hidden Layer activation: Usually ReLU\n",
        "\n",
        "*   Output Activation: Sigmoid `torch.sigmoid` in PyTorch for Binary or Softmax `torch.softmax`for Multiclass\n",
        "\n",
        "*   Loss Function: Binary Crossentropy `torch.nn.BCELoss` or Cross Entropy `torch.nn.CrossEntropyLoss` for Multi\n",
        "\n",
        "*   Optimizer: SGD, ADAM\n",
        "\n"
      ],
      "metadata": {
        "id": "pm5XaFgYzowW"
      }
    },
    {
      "cell_type": "markdown",
      "source": [
        "## 1. Make classification data and get it ready"
      ],
      "metadata": {
        "id": "aSRyVYBE1MrW"
      }
    },
    {
      "cell_type": "code",
      "source": [
        "import sklearn"
      ],
      "metadata": {
        "id": "ttPG47-x1uz_"
      },
      "execution_count": 1,
      "outputs": []
    },
    {
      "cell_type": "code",
      "source": [
        "from sklearn.datasets import make_circles\n",
        "\n",
        "# make 1000 samples\n",
        "n_samples = 1000\n",
        "\n",
        "# Create Circles\n",
        "X, y = make_circles(n_samples,\n",
        "                    noise = .03,\n",
        "                    random_state = 42)\n",
        "# This produces two circles of points with noise and they are classified by y as being apart of one of two different circles"
      ],
      "metadata": {
        "id": "zFFylk-I1xFx"
      },
      "execution_count": 2,
      "outputs": []
    },
    {
      "cell_type": "code",
      "source": [
        "len(X), len(y)"
      ],
      "metadata": {
        "colab": {
          "base_uri": "https://localhost:8080/"
        },
        "id": "qUsoBQTX2Bf8",
        "outputId": "bd8c237e-cffe-41b3-df11-083d86392c2b"
      },
      "execution_count": 3,
      "outputs": [
        {
          "output_type": "execute_result",
          "data": {
            "text/plain": [
              "(1000, 1000)"
            ]
          },
          "metadata": {},
          "execution_count": 3
        }
      ]
    },
    {
      "cell_type": "code",
      "source": [
        "print(f\"First 5 samples of X:\\n {X[:5]}\")\n",
        "print(f\"First 5 samples of X:\\n {y[:5]}\")"
      ],
      "metadata": {
        "colab": {
          "base_uri": "https://localhost:8080/"
        },
        "id": "T9XuUXw42FUa",
        "outputId": "8c895fe7-bb28-4965-e6eb-df1c1ba4e4d7"
      },
      "execution_count": 4,
      "outputs": [
        {
          "output_type": "stream",
          "name": "stdout",
          "text": [
            "First 5 samples of X:\n",
            " [[ 0.75424625  0.23148074]\n",
            " [-0.75615888  0.15325888]\n",
            " [-0.81539193  0.17328203]\n",
            " [-0.39373073  0.69288277]\n",
            " [ 0.44220765 -0.89672343]]\n",
            "First 5 samples of X:\n",
            " [1 1 1 1 0]\n"
          ]
        }
      ]
    },
    {
      "cell_type": "code",
      "source": [
        "# Make a DataFrame of circle data with Pandas\n",
        "import pandas as pd\n",
        "circles = pd.DataFrame({\"X1\": X[:,0],\n",
        "                        \"X2\": X[:,1],\n",
        "                        \"label\": y})\n",
        "circles.head(10)"
      ],
      "metadata": {
        "colab": {
          "base_uri": "https://localhost:8080/",
          "height": 363
        },
        "id": "lpCU-pDH2XYJ",
        "outputId": "53831803-9836-4c0a-f42a-6b9c963f15e6"
      },
      "execution_count": 5,
      "outputs": [
        {
          "output_type": "execute_result",
          "data": {
            "text/plain": [
              "         X1        X2  label\n",
              "0  0.754246  0.231481      1\n",
              "1 -0.756159  0.153259      1\n",
              "2 -0.815392  0.173282      1\n",
              "3 -0.393731  0.692883      1\n",
              "4  0.442208 -0.896723      0\n",
              "5 -0.479646  0.676435      1\n",
              "6 -0.013648  0.803349      1\n",
              "7  0.771513  0.147760      1\n",
              "8 -0.169322 -0.793456      1\n",
              "9 -0.121486  1.021509      0"
            ],
            "text/html": [
              "\n",
              "  <div id=\"df-f397ba6b-4e1b-4ad6-9266-64ed1dc35d32\" class=\"colab-df-container\">\n",
              "    <div>\n",
              "<style scoped>\n",
              "    .dataframe tbody tr th:only-of-type {\n",
              "        vertical-align: middle;\n",
              "    }\n",
              "\n",
              "    .dataframe tbody tr th {\n",
              "        vertical-align: top;\n",
              "    }\n",
              "\n",
              "    .dataframe thead th {\n",
              "        text-align: right;\n",
              "    }\n",
              "</style>\n",
              "<table border=\"1\" class=\"dataframe\">\n",
              "  <thead>\n",
              "    <tr style=\"text-align: right;\">\n",
              "      <th></th>\n",
              "      <th>X1</th>\n",
              "      <th>X2</th>\n",
              "      <th>label</th>\n",
              "    </tr>\n",
              "  </thead>\n",
              "  <tbody>\n",
              "    <tr>\n",
              "      <th>0</th>\n",
              "      <td>0.754246</td>\n",
              "      <td>0.231481</td>\n",
              "      <td>1</td>\n",
              "    </tr>\n",
              "    <tr>\n",
              "      <th>1</th>\n",
              "      <td>-0.756159</td>\n",
              "      <td>0.153259</td>\n",
              "      <td>1</td>\n",
              "    </tr>\n",
              "    <tr>\n",
              "      <th>2</th>\n",
              "      <td>-0.815392</td>\n",
              "      <td>0.173282</td>\n",
              "      <td>1</td>\n",
              "    </tr>\n",
              "    <tr>\n",
              "      <th>3</th>\n",
              "      <td>-0.393731</td>\n",
              "      <td>0.692883</td>\n",
              "      <td>1</td>\n",
              "    </tr>\n",
              "    <tr>\n",
              "      <th>4</th>\n",
              "      <td>0.442208</td>\n",
              "      <td>-0.896723</td>\n",
              "      <td>0</td>\n",
              "    </tr>\n",
              "    <tr>\n",
              "      <th>5</th>\n",
              "      <td>-0.479646</td>\n",
              "      <td>0.676435</td>\n",
              "      <td>1</td>\n",
              "    </tr>\n",
              "    <tr>\n",
              "      <th>6</th>\n",
              "      <td>-0.013648</td>\n",
              "      <td>0.803349</td>\n",
              "      <td>1</td>\n",
              "    </tr>\n",
              "    <tr>\n",
              "      <th>7</th>\n",
              "      <td>0.771513</td>\n",
              "      <td>0.147760</td>\n",
              "      <td>1</td>\n",
              "    </tr>\n",
              "    <tr>\n",
              "      <th>8</th>\n",
              "      <td>-0.169322</td>\n",
              "      <td>-0.793456</td>\n",
              "      <td>1</td>\n",
              "    </tr>\n",
              "    <tr>\n",
              "      <th>9</th>\n",
              "      <td>-0.121486</td>\n",
              "      <td>1.021509</td>\n",
              "      <td>0</td>\n",
              "    </tr>\n",
              "  </tbody>\n",
              "</table>\n",
              "</div>\n",
              "    <div class=\"colab-df-buttons\">\n",
              "\n",
              "  <div class=\"colab-df-container\">\n",
              "    <button class=\"colab-df-convert\" onclick=\"convertToInteractive('df-f397ba6b-4e1b-4ad6-9266-64ed1dc35d32')\"\n",
              "            title=\"Convert this dataframe to an interactive table.\"\n",
              "            style=\"display:none;\">\n",
              "\n",
              "  <svg xmlns=\"http://www.w3.org/2000/svg\" height=\"24px\" viewBox=\"0 -960 960 960\">\n",
              "    <path d=\"M120-120v-720h720v720H120Zm60-500h600v-160H180v160Zm220 220h160v-160H400v160Zm0 220h160v-160H400v160ZM180-400h160v-160H180v160Zm440 0h160v-160H620v160ZM180-180h160v-160H180v160Zm440 0h160v-160H620v160Z\"/>\n",
              "  </svg>\n",
              "    </button>\n",
              "\n",
              "  <style>\n",
              "    .colab-df-container {\n",
              "      display:flex;\n",
              "      gap: 12px;\n",
              "    }\n",
              "\n",
              "    .colab-df-convert {\n",
              "      background-color: #E8F0FE;\n",
              "      border: none;\n",
              "      border-radius: 50%;\n",
              "      cursor: pointer;\n",
              "      display: none;\n",
              "      fill: #1967D2;\n",
              "      height: 32px;\n",
              "      padding: 0 0 0 0;\n",
              "      width: 32px;\n",
              "    }\n",
              "\n",
              "    .colab-df-convert:hover {\n",
              "      background-color: #E2EBFA;\n",
              "      box-shadow: 0px 1px 2px rgba(60, 64, 67, 0.3), 0px 1px 3px 1px rgba(60, 64, 67, 0.15);\n",
              "      fill: #174EA6;\n",
              "    }\n",
              "\n",
              "    .colab-df-buttons div {\n",
              "      margin-bottom: 4px;\n",
              "    }\n",
              "\n",
              "    [theme=dark] .colab-df-convert {\n",
              "      background-color: #3B4455;\n",
              "      fill: #D2E3FC;\n",
              "    }\n",
              "\n",
              "    [theme=dark] .colab-df-convert:hover {\n",
              "      background-color: #434B5C;\n",
              "      box-shadow: 0px 1px 3px 1px rgba(0, 0, 0, 0.15);\n",
              "      filter: drop-shadow(0px 1px 2px rgba(0, 0, 0, 0.3));\n",
              "      fill: #FFFFFF;\n",
              "    }\n",
              "  </style>\n",
              "\n",
              "    <script>\n",
              "      const buttonEl =\n",
              "        document.querySelector('#df-f397ba6b-4e1b-4ad6-9266-64ed1dc35d32 button.colab-df-convert');\n",
              "      buttonEl.style.display =\n",
              "        google.colab.kernel.accessAllowed ? 'block' : 'none';\n",
              "\n",
              "      async function convertToInteractive(key) {\n",
              "        const element = document.querySelector('#df-f397ba6b-4e1b-4ad6-9266-64ed1dc35d32');\n",
              "        const dataTable =\n",
              "          await google.colab.kernel.invokeFunction('convertToInteractive',\n",
              "                                                    [key], {});\n",
              "        if (!dataTable) return;\n",
              "\n",
              "        const docLinkHtml = 'Like what you see? Visit the ' +\n",
              "          '<a target=\"_blank\" href=https://colab.research.google.com/notebooks/data_table.ipynb>data table notebook</a>'\n",
              "          + ' to learn more about interactive tables.';\n",
              "        element.innerHTML = '';\n",
              "        dataTable['output_type'] = 'display_data';\n",
              "        await google.colab.output.renderOutput(dataTable, element);\n",
              "        const docLink = document.createElement('div');\n",
              "        docLink.innerHTML = docLinkHtml;\n",
              "        element.appendChild(docLink);\n",
              "      }\n",
              "    </script>\n",
              "  </div>\n",
              "\n",
              "\n",
              "<div id=\"df-d611d665-6bc1-471b-8ec4-081716d87bc7\">\n",
              "  <button class=\"colab-df-quickchart\" onclick=\"quickchart('df-d611d665-6bc1-471b-8ec4-081716d87bc7')\"\n",
              "            title=\"Suggest charts\"\n",
              "            style=\"display:none;\">\n",
              "\n",
              "<svg xmlns=\"http://www.w3.org/2000/svg\" height=\"24px\"viewBox=\"0 0 24 24\"\n",
              "     width=\"24px\">\n",
              "    <g>\n",
              "        <path d=\"M19 3H5c-1.1 0-2 .9-2 2v14c0 1.1.9 2 2 2h14c1.1 0 2-.9 2-2V5c0-1.1-.9-2-2-2zM9 17H7v-7h2v7zm4 0h-2V7h2v10zm4 0h-2v-4h2v4z\"/>\n",
              "    </g>\n",
              "</svg>\n",
              "  </button>\n",
              "\n",
              "<style>\n",
              "  .colab-df-quickchart {\n",
              "      --bg-color: #E8F0FE;\n",
              "      --fill-color: #1967D2;\n",
              "      --hover-bg-color: #E2EBFA;\n",
              "      --hover-fill-color: #174EA6;\n",
              "      --disabled-fill-color: #AAA;\n",
              "      --disabled-bg-color: #DDD;\n",
              "  }\n",
              "\n",
              "  [theme=dark] .colab-df-quickchart {\n",
              "      --bg-color: #3B4455;\n",
              "      --fill-color: #D2E3FC;\n",
              "      --hover-bg-color: #434B5C;\n",
              "      --hover-fill-color: #FFFFFF;\n",
              "      --disabled-bg-color: #3B4455;\n",
              "      --disabled-fill-color: #666;\n",
              "  }\n",
              "\n",
              "  .colab-df-quickchart {\n",
              "    background-color: var(--bg-color);\n",
              "    border: none;\n",
              "    border-radius: 50%;\n",
              "    cursor: pointer;\n",
              "    display: none;\n",
              "    fill: var(--fill-color);\n",
              "    height: 32px;\n",
              "    padding: 0;\n",
              "    width: 32px;\n",
              "  }\n",
              "\n",
              "  .colab-df-quickchart:hover {\n",
              "    background-color: var(--hover-bg-color);\n",
              "    box-shadow: 0 1px 2px rgba(60, 64, 67, 0.3), 0 1px 3px 1px rgba(60, 64, 67, 0.15);\n",
              "    fill: var(--button-hover-fill-color);\n",
              "  }\n",
              "\n",
              "  .colab-df-quickchart-complete:disabled,\n",
              "  .colab-df-quickchart-complete:disabled:hover {\n",
              "    background-color: var(--disabled-bg-color);\n",
              "    fill: var(--disabled-fill-color);\n",
              "    box-shadow: none;\n",
              "  }\n",
              "\n",
              "  .colab-df-spinner {\n",
              "    border: 2px solid var(--fill-color);\n",
              "    border-color: transparent;\n",
              "    border-bottom-color: var(--fill-color);\n",
              "    animation:\n",
              "      spin 1s steps(1) infinite;\n",
              "  }\n",
              "\n",
              "  @keyframes spin {\n",
              "    0% {\n",
              "      border-color: transparent;\n",
              "      border-bottom-color: var(--fill-color);\n",
              "      border-left-color: var(--fill-color);\n",
              "    }\n",
              "    20% {\n",
              "      border-color: transparent;\n",
              "      border-left-color: var(--fill-color);\n",
              "      border-top-color: var(--fill-color);\n",
              "    }\n",
              "    30% {\n",
              "      border-color: transparent;\n",
              "      border-left-color: var(--fill-color);\n",
              "      border-top-color: var(--fill-color);\n",
              "      border-right-color: var(--fill-color);\n",
              "    }\n",
              "    40% {\n",
              "      border-color: transparent;\n",
              "      border-right-color: var(--fill-color);\n",
              "      border-top-color: var(--fill-color);\n",
              "    }\n",
              "    60% {\n",
              "      border-color: transparent;\n",
              "      border-right-color: var(--fill-color);\n",
              "    }\n",
              "    80% {\n",
              "      border-color: transparent;\n",
              "      border-right-color: var(--fill-color);\n",
              "      border-bottom-color: var(--fill-color);\n",
              "    }\n",
              "    90% {\n",
              "      border-color: transparent;\n",
              "      border-bottom-color: var(--fill-color);\n",
              "    }\n",
              "  }\n",
              "</style>\n",
              "\n",
              "  <script>\n",
              "    async function quickchart(key) {\n",
              "      const quickchartButtonEl =\n",
              "        document.querySelector('#' + key + ' button');\n",
              "      quickchartButtonEl.disabled = true;  // To prevent multiple clicks.\n",
              "      quickchartButtonEl.classList.add('colab-df-spinner');\n",
              "      try {\n",
              "        const charts = await google.colab.kernel.invokeFunction(\n",
              "            'suggestCharts', [key], {});\n",
              "      } catch (error) {\n",
              "        console.error('Error during call to suggestCharts:', error);\n",
              "      }\n",
              "      quickchartButtonEl.classList.remove('colab-df-spinner');\n",
              "      quickchartButtonEl.classList.add('colab-df-quickchart-complete');\n",
              "    }\n",
              "    (() => {\n",
              "      let quickchartButtonEl =\n",
              "        document.querySelector('#df-d611d665-6bc1-471b-8ec4-081716d87bc7 button');\n",
              "      quickchartButtonEl.style.display =\n",
              "        google.colab.kernel.accessAllowed ? 'block' : 'none';\n",
              "    })();\n",
              "  </script>\n",
              "</div>\n",
              "\n",
              "    </div>\n",
              "  </div>\n"
            ],
            "application/vnd.google.colaboratory.intrinsic+json": {
              "type": "dataframe",
              "variable_name": "circles",
              "summary": "{\n  \"name\": \"circles\",\n  \"rows\": 1000,\n  \"fields\": [\n    {\n      \"column\": \"X1\",\n      \"properties\": {\n        \"dtype\": \"number\",\n        \"std\": 0.6398365674574611,\n        \"min\": -1.0595024599098635,\n        \"max\": 1.0337117525463373,\n        \"num_unique_values\": 1000,\n        \"samples\": [\n          -0.3751930206933384,\n          0.015380346701456493,\n          -0.7027835978832848\n        ],\n        \"semantic_type\": \"\",\n        \"description\": \"\"\n      }\n    },\n    {\n      \"column\": \"X2\",\n      \"properties\": {\n        \"dtype\": \"number\",\n        \"std\": 0.6411559581015379,\n        \"min\": -1.0677683182718436,\n        \"max\": 1.0360036756154805,\n        \"num_unique_values\": 1000,\n        \"samples\": [\n          0.6826597225888621,\n          0.9600260220697324,\n          -0.3147169925147762\n        ],\n        \"semantic_type\": \"\",\n        \"description\": \"\"\n      }\n    },\n    {\n      \"column\": \"label\",\n      \"properties\": {\n        \"dtype\": \"number\",\n        \"std\": 0,\n        \"min\": 0,\n        \"max\": 1,\n        \"num_unique_values\": 2,\n        \"samples\": [\n          0,\n          1\n        ],\n        \"semantic_type\": \"\",\n        \"description\": \"\"\n      }\n    }\n  ]\n}"
            }
          },
          "metadata": {},
          "execution_count": 5
        }
      ]
    },
    {
      "cell_type": "code",
      "source": [
        "# Visualize the data\n",
        "import matplotlib.pyplot as plt\n",
        "plt.scatter(x=X[:,0],\n",
        "            y=X[:,1],\n",
        "            c=y,\n",
        "            cmap=plt.cm.RdYlBu)\n"
      ],
      "metadata": {
        "colab": {
          "base_uri": "https://localhost:8080/",
          "height": 447
        },
        "id": "5x9uu6sh24x7",
        "outputId": "e820620a-5db9-4f75-899c-414221f1eb1c"
      },
      "execution_count": 6,
      "outputs": [
        {
          "output_type": "execute_result",
          "data": {
            "text/plain": [
              "<matplotlib.collections.PathCollection at 0x7d38f0d96ec0>"
            ]
          },
          "metadata": {},
          "execution_count": 6
        },
        {
          "output_type": "display_data",
          "data": {
            "text/plain": [
              "<Figure size 640x480 with 1 Axes>"
            ],
            "image/png": "[encoded data removed]"
          },
          "metadata": {}
        }
      ]
    },
    {
      "cell_type": "markdown",
      "source": [
        "Note: The data we are working with is a \"toy\" dataset. Small enough to practice with.\n",
        "\n",
        "Can find more thru scikitlearn\n"
      ],
      "metadata": {
        "id": "KoP1ojvB3Y3A"
      }
    },
    {
      "cell_type": "markdown",
      "source": [
        "### 1.1 Turning the data into tensors for PyTorch\n",
        "Checking input and output shapes\n"
      ],
      "metadata": {
        "id": "6Y_A8U6y3q1E"
      }
    },
    {
      "cell_type": "code",
      "source": [
        "X.shape, y.shape"
      ],
      "metadata": {
        "colab": {
          "base_uri": "https://localhost:8080/"
        },
        "id": "F0ymdBkp329U",
        "outputId": "d3b1311a-7c03-48e7-9c0a-f09db9ebe9a2"
      },
      "execution_count": 7,
      "outputs": [
        {
          "output_type": "execute_result",
          "data": {
            "text/plain": [
              "((1000, 2), (1000,))"
            ]
          },
          "metadata": {},
          "execution_count": 7
        }
      ]
    },
    {
      "cell_type": "code",
      "source": [
        "# View the first example of features and labels\n",
        "X_sample = X[0]\n",
        "y_sample = y[0]\n",
        "\n",
        "print(f\"Values for one sample of X:{X_sample} and the same for y:{y_sample}\")\n",
        "print(f\"Shapes for one sample of X:{X_sample.shape} and the same for y:{y_sample.shape}\")"
      ],
      "metadata": {
        "colab": {
          "base_uri": "https://localhost:8080/"
        },
        "id": "EDu3CPUq38Bv",
        "outputId": "a6e16271-a5f9-48c1-ad7d-b12acf56f7f2"
      },
      "execution_count": 8,
      "outputs": [
        {
          "output_type": "stream",
          "name": "stdout",
          "text": [
            "Values for one sample of X:[0.75424625 0.23148074] and the same for y:1\n",
            "Shapes for one sample of X:(2,) and the same for y:()\n"
          ]
        }
      ]
    },
    {
      "cell_type": "markdown",
      "source": [
        "We have two features of X to predict one value for y"
      ],
      "metadata": {
        "id": "c3EF0zpB4pLe"
      }
    },
    {
      "cell_type": "markdown",
      "source": [
        "### 1.2 Turn date into tensors and create train and test splits"
      ],
      "metadata": {
        "id": "_JhrYl9n4s2p"
      }
    },
    {
      "cell_type": "code",
      "source": [
        "import torch\n",
        "torch.__version__"
      ],
      "metadata": {
        "colab": {
          "base_uri": "https://localhost:8080/",
          "height": 36
        },
        "id": "DPjtKj7c4x9z",
        "outputId": "9d2b6290-75a6-4577-9e40-9d6f2313ec06"
      },
      "execution_count": 9,
      "outputs": [
        {
          "output_type": "execute_result",
          "data": {
            "text/plain": [
              "'2.5.1+cu121'"
            ],
            "application/vnd.google.colaboratory.intrinsic+json": {
              "type": "string"
            }
          },
          "metadata": {},
          "execution_count": 9
        }
      ]
    },
    {
      "cell_type": "code",
      "source": [
        "type(X), X.dtype"
      ],
      "metadata": {
        "colab": {
          "base_uri": "https://localhost:8080/"
        },
        "id": "xdN8v9-P49g9",
        "outputId": "9a5c68c8-3f9e-4288-c82d-910c0cb34a14"
      },
      "execution_count": 10,
      "outputs": [
        {
          "output_type": "execute_result",
          "data": {
            "text/plain": [
              "(numpy.ndarray, dtype('float64'))"
            ]
          },
          "metadata": {},
          "execution_count": 10
        }
      ]
    },
    {
      "cell_type": "code",
      "source": [
        "# Turn data into tensors\n",
        "\n",
        "X = torch.from_numpy(X).type(torch.float)\n",
        "y = torch.from_numpy(y).type(torch.float)\n",
        "\n",
        "X[:5], y[:5]"
      ],
      "metadata": {
        "colab": {
          "base_uri": "https://localhost:8080/"
        },
        "id": "ipZKREgK42Mr",
        "outputId": "3eb54b48-c7e1-42ea-c4f2-5c6b90d8ee26"
      },
      "execution_count": 11,
      "outputs": [
        {
          "output_type": "execute_result",
          "data": {
            "text/plain": [
              "(tensor([[ 0.7542,  0.2315],\n",
              "         [-0.7562,  0.1533],\n",
              "         [-0.8154,  0.1733],\n",
              "         [-0.3937,  0.6929],\n",
              "         [ 0.4422, -0.8967]]),\n",
              " tensor([1., 1., 1., 1., 0.]))"
            ]
          },
          "metadata": {},
          "execution_count": 11
        }
      ]
    },
    {
      "cell_type": "code",
      "source": [
        "# Split into training and test splits\n",
        "# Using a random assignment\n",
        "\n",
        "from sklearn.model_selection import train_test_split\n",
        "\n",
        "X_train, X_test, y_train, y_test = train_test_split(X,\n",
        "                                                    y,\n",
        "                                                    test_size=.2, # 20% is test 80% is train\n",
        "                                                    random_state=42)"
      ],
      "metadata": {
        "id": "0hU-13Ye5YBR"
      },
      "execution_count": 12,
      "outputs": []
    },
    {
      "cell_type": "code",
      "source": [
        "len(X_train), len(X_test)"
      ],
      "metadata": {
        "colab": {
          "base_uri": "https://localhost:8080/"
        },
        "id": "wzhaxw1j6BRb",
        "outputId": "68de0b4c-593b-464a-d4e4-eeab7a3b10b4"
      },
      "execution_count": 13,
      "outputs": [
        {
          "output_type": "execute_result",
          "data": {
            "text/plain": [
              "(800, 200)"
            ]
          },
          "metadata": {},
          "execution_count": 13
        }
      ]
    },
    {
      "cell_type": "markdown",
      "source": [
        "## 2 Building a model\n",
        "\n",
        "Let's build a model to classify our blue and red dots\n",
        "\n",
        "To do so:\n",
        "1. Setup Device Agnostic Code so our code will run on a gpu if there is one\n",
        "2. Construct a model (by subclassing `nn.Module`)\n",
        "3. Define a loss function and optimizer\n",
        "4. Create a training and test loop"
      ],
      "metadata": {
        "id": "wMsKeHs-6ZVu"
      }
    },
    {
      "cell_type": "code",
      "source": [
        "import torch\n",
        "from torch import nn\n",
        "\n",
        "# Make device agnostic code\n",
        "device = \"cuda\" if torch.cuda.is_available() else \"cpu\"\n",
        "device"
      ],
      "metadata": {
        "colab": {
          "base_uri": "https://localhost:8080/",
          "height": 36
        },
        "id": "Bw5P7iRV6vB5",
        "outputId": "286441ed-72a9-4232-aabc-e92f3fb4a9a4"
      },
      "execution_count": 14,
      "outputs": [
        {
          "output_type": "execute_result",
          "data": {
            "text/plain": [
              "'cpu'"
            ],
            "application/vnd.google.colaboratory.intrinsic+json": {
              "type": "string"
            }
          },
          "metadata": {},
          "execution_count": 14
        }
      ]
    },
    {
      "cell_type": "code",
      "source": [
        "# Subclass `nn.Module`\n",
        "class CircleModelV0(nn.Module):\n",
        "  def __init__(self):\n",
        "    super().__init__()\n",
        "\n",
        "# Create two `nn.Linear()` layers that can handle our data shapes\n",
        "\n",
        "    self.layer_1 = nn.Linear(in_features=2,\n",
        "                             out_features=5)\n",
        "    self.layer_2 = nn.Linear(in_features=5,\n",
        "                              out_features=1)\n",
        "\n",
        "\n",
        "\n",
        "# Define a `forward()` method that outlines the forward pass of the model\n",
        "  def forward(self, x):\n",
        "    return self.layer_2(self.layer_1(x))  # x -> layer 1 -> layer 2 -> output\n",
        "\n",
        "\n",
        "# Instantiate an instance of our model class and send it to the target device\n",
        "model_0 = CircleModelV0().to(device)\n",
        "model_0\n",
        "device"
      ],
      "metadata": {
        "colab": {
          "base_uri": "https://localhost:8080/",
          "height": 36
        },
        "id": "PubemkaY7jyC",
        "outputId": "62f7b027-0fc7-4b27-c343-f16a53a3ddbf"
      },
      "execution_count": 15,
      "outputs": [
        {
          "output_type": "execute_result",
          "data": {
            "text/plain": [
              "'cpu'"
            ],
            "application/vnd.google.colaboratory.intrinsic+json": {
              "type": "string"
            }
          },
          "metadata": {},
          "execution_count": 15
        }
      ]
    },
    {
      "cell_type": "markdown",
      "source": [
        "Using `nn.Sequential()` to replicate this model"
      ],
      "metadata": {
        "id": "Dj0FLufj-ThL"
      }
    },
    {
      "cell_type": "code",
      "source": [
        "model_0 = nn.Sequential(nn.Linear(in_features=2, out_features=5),\n",
        "                        nn.Linear(in_features=5, out_features=1)\n",
        ").to(device)\n",
        "\n",
        "model_0\n",
        "\n",
        "# Does the implementation we made on its own"
      ],
      "metadata": {
        "colab": {
          "base_uri": "https://localhost:8080/"
        },
        "id": "Glwqm-fp1cuP",
        "outputId": "ee25b984-29d3-489f-9fa6-5068387db77e"
      },
      "execution_count": 16,
      "outputs": [
        {
          "output_type": "execute_result",
          "data": {
            "text/plain": [
              "Sequential(\n",
              "  (0): Linear(in_features=2, out_features=5, bias=True)\n",
              "  (1): Linear(in_features=5, out_features=1, bias=True)\n",
              ")"
            ]
          },
          "metadata": {},
          "execution_count": 16
        }
      ]
    },
    {
      "cell_type": "code",
      "source": [
        "model_0.state_dict()"
      ],
      "metadata": {
        "colab": {
          "base_uri": "https://localhost:8080/"
        },
        "id": "jdLiAm852fIG",
        "outputId": "1c64b4c8-1f2c-4195-a92d-0e7032c02317"
      },
      "execution_count": 17,
      "outputs": [
        {
          "output_type": "execute_result",
          "data": {
            "text/plain": [
              "OrderedDict([('0.weight',\n",
              "              tensor([[ 0.1036, -0.2625],\n",
              "                      [-0.1105, -0.5449],\n",
              "                      [ 0.1315, -0.2902],\n",
              "                      [-0.6694,  0.6092],\n",
              "                      [ 0.5404, -0.1556]])),\n",
              "             ('0.bias', tensor([-0.1438, -0.6503, -0.5677,  0.1867,  0.0321])),\n",
              "             ('1.weight',\n",
              "              tensor([[-0.4083,  0.3660, -0.0009, -0.3536,  0.4316]])),\n",
              "             ('1.bias', tensor([-0.1945]))])"
            ]
          },
          "metadata": {},
          "execution_count": 17
        }
      ]
    },
    {
      "cell_type": "code",
      "source": [
        "# Make some predictions with the model\n",
        "with torch.inference_mode():\n",
        "  untrained_preds = model_0(X_test.to(device))\n",
        "print(f\"Length of predictions: {len(untrained_preds)}, Shape: {untrained_preds.shape}\")\n",
        "print(f\"Length of test samples: {len(X_test)}, Shape: {X_test.shape}\")\n",
        "print(f\"\\n First 10 predictions:\\n{torch.round(untrained_preds[:10])}\")\n",
        "print(f\"\\n First 10 labels:\\n{y_test[0:10]}\")"
      ],
      "metadata": {
        "colab": {
          "base_uri": "https://localhost:8080/"
        },
        "id": "vFL3aUt52b3Q",
        "outputId": "a9bd25f1-15f5-48c6-a1cd-ab2bafd3ec56"
      },
      "execution_count": 18,
      "outputs": [
        {
          "output_type": "stream",
          "name": "stdout",
          "text": [
            "Length of predictions: 200, Shape: torch.Size([200, 1])\n",
            "Length of test samples: 200, Shape: torch.Size([200, 2])\n",
            "\n",
            " First 10 predictions:\n",
            "tensor([[-1.],\n",
            "        [-1.],\n",
            "        [-1.],\n",
            "        [-1.],\n",
            "        [ 0.],\n",
            "        [ 0.],\n",
            "        [-0.],\n",
            "        [-0.],\n",
            "        [-1.],\n",
            "        [-1.]])\n",
            "\n",
            " First 10 labels:\n",
            "tensor([1., 0., 1., 0., 1., 1., 0., 0., 1., 0.])\n"
          ]
        }
      ]
    },
    {
      "cell_type": "code",
      "source": [
        "# Setup the loss function\n",
        "\n",
        "# nn.BCELoss = requires inputs to have gone thru a sigmoid activation prior to finding loss\n",
        "loss_fn = nn.BCEWithLogitsLoss() # Contains a sigmoid acitivation function within BCE loss\n",
        "\n",
        "optimizer = torch.optim.SGD(params=model_0.parameters(),\n",
        "                      lr=.1)\n",
        "\n"
      ],
      "metadata": {
        "id": "jqHOqVOI8vtc",
        "colab": {
          "base_uri": "https://localhost:8080/",
          "height": 321
        },
        "outputId": "34c3c96a-c7ee-467f-caa4-01c1db5d8d4b"
      },
      "execution_count": 19,
      "outputs": [
        {
          "output_type": "error",
          "ename": "KeyboardInterrupt",
          "evalue": "",
          "traceback": [
            "\u001b[0;31m---------------------------------------------------------------------------\u001b[0m",
            "\u001b[0;31mKeyboardInterrupt\u001b[0m                         Traceback (most recent call last)",
            "\u001b[0;32m<ipython-input-19-aad37bf2a7c7>\u001b[0m in \u001b[0;36m<cell line: 6>\u001b[0;34m()\u001b[0m\n\u001b[1;32m      4\u001b[0m \u001b[0mloss_fn\u001b[0m \u001b[0;34m=\u001b[0m \u001b[0mnn\u001b[0m\u001b[0;34m.\u001b[0m\u001b[0mBCEWithLogitsLoss\u001b[0m\u001b[0;34m(\u001b[0m\u001b[0;34m)\u001b[0m \u001b[0;31m# Contains a sigmoid acitivation function within BCE loss\u001b[0m\u001b[0;34m\u001b[0m\u001b[0;34m\u001b[0m\u001b[0m\n\u001b[1;32m      5\u001b[0m \u001b[0;34m\u001b[0m\u001b[0m\n\u001b[0;32m----> 6\u001b[0;31m optimizer = torch.optim.SGD(params=model_0.parameters(),\n\u001b[0m\u001b[1;32m      7\u001b[0m                       lr=.1)\n\u001b[1;32m      8\u001b[0m \u001b[0;34m\u001b[0m\u001b[0m\n",
            "\u001b[0;32m/usr/local/lib/python3.10/dist-packages/torch/optim/sgd.py\u001b[0m in \u001b[0;36m__init__\u001b[0;34m(self, params, lr, momentum, dampening, weight_decay, nesterov, maximize, foreach, differentiable, fused)\u001b[0m\n\u001b[1;32m     59\u001b[0m         \u001b[0;32mif\u001b[0m \u001b[0mnesterov\u001b[0m \u001b[0;32mand\u001b[0m \u001b[0;34m(\u001b[0m\u001b[0mmomentum\u001b[0m \u001b[0;34m<=\u001b[0m \u001b[0;36m0\u001b[0m \u001b[0;32mor\u001b[0m \u001b[0mdampening\u001b[0m \u001b[0;34m!=\u001b[0m \u001b[0;36m0\u001b[0m\u001b[0;34m)\u001b[0m\u001b[0;34m:\u001b[0m\u001b[0;34m\u001b[0m\u001b[0;34m\u001b[0m\u001b[0m\n\u001b[1;32m     60\u001b[0m             \u001b[0;32mraise\u001b[0m \u001b[0mValueError\u001b[0m\u001b[0;34m(\u001b[0m\u001b[0;34m\"Nesterov momentum requires a momentum and zero dampening\"\u001b[0m\u001b[0;34m)\u001b[0m\u001b[0;34m\u001b[0m\u001b[0;34m\u001b[0m\u001b[0m\n\u001b[0;32m---> 61\u001b[0;31m         \u001b[0msuper\u001b[0m\u001b[0;34m(\u001b[0m\u001b[0;34m)\u001b[0m\u001b[0;34m.\u001b[0m\u001b[0m__init__\u001b[0m\u001b[0;34m(\u001b[0m\u001b[0mparams\u001b[0m\u001b[0;34m,\u001b[0m \u001b[0mdefaults\u001b[0m\u001b[0;34m)\u001b[0m\u001b[0;34m\u001b[0m\u001b[0;34m\u001b[0m\u001b[0m\n\u001b[0m\u001b[1;32m     62\u001b[0m \u001b[0;34m\u001b[0m\u001b[0m\n\u001b[1;32m     63\u001b[0m         \u001b[0;32mif\u001b[0m \u001b[0mfused\u001b[0m\u001b[0;34m:\u001b[0m\u001b[0;34m\u001b[0m\u001b[0;34m\u001b[0m\u001b[0m\n",
            "\u001b[0;32m/usr/local/lib/python3.10/dist-packages/torch/optim/optimizer.py\u001b[0m in \u001b[0;36m__init__\u001b[0;34m(self, params, defaults)\u001b[0m\n\u001b[1;32m    369\u001b[0m \u001b[0;34m\u001b[0m\u001b[0m\n\u001b[1;32m    370\u001b[0m         \u001b[0;32mfor\u001b[0m \u001b[0mparam_group\u001b[0m \u001b[0;32min\u001b[0m \u001b[0mparam_groups\u001b[0m\u001b[0;34m:\u001b[0m\u001b[0;34m\u001b[0m\u001b[0;34m\u001b[0m\u001b[0m\n\u001b[0;32m--> 371\u001b[0;31m             \u001b[0mself\u001b[0m\u001b[0;34m.\u001b[0m\u001b[0madd_param_group\u001b[0m\u001b[0;34m(\u001b[0m\u001b[0mcast\u001b[0m\u001b[0;34m(\u001b[0m\u001b[0mdict\u001b[0m\u001b[0;34m,\u001b[0m \u001b[0mparam_group\u001b[0m\u001b[0;34m)\u001b[0m\u001b[0;34m)\u001b[0m\u001b[0;34m\u001b[0m\u001b[0;34m\u001b[0m\u001b[0m\n\u001b[0m\u001b[1;32m    372\u001b[0m \u001b[0;34m\u001b[0m\u001b[0m\n\u001b[1;32m    373\u001b[0m         \u001b[0;31m# Allows _cuda_graph_capture_health_check to rig a poor man's TORCH_WARN_ONCE in python,\u001b[0m\u001b[0;34m\u001b[0m\u001b[0;34m\u001b[0m\u001b[0m\n",
            "\u001b[0;32m/usr/local/lib/python3.10/dist-packages/torch/_compile.py\u001b[0m in \u001b[0;36minner\u001b[0;34m(*args, **kwargs)\u001b[0m\n\u001b[1;32m     25\u001b[0m             \u001b[0mdisable_fn\u001b[0m \u001b[0;34m=\u001b[0m \u001b[0mgetattr\u001b[0m\u001b[0;34m(\u001b[0m\u001b[0mfn\u001b[0m\u001b[0;34m,\u001b[0m \u001b[0;34m\"__dynamo_disable\"\u001b[0m\u001b[0;34m,\u001b[0m \u001b[0;32mNone\u001b[0m\u001b[0;34m)\u001b[0m\u001b[0;34m\u001b[0m\u001b[0;34m\u001b[0m\u001b[0m\n\u001b[1;32m     26\u001b[0m             \u001b[0;32mif\u001b[0m \u001b[0mdisable_fn\u001b[0m \u001b[0;32mis\u001b[0m \u001b[0;32mNone\u001b[0m\u001b[0;34m:\u001b[0m\u001b[0;34m\u001b[0m\u001b[0;34m\u001b[0m\u001b[0m\n\u001b[0;32m---> 27\u001b[0;31m                 \u001b[0;32mimport\u001b[0m \u001b[0mtorch\u001b[0m\u001b[0;34m.\u001b[0m\u001b[0m_dynamo\u001b[0m\u001b[0;34m\u001b[0m\u001b[0;34m\u001b[0m\u001b[0m\n\u001b[0m\u001b[1;32m     28\u001b[0m \u001b[0;34m\u001b[0m\u001b[0m\n\u001b[1;32m     29\u001b[0m                 \u001b[0mdisable_fn\u001b[0m \u001b[0;34m=\u001b[0m \u001b[0mtorch\u001b[0m\u001b[0;34m.\u001b[0m\u001b[0m_dynamo\u001b[0m\u001b[0;34m.\u001b[0m\u001b[0mdisable\u001b[0m\u001b[0;34m(\u001b[0m\u001b[0mfn\u001b[0m\u001b[0;34m,\u001b[0m \u001b[0mrecursive\u001b[0m\u001b[0;34m)\u001b[0m\u001b[0;34m\u001b[0m\u001b[0;34m\u001b[0m\u001b[0m\n",
            "\u001b[0;32m/usr/local/lib/python3.10/dist-packages/torch/_dynamo/__init__.py\u001b[0m in \u001b[0;36m<module>\u001b[0;34m\u001b[0m\n\u001b[1;32m      1\u001b[0m \u001b[0;32mimport\u001b[0m \u001b[0mtorch\u001b[0m\u001b[0;34m\u001b[0m\u001b[0;34m\u001b[0m\u001b[0m\n\u001b[1;32m      2\u001b[0m \u001b[0;34m\u001b[0m\u001b[0m\n\u001b[0;32m----> 3\u001b[0;31m \u001b[0;32mfrom\u001b[0m \u001b[0;34m.\u001b[0m \u001b[0;32mimport\u001b[0m \u001b[0mconvert_frame\u001b[0m\u001b[0;34m,\u001b[0m \u001b[0meval_frame\u001b[0m\u001b[0;34m,\u001b[0m \u001b[0mresume_execution\u001b[0m\u001b[0;34m\u001b[0m\u001b[0;34m\u001b[0m\u001b[0m\n\u001b[0m\u001b[1;32m      4\u001b[0m \u001b[0;32mfrom\u001b[0m \u001b[0;34m.\u001b[0m\u001b[0mbackends\u001b[0m\u001b[0;34m.\u001b[0m\u001b[0mregistry\u001b[0m \u001b[0;32mimport\u001b[0m \u001b[0mlist_backends\u001b[0m\u001b[0;34m,\u001b[0m \u001b[0mlookup_backend\u001b[0m\u001b[0;34m,\u001b[0m \u001b[0mregister_backend\u001b[0m\u001b[0;34m\u001b[0m\u001b[0;34m\u001b[0m\u001b[0m\n\u001b[1;32m      5\u001b[0m \u001b[0;32mfrom\u001b[0m \u001b[0;34m.\u001b[0m\u001b[0mcallback\u001b[0m \u001b[0;32mimport\u001b[0m \u001b[0mcallback_handler\u001b[0m\u001b[0;34m,\u001b[0m \u001b[0mon_compile_end\u001b[0m\u001b[0;34m,\u001b[0m \u001b[0mon_compile_start\u001b[0m\u001b[0;34m\u001b[0m\u001b[0;34m\u001b[0m\u001b[0m\n",
            "\u001b[0;32m/usr/local/lib/python3.10/dist-packages/torch/_dynamo/convert_frame.py\u001b[0m in \u001b[0;36m<module>\u001b[0;34m\u001b[0m\n\u001b[1;32m     29\u001b[0m \u001b[0;32mfrom\u001b[0m \u001b[0mtorch\u001b[0m\u001b[0;34m.\u001b[0m\u001b[0m_C\u001b[0m\u001b[0;34m.\u001b[0m\u001b[0m_dynamo\u001b[0m\u001b[0;34m.\u001b[0m\u001b[0mguards\u001b[0m \u001b[0;32mimport\u001b[0m \u001b[0mGlobalStateGuard\u001b[0m\u001b[0;34m\u001b[0m\u001b[0;34m\u001b[0m\u001b[0m\n\u001b[1;32m     30\u001b[0m \u001b[0;32mfrom\u001b[0m \u001b[0mtorch\u001b[0m\u001b[0;34m.\u001b[0m\u001b[0m_dynamo\u001b[0m\u001b[0;34m.\u001b[0m\u001b[0mdistributed\u001b[0m \u001b[0;32mimport\u001b[0m \u001b[0mget_compile_pg\u001b[0m\u001b[0;34m\u001b[0m\u001b[0;34m\u001b[0m\u001b[0m\n\u001b[0;32m---> 31\u001b[0;31m \u001b[0;32mfrom\u001b[0m \u001b[0mtorch\u001b[0m\u001b[0;34m.\u001b[0m\u001b[0m_dynamo\u001b[0m\u001b[0;34m.\u001b[0m\u001b[0mutils\u001b[0m \u001b[0;32mimport\u001b[0m \u001b[0mCompileTimeInstructionCounter\u001b[0m\u001b[0;34m\u001b[0m\u001b[0;34m\u001b[0m\u001b[0m\n\u001b[0m\u001b[1;32m     32\u001b[0m \u001b[0;32mfrom\u001b[0m \u001b[0mtorch\u001b[0m\u001b[0;34m.\u001b[0m\u001b[0m_guards\u001b[0m \u001b[0;32mimport\u001b[0m \u001b[0mcompile_context\u001b[0m\u001b[0;34m,\u001b[0m \u001b[0mCompileContext\u001b[0m\u001b[0;34m,\u001b[0m \u001b[0mCompileId\u001b[0m\u001b[0;34m,\u001b[0m \u001b[0mtracing\u001b[0m\u001b[0;34m\u001b[0m\u001b[0;34m\u001b[0m\u001b[0m\n\u001b[1;32m     33\u001b[0m \u001b[0;32mfrom\u001b[0m \u001b[0mtorch\u001b[0m\u001b[0;34m.\u001b[0m\u001b[0m_logging\u001b[0m \u001b[0;32mimport\u001b[0m \u001b[0mstructured\u001b[0m\u001b[0;34m\u001b[0m\u001b[0;34m\u001b[0m\u001b[0m\n",
            "\u001b[0;32m/usr/local/lib/python3.10/dist-packages/torch/_dynamo/utils.py\u001b[0m in \u001b[0;36m<module>\u001b[0;34m\u001b[0m\n\u001b[1;32m     60\u001b[0m \u001b[0;32mimport\u001b[0m \u001b[0mtorch\u001b[0m\u001b[0;34m.\u001b[0m\u001b[0m_functorch\u001b[0m\u001b[0;34m.\u001b[0m\u001b[0mconfig\u001b[0m\u001b[0;34m\u001b[0m\u001b[0;34m\u001b[0m\u001b[0m\n\u001b[1;32m     61\u001b[0m \u001b[0;32mimport\u001b[0m \u001b[0mtorch\u001b[0m\u001b[0;34m.\u001b[0m\u001b[0m_inductor\u001b[0m\u001b[0;34m.\u001b[0m\u001b[0mconfig\u001b[0m \u001b[0;32mas\u001b[0m \u001b[0minductor_config\u001b[0m\u001b[0;34m\u001b[0m\u001b[0;34m\u001b[0m\u001b[0m\n\u001b[0;32m---> 62\u001b[0;31m \u001b[0;32mimport\u001b[0m \u001b[0mtorch\u001b[0m\u001b[0;34m.\u001b[0m\u001b[0mfx\u001b[0m\u001b[0;34m.\u001b[0m\u001b[0mexperimental\u001b[0m\u001b[0;34m.\u001b[0m\u001b[0msymbolic_shapes\u001b[0m\u001b[0;34m\u001b[0m\u001b[0;34m\u001b[0m\u001b[0m\n\u001b[0m\u001b[1;32m     63\u001b[0m \u001b[0;32mimport\u001b[0m \u001b[0mtorch\u001b[0m\u001b[0;34m.\u001b[0m\u001b[0mutils\u001b[0m\u001b[0;34m.\u001b[0m\u001b[0m_pytree\u001b[0m \u001b[0;32mas\u001b[0m \u001b[0mpytree\u001b[0m\u001b[0;34m\u001b[0m\u001b[0;34m\u001b[0m\u001b[0m\n\u001b[1;32m     64\u001b[0m \u001b[0;32mfrom\u001b[0m \u001b[0mtorch\u001b[0m \u001b[0;32mimport\u001b[0m \u001b[0mfx\u001b[0m\u001b[0;34m\u001b[0m\u001b[0;34m\u001b[0m\u001b[0m\n",
            "\u001b[0;32m/usr/local/lib/python3.10/dist-packages/torch/fx/experimental/symbolic_shapes.py\u001b[0m in \u001b[0;36m<module>\u001b[0;34m\u001b[0m\n\u001b[1;32m     63\u001b[0m \u001b[0;32mfrom\u001b[0m \u001b[0mtorch\u001b[0m\u001b[0;34m.\u001b[0m\u001b[0m_guards\u001b[0m \u001b[0;32mimport\u001b[0m \u001b[0mShapeGuard\u001b[0m\u001b[0;34m,\u001b[0m \u001b[0mSource\u001b[0m\u001b[0;34m,\u001b[0m \u001b[0mTracingContext\u001b[0m\u001b[0;34m\u001b[0m\u001b[0;34m\u001b[0m\u001b[0m\n\u001b[1;32m     64\u001b[0m \u001b[0;32mfrom\u001b[0m \u001b[0mtorch\u001b[0m\u001b[0;34m.\u001b[0m\u001b[0mutils\u001b[0m\u001b[0;34m.\u001b[0m\u001b[0m_python_dispatch\u001b[0m \u001b[0;32mimport\u001b[0m \u001b[0mis_traceable_wrapper_subclass\u001b[0m\u001b[0;34m\u001b[0m\u001b[0;34m\u001b[0m\u001b[0m\n\u001b[0;32m---> 65\u001b[0;31m from torch.utils._sympy.functions import (\n\u001b[0m\u001b[1;32m     66\u001b[0m     \u001b[0mApplication\u001b[0m\u001b[0;34m,\u001b[0m \u001b[0mFloorDiv\u001b[0m\u001b[0;34m,\u001b[0m \u001b[0mMod\u001b[0m\u001b[0;34m,\u001b[0m \u001b[0mPythonMod\u001b[0m\u001b[0;34m,\u001b[0m \u001b[0mIsNonOverlappingAndDenseIndicator\u001b[0m\u001b[0;34m,\u001b[0m \u001b[0mCleanDiv\u001b[0m\u001b[0;34m,\u001b[0m \u001b[0mFloorToInt\u001b[0m\u001b[0;34m,\u001b[0m \u001b[0mCeilToInt\u001b[0m\u001b[0;34m\u001b[0m\u001b[0;34m\u001b[0m\u001b[0m\n\u001b[1;32m     67\u001b[0m )\n",
            "\u001b[0;32m/usr/local/lib/python3.10/dist-packages/torch/utils/_sympy/functions.py\u001b[0m in \u001b[0;36m<module>\u001b[0;34m\u001b[0m\n\u001b[1;32m      5\u001b[0m \u001b[0;32mimport\u001b[0m \u001b[0msys\u001b[0m\u001b[0;34m\u001b[0m\u001b[0;34m\u001b[0m\u001b[0m\n\u001b[1;32m      6\u001b[0m \u001b[0;34m\u001b[0m\u001b[0m\n\u001b[0;32m----> 7\u001b[0;31m \u001b[0;32mimport\u001b[0m \u001b[0msympy\u001b[0m\u001b[0;34m\u001b[0m\u001b[0;34m\u001b[0m\u001b[0m\n\u001b[0m\u001b[1;32m      8\u001b[0m \u001b[0;32mfrom\u001b[0m \u001b[0msympy\u001b[0m \u001b[0;32mimport\u001b[0m \u001b[0mS\u001b[0m\u001b[0;34m\u001b[0m\u001b[0;34m\u001b[0m\u001b[0m\n\u001b[1;32m      9\u001b[0m \u001b[0;32mfrom\u001b[0m \u001b[0msympy\u001b[0m\u001b[0;34m.\u001b[0m\u001b[0mcore\u001b[0m \u001b[0;32mimport\u001b[0m \u001b[0msympify\u001b[0m\u001b[0;34m\u001b[0m\u001b[0;34m\u001b[0m\u001b[0m\n",
            "\u001b[0;32m/usr/local/lib/python3.10/dist-packages/sympy/__init__.py\u001b[0m in \u001b[0;36m<module>\u001b[0;34m\u001b[0m\n\u001b[1;32m    198\u001b[0m         rot_ccw_axis2, rot_ccw_axis3, rot_givens)\n\u001b[1;32m    199\u001b[0m \u001b[0;34m\u001b[0m\u001b[0m\n\u001b[0;32m--> 200\u001b[0;31m from .geometry import (Point, Point2D, Point3D, Line, Ray, Segment, Line2D,\n\u001b[0m\u001b[1;32m    201\u001b[0m         \u001b[0mSegment2D\u001b[0m\u001b[0;34m,\u001b[0m \u001b[0mRay2D\u001b[0m\u001b[0;34m,\u001b[0m \u001b[0mLine3D\u001b[0m\u001b[0;34m,\u001b[0m \u001b[0mSegment3D\u001b[0m\u001b[0;34m,\u001b[0m \u001b[0mRay3D\u001b[0m\u001b[0;34m,\u001b[0m \u001b[0mPlane\u001b[0m\u001b[0;34m,\u001b[0m \u001b[0mEllipse\u001b[0m\u001b[0;34m,\u001b[0m \u001b[0mCircle\u001b[0m\u001b[0;34m,\u001b[0m\u001b[0;34m\u001b[0m\u001b[0;34m\u001b[0m\u001b[0m\n\u001b[1;32m    202\u001b[0m         \u001b[0mPolygon\u001b[0m\u001b[0;34m,\u001b[0m \u001b[0mRegularPolygon\u001b[0m\u001b[0;34m,\u001b[0m \u001b[0mTriangle\u001b[0m\u001b[0;34m,\u001b[0m \u001b[0mrad\u001b[0m\u001b[0;34m,\u001b[0m \u001b[0mdeg\u001b[0m\u001b[0;34m,\u001b[0m \u001b[0mare_similar\u001b[0m\u001b[0;34m,\u001b[0m \u001b[0mcentroid\u001b[0m\u001b[0;34m,\u001b[0m\u001b[0;34m\u001b[0m\u001b[0;34m\u001b[0m\u001b[0m\n",
            "\u001b[0;32m/usr/local/lib/python3.10/dist-packages/sympy/geometry/__init__.py\u001b[0m in \u001b[0;36m<module>\u001b[0;34m\u001b[0m\n\u001b[1;32m     15\u001b[0m     \u001b[0mLine3D\u001b[0m\u001b[0;34m,\u001b[0m \u001b[0mSegment3D\u001b[0m\u001b[0;34m,\u001b[0m \u001b[0mRay3D\u001b[0m\u001b[0;34m\u001b[0m\u001b[0;34m\u001b[0m\u001b[0m\n\u001b[1;32m     16\u001b[0m \u001b[0;32mfrom\u001b[0m \u001b[0msympy\u001b[0m\u001b[0;34m.\u001b[0m\u001b[0mgeometry\u001b[0m\u001b[0;34m.\u001b[0m\u001b[0mplane\u001b[0m \u001b[0;32mimport\u001b[0m \u001b[0mPlane\u001b[0m\u001b[0;34m\u001b[0m\u001b[0;34m\u001b[0m\u001b[0m\n\u001b[0;32m---> 17\u001b[0;31m \u001b[0;32mfrom\u001b[0m \u001b[0msympy\u001b[0m\u001b[0;34m.\u001b[0m\u001b[0mgeometry\u001b[0m\u001b[0;34m.\u001b[0m\u001b[0mellipse\u001b[0m \u001b[0;32mimport\u001b[0m \u001b[0mEllipse\u001b[0m\u001b[0;34m,\u001b[0m \u001b[0mCircle\u001b[0m\u001b[0;34m\u001b[0m\u001b[0;34m\u001b[0m\u001b[0m\n\u001b[0m\u001b[1;32m     18\u001b[0m \u001b[0;32mfrom\u001b[0m \u001b[0msympy\u001b[0m\u001b[0;34m.\u001b[0m\u001b[0mgeometry\u001b[0m\u001b[0;34m.\u001b[0m\u001b[0mpolygon\u001b[0m \u001b[0;32mimport\u001b[0m \u001b[0mPolygon\u001b[0m\u001b[0;34m,\u001b[0m \u001b[0mRegularPolygon\u001b[0m\u001b[0;34m,\u001b[0m \u001b[0mTriangle\u001b[0m\u001b[0;34m,\u001b[0m \u001b[0mrad\u001b[0m\u001b[0;34m,\u001b[0m \u001b[0mdeg\u001b[0m\u001b[0;34m\u001b[0m\u001b[0;34m\u001b[0m\u001b[0m\n\u001b[1;32m     19\u001b[0m \u001b[0;32mfrom\u001b[0m \u001b[0msympy\u001b[0m\u001b[0;34m.\u001b[0m\u001b[0mgeometry\u001b[0m\u001b[0;34m.\u001b[0m\u001b[0mutil\u001b[0m \u001b[0;32mimport\u001b[0m \u001b[0mare_similar\u001b[0m\u001b[0;34m,\u001b[0m \u001b[0mcentroid\u001b[0m\u001b[0;34m,\u001b[0m \u001b[0mconvex_hull\u001b[0m\u001b[0;34m,\u001b[0m \u001b[0midiff\u001b[0m\u001b[0;34m,\u001b[0m\u001b[0;31m \u001b[0m\u001b[0;31m\\\u001b[0m\u001b[0;34m\u001b[0m\u001b[0;34m\u001b[0m\u001b[0m\n",
            "\u001b[0;32m/usr/local/lib/python3.10/dist-packages/sympy/geometry/ellipse.py\u001b[0m in \u001b[0;36m<module>\u001b[0;34m\u001b[0m\n\u001b[1;32m   1765\u001b[0m \u001b[0;34m\u001b[0m\u001b[0m\n\u001b[1;32m   1766\u001b[0m \u001b[0;34m\u001b[0m\u001b[0m\n\u001b[0;32m-> 1767\u001b[0;31m \u001b[0;32mfrom\u001b[0m \u001b[0;34m.\u001b[0m\u001b[0mpolygon\u001b[0m \u001b[0;32mimport\u001b[0m \u001b[0mPolygon\u001b[0m\u001b[0;34m,\u001b[0m \u001b[0mTriangle\u001b[0m\u001b[0;34m\u001b[0m\u001b[0;34m\u001b[0m\u001b[0m\n\u001b[0m",
            "\u001b[0;31mKeyboardInterrupt\u001b[0m: "
          ]
        }
      ]
    },
    {
      "cell_type": "code",
      "source": [
        "# Calculate accuracy\n",
        "def accuracy_fn(y_true, y_pred):\n",
        "  correct = torch.eq(y_true, y_pred).sum().item()\n",
        "  acc = (correct/len(y_pred)) * 100\n",
        "  return acc"
      ],
      "metadata": {
        "id": "2Hl6IS2U9tDW"
      },
      "execution_count": null,
      "outputs": []
    },
    {
      "cell_type": "markdown",
      "source": [
        "## 3 Train Model\n",
        "\n",
        "Training loop:\n",
        "\n",
        "1.  Forward pass\n",
        "2.  Calc loss\n",
        "3.  Optimizer zero grad\n",
        "4.  Loss backward (backprop)\n",
        "5.  Optimizer step (grad descent)\n"
      ],
      "metadata": {
        "id": "lDxzKPYx-bOG"
      }
    },
    {
      "cell_type": "markdown",
      "source": [
        "### 3.1 Going from raw logits -> prediction probabilities -> prediction labels\n",
        "\n",
        "Our model outputs are going to be raw **logits**\n",
        "\n",
        "We can convert the **logits** into **prediction probabilities** by passing them to some kind of activation function (sigmoid or softmax)\n",
        "\n",
        "Then we can convert our model's predictions to **prediction labels** by either rounding them (binary) or taking the `argmax` (multi class)"
      ],
      "metadata": {
        "id": "slokPQ16-7s2"
      }
    },
    {
      "cell_type": "code",
      "source": [
        "# View the first 5 outputs of the forward pass on the test data\n",
        "model_0.eval()\n",
        "with torch.inference_mode():\n",
        "  y_logits = model_0(X_test.to(device))[:5]\n",
        "\n",
        "print(y_logits)\n",
        "y_test[:5]"
      ],
      "metadata": {
        "id": "re-vzBRc_bpO"
      },
      "execution_count": null,
      "outputs": []
    },
    {
      "cell_type": "code",
      "source": [
        "y_pred_probs = torch.sigmoid(y_logits)\n",
        "y_pred_probs\n",
        "\n",
        "# Still not right form but have been passed thru and activation function"
      ],
      "metadata": {
        "id": "Rs2ISsKbAC8q"
      },
      "execution_count": null,
      "outputs": []
    },
    {
      "cell_type": "markdown",
      "source": [
        "Use a range to tell torch what values to round up and down."
      ],
      "metadata": {
        "id": "MAnecsFgAoZF"
      }
    },
    {
      "cell_type": "code",
      "source": [
        "y_preds = torch.round(y_pred_probs)\n",
        "y_preds"
      ],
      "metadata": {
        "id": "hPbLmobtAPYN"
      },
      "execution_count": null,
      "outputs": []
    },
    {
      "cell_type": "code",
      "source": [
        "# We would be able to run it in this way all at once\n",
        "model_0.eval()\n",
        "with torch.inference_mode():\n",
        "  y_preds_labels = torch.round(torch.sigmoid(model_0(X_test.to(device))[:5]))\n",
        "\n",
        "# Check for equality, squeeze to eleminate extra dims\n",
        "print(torch.eq(y_preds.squeeze(), y_preds_labels.squeeze()))\n",
        "\n",
        "\n",
        "\n",
        "\n"
      ],
      "metadata": {
        "id": "vzDhn9mgAvC0"
      },
      "execution_count": null,
      "outputs": []
    },
    {
      "cell_type": "markdown",
      "source": [
        "### 3.2 Building the training and test loop"
      ],
      "metadata": {
        "id": "GUNjx3pLE7OK"
      }
    },
    {
      "cell_type": "code",
      "source": [
        "torch.manual_seed(42)\n",
        "torch.cuda.manual_seed(42)\n",
        "\n",
        "# Set number of epochs\n",
        "epochs = 1000\n",
        "\n",
        "# Put data to target device\n",
        "\n",
        "X_train, y_train = X_train.to(device), y_train.to(device)\n",
        "X_test, y_test = X_test.to(device), y_test.to(device)\n",
        "\n",
        "# Build training and evaluation loop\n",
        "for epoch in range(epochs):\n",
        "  ### Training\n",
        "  model_0.train()\n",
        "\n",
        "  # 1. Forward Pass\n",
        "  y_logits = model_0(X_train).squeeze()\n",
        "  y_pred = torch.round(torch.sigmoid(y_logits))\n",
        "\n",
        "  # 2. Calc loss/accuracy\n",
        "  loss = loss_fn(y_logits,\n",
        "                 y_train) ## nn.BCEWithLogitsLoss expects raw logits as input\n",
        "  # with reg BCE Loss loss = loss_fn(torch.sigmoid(y_logits), y_train)\n",
        "\n",
        "  acc = accuracy_fn(y_true = y_train,\n",
        "                    y_pred = y_pred)\n",
        "\n",
        "# 3. Optimizer zero grad\n",
        "  optimizer.zero_grad()\n",
        "\n",
        "  # 4. Loss Backward\n",
        "  loss.backward()\n",
        "\n",
        "  # 5. Optimizer step\n",
        "  optimizer.step()\n",
        "\n",
        "  model_0.eval()\n",
        "  with torch.inference_mode():\n",
        "    # 1.\n",
        "    test_logits = model_0(X_test).squeeze()\n",
        "    test_pred = torch.round(torch.sigmoid(test_logits))\n",
        "    # 2. Calc test loss/acc\n",
        "    test_loss = loss_fn(test_logits,\n",
        "                        y_test)\n",
        "\n",
        "    test_acc = accuracy_fn(y_true = y_test,\n",
        "                           y_pred = test_pred)\n",
        "  # Print out what is happening\n",
        "  if epoch % 10 == 0:\n",
        "    print(f\"Epoch: {epoch} | Loss:{loss:.5f}, Acc: {acc:.2f}%| Test_Loss: {test_loss:.5f}, Test_Acc: {test_acc:.2f}%\")\n"
      ],
      "metadata": {
        "id": "POt-EOeoFOrH"
      },
      "execution_count": null,
      "outputs": []
    },
    {
      "cell_type": "markdown",
      "source": [
        "## 4. Make predictions and evaluate the model\n",
        "\n",
        "From the metrics it looks like the model isnt learning.\n",
        "\n",
        "So to inspect it lets make some predictions and make them visual\n",
        "\n",
        "To do so import a function called `plot_decision_boundary`"
      ],
      "metadata": {
        "id": "9ABPbmLum6RG"
      }
    },
    {
      "cell_type": "code",
      "source": [
        "import requests\n",
        "from pathlib import Path\n",
        "# Download helper functions from Learn PyTorch Repo\n",
        "\n",
        "if Path(\"helper_function.py\").is_file():\n",
        "  print(\"helper_functions.py already exists, skipping download\")\n",
        "else:\n",
        "  print(\"Download helper_functions.py\")\n",
        "  request = requests.get(\"https://raw.githubusercontent.com/mrdbourke/pytorch-deep-learning/refs/heads/main/helper_functions.py\")\n",
        "  with open(\"helper_functions.py\", \"wb\") as f:\n",
        "    f.write(request.content)\n",
        "\n",
        "from helper_functions import plot_predictions, plot_decision_boundary\n"
      ],
      "metadata": {
        "id": "gCC-MgVZngRp"
      },
      "execution_count": null,
      "outputs": []
    },
    {
      "cell_type": "code",
      "source": [
        "# Plot decision boundary of the model\n",
        "plt.figure(figsize=(12,6))\n",
        "plt.subplot(1, 2, 1)\n",
        "plt.title(\"Train\")\n",
        "plot_decision_boundary(model_0, X_train, y_train)\n",
        "plt.subplot(1, 2, 2)\n",
        "plt.title(\"Test\")\n",
        "plot_decision_boundary(model_0, X_test, y_test)"
      ],
      "metadata": {
        "id": "kPRXDLSZfj5o"
      },
      "execution_count": null,
      "outputs": []
    },
    {
      "cell_type": "markdown",
      "source": [
        "## 5. Improving a model\n",
        "\n",
        "*  Add more layers - give the model more chances to learn about the data.\n",
        "*  Add more hidden units - basically number of parameters in each layer.\n",
        "*  Fit for longer\n",
        "*  Changing the activation functions ( or add them to between layers to changet the linearity)\n",
        "*  Change the learning rate\n",
        "*  Change the loss function"
      ],
      "metadata": {
        "id": "sNvj5OaWgILN"
      }
    },
    {
      "cell_type": "markdown",
      "source": [
        "First lets\n",
        "* go from 5 to 10 hidden units\n",
        "* go from 2 to 3 layers\n",
        "* do 100 to 1000 epochs"
      ],
      "metadata": {
        "id": "HnhtR5qliuf2"
      }
    },
    {
      "cell_type": "code",
      "source": [
        "class CircleModelV1(nn.Module):\n",
        "  def __init__(self):\n",
        "    super().__init__()\n",
        "\n",
        "# Create two `nn.Linear()` layers that can handle our data shapes\n",
        "\n",
        "    self.layer_1 = nn.Linear(in_features=2,\n",
        "                             out_features=10)\n",
        "    self.layer_2 = nn.Linear(in_features=10,\n",
        "                              out_features=10)\n",
        "    self.layer_3 = nn.Linear(in_features=10,\n",
        "                              out_features=1)\n",
        "\n",
        "\n",
        "\n",
        "# Define a `forward()` method that outlines the forward pass of the model\n",
        "  def forward(self, x):\n",
        "    return self.layer_3(self.layer_2(self.layer_1(x)))  # x -> layer 1 -> layer 2 -> 3 -> output\n",
        "\n",
        "\n",
        "# Instantiate an instance of our model class and send it to the target device\n",
        "model_1 = CircleModelV1().to(device)\n",
        "model_1\n",
        "device"
      ],
      "metadata": {
        "id": "cxPb9c3Qil5z"
      },
      "execution_count": null,
      "outputs": []
    },
    {
      "cell_type": "code",
      "source": [
        "loss_fn = nn.BCEWithLogitsLoss() # Contains a sigmoid acitivation function within BCE loss\n",
        "\n",
        "optimizer = torch.optim.SGD(params=model_1.parameters(),\n",
        "                      lr=.1)"
      ],
      "metadata": {
        "id": "OqK0JZhiypQc"
      },
      "execution_count": null,
      "outputs": []
    },
    {
      "cell_type": "code",
      "source": [
        "torch.manual_seed(42)\n",
        "torch.cuda.manual_seed(42)\n",
        "\n",
        "# Set number of epochs\n",
        "epochs = 1000\n",
        "\n",
        "# Put data to target device\n",
        "\n",
        "X_train, y_train = X_train.to(device), y_train.to(device)\n",
        "X_test, y_test = X_test.to(device), y_test.to(device)\n",
        "\n",
        "# Build training and evaluation loop\n",
        "for epoch in range(epochs):\n",
        "  ### Training\n",
        "  model_1.train()\n",
        "\n",
        "  # 1. Forward Pass\n",
        "  y_logits = model_1(X_train).squeeze()\n",
        "  y_pred = torch.round(torch.sigmoid(y_logits))\n",
        "\n",
        "  # 2. Calc loss/accuracy\n",
        "  loss = loss_fn(y_logits,\n",
        "                 y_train) ## nn.BCEWithLogitsLoss expects raw logits as input\n",
        "  # with reg BCE Loss loss = loss_fn(torch.sigmoid(y_logits), y_train)\n",
        "\n",
        "  acc = accuracy_fn(y_true = y_train,\n",
        "                    y_pred = y_pred)\n",
        "\n",
        "# 3. Optimizer zero grad\n",
        "  optimizer.zero_grad()\n",
        "\n",
        "  # 4. Loss Backward\n",
        "  loss.backward()\n",
        "\n",
        "  # 5. Optimizer step\n",
        "  optimizer.step()\n",
        "\n",
        "  model_1.eval()\n",
        "  with torch.inference_mode():\n",
        "    # 1.\n",
        "    test_logits = model_1(X_test).squeeze()\n",
        "    test_pred = torch.round(torch.sigmoid(test_logits))\n",
        "    # 2. Calc test loss/acc\n",
        "    test_loss = loss_fn(test_logits,\n",
        "                        y_test)\n",
        "\n",
        "    test_acc = accuracy_fn(y_true = y_test,\n",
        "                           y_pred = test_pred)\n",
        "  # Print out what is happening\n",
        "  if epoch % 50 == 0:\n",
        "    print(f\"Epoch: {epoch} | Loss:{loss:.5f}, Acc: {acc:.2f}%| Test_Loss: {test_loss:.5f}, Test_Acc: {test_acc:.2f}%\")\n"
      ],
      "metadata": {
        "id": "zzqXGnjdjP8A"
      },
      "execution_count": null,
      "outputs": []
    },
    {
      "cell_type": "code",
      "source": [
        "# Plot decision boundary of the model\n",
        "plt.figure(figsize=(12,6))\n",
        "plt.subplot(1, 2, 1)\n",
        "plt.title(\"Train\")\n",
        "plot_decision_boundary(model_1, X_train, y_train)\n",
        "plt.subplot(1, 2, 2)\n",
        "plt.title(\"Test\")\n",
        "plot_decision_boundary(model_1, X_test, y_test)"
      ],
      "metadata": {
        "id": "Z6RpBcd0jh17"
      },
      "execution_count": null,
      "outputs": []
    },
    {
      "cell_type": "markdown",
      "source": [
        "Adding layers and hidden units doesn't seem to change the effectiveness.\n",
        "\n",
        "We need to add some nonlinearity to the model to allow it to solve nonlinear problems.\n"
      ],
      "metadata": {
        "id": "ygkgL6LljwG8"
      }
    },
    {
      "cell_type": "code",
      "source": [
        "class CircleModelV2(nn.Module):\n",
        "  def __init__(self):\n",
        "    super().__init__()\n",
        "\n",
        "# Create two `nn.Linear()` layers that can handle our data shapes\n",
        "\n",
        "    self.layer_1 = nn.Linear(in_features=2,\n",
        "                             out_features=8)\n",
        "    self.layer_2 = nn.Linear(in_features=8,\n",
        "                              out_features=8)\n",
        "    self.layer_3 = nn.Linear(in_features=8,\n",
        "                              out_features=1)\n",
        "    self.relu = nn.ReLU()\n",
        "    #self.sig = nn.Sigmoid()\n",
        "\n",
        "\n",
        "# Define a `forward()` method that outlines the forward pass of the model\n",
        "  def forward(self, x):\n",
        "    return self.layer_3(self.relu(self.layer_2(self.relu(self.layer_1(x)))))  # x -> layer 1 -> layer 2 -> 3 -> output\n",
        "    #return self.layer_3(self.sig(self.layer_2(self.sig(self.layer_1(x)))))  # x -> layer 1 -> layer 2 -> 3 -> output\n",
        "\n",
        "\n",
        "# Instantiate an instance of our model class and send it to the target device\n",
        "model_2 = CircleModelV2().to(device)\n",
        "model_2\n",
        "device"
      ],
      "metadata": {
        "id": "O7bBfSU2k4La"
      },
      "execution_count": null,
      "outputs": []
    },
    {
      "cell_type": "code",
      "source": [
        "loss_fn = nn.BCEWithLogitsLoss()\n",
        "optimizer = torch.optim.SGD(model_2.parameters(), lr=0.1)"
      ],
      "metadata": {
        "id": "-a5KmliNyedv"
      },
      "execution_count": null,
      "outputs": []
    },
    {
      "cell_type": "code",
      "source": [
        "torch.manual_seed(42)\n",
        "torch.cuda.manual_seed(42)\n",
        "\n",
        "# Set number of epochs\n",
        "epochs = 2000\n",
        "\n",
        "# Put data to target device\n",
        "\n",
        "X_train, y_train = X_train.to(device), y_train.to(device)\n",
        "X_test, y_test = X_test.to(device), y_test.to(device)\n",
        "\n",
        "# Build training and evaluation loop\n",
        "for epoch in range(epochs):\n",
        "  ### Training\n",
        "  model_2.train()\n",
        "\n",
        "  # 1. Forward Pass\n",
        "  y_logits = model_2(X_train).squeeze()\n",
        "  y_pred = torch.round(torch.sigmoid(y_logits))\n",
        "\n",
        "  # 2. Calc loss/accuracy\n",
        "  loss = loss_fn(y_logits,\n",
        "                 y_train) ## nn.BCEWithLogitsLoss expects raw logits as input\n",
        "  # with reg BCE Loss loss = loss_fn(torch.sigmoid(y_logits), y_train)\n",
        "\n",
        "  acc = accuracy_fn(y_true = y_train,\n",
        "                    y_pred = y_pred)\n",
        "\n",
        "# 3. Optimizer zero grad\n",
        "  optimizer.zero_grad()\n",
        "\n",
        "  # 4. Loss Backward\n",
        "  loss.backward()\n",
        "\n",
        "  # 5. Optimizer step\n",
        "  optimizer.step()\n",
        "\n",
        "  model_2.eval()\n",
        "  with torch.inference_mode():\n",
        "    # 1.\n",
        "    test_logits = model_2(X_test).squeeze()\n",
        "    test_pred = torch.round(torch.sigmoid(test_logits))\n",
        "    # 2. Calc test loss/acc\n",
        "    test_loss = loss_fn(test_logits,\n",
        "                        y_test)\n",
        "\n",
        "    test_acc = accuracy_fn(y_true = y_test,\n",
        "                           y_pred = test_pred)\n",
        "  # Print out what is happening\n",
        "  if epoch % 10 == 0:\n",
        "    print(f\"Epoch: {epoch} | Loss:{loss:.5f}, Acc: {acc:.2f}%| Test_Loss: {test_loss:.5f}, Test_Acc: {test_acc:.2f}%\")\n"
      ],
      "metadata": {
        "id": "lVqYVYsrk810"
      },
      "execution_count": null,
      "outputs": []
    },
    {
      "cell_type": "code",
      "source": [
        "# Plot decision boundary of the model\n",
        "plt.figure(figsize=(12,6))\n",
        "plt.subplot(1, 2, 1)\n",
        "plt.title(\"Train\")\n",
        "plot_decision_boundary(model_2, X_train, y_train)\n",
        "plt.subplot(1, 2, 2)\n",
        "plt.title(\"Test\")\n",
        "plot_decision_boundary(model_2, X_test, y_test)"
      ],
      "metadata": {
        "id": "ztdRNQupmfqr"
      },
      "execution_count": null,
      "outputs": []
    },
    {
      "cell_type": "code",
      "source": [
        "model_2.state_dict()"
      ],
      "metadata": {
        "id": "vTxL0K9WoJG5"
      },
      "execution_count": null,
      "outputs": []
    },
    {
      "cell_type": "markdown",
      "source": [
        "## 8. Lets make a multi-class PyTorch model\n",
        "\n",
        "To do this we will use a method from scikit-learns `make_blobs()` method.\n",
        "\n",
        "1.  Create some multi class data using `make_blobs()`\n",
        "2.  Turn the data into tensors (it is numpy by default)\n",
        "3.  Split into train and test using scikits' `train_test_split()`\n",
        "4. Visualize the data\n"
      ],
      "metadata": {
        "id": "A8vaYRT1SeEN"
      }
    },
    {
      "cell_type": "code",
      "source": [
        "import torch\n",
        "import matplotlib.pyplot as plt\n",
        "from sklearn.datasets import make_blobs\n",
        "from sklearn.model_selection import train_test_split\n",
        "\n",
        "# Set the hyperparameters for the data creation\n",
        "NUM_CLASSES = 4\n",
        "NUM_FEATURES = 2\n",
        "RANDOM_SEED = 42\n",
        "\n",
        "# 1. Create mutli-class data\n",
        "X_blob, y_blob = make_blobs(n_samples=1000,\n",
        "                            n_features=NUM_FEATURES,\n",
        "                            centers=NUM_CLASSES,\n",
        "                            cluster_std=1.5,\n",
        "                            random_state=RANDOM_SEED\n",
        "                            )\n",
        "\n",
        "# 2. Turn data into tensors\n",
        "X_blob = torch.from_numpy(X_blob).type(torch.float)\n",
        "y_blob = torch.from_numpy(y_blob).type(torch.LongTensor)\n",
        "\n",
        "print(X_blob[:5], y_blob[:5])\n",
        "\n",
        "# 3. Split into train and test data\n",
        "X_blob_train, X_blob_test, y_blob_train, y_blob_test = train_test_split(X_blob,\n",
        "                                                                        y_blob,\n",
        "                                                                        test_size=.2,\n",
        "                                                                        random_state=RANDOM_SEED)\n",
        "\n",
        "# 4. Plot data\n",
        "plt.figure(figsize=(10,7))\n",
        "plt.scatter(X_blob[:, 0], X_blob[:, 1], c = y_blob, cmap = plt.cm.RdYlBu)"
      ],
      "metadata": {
        "id": "vpMoqeT7TALw"
      },
      "execution_count": null,
      "outputs": []
    },
    {
      "cell_type": "markdown",
      "source": [
        "### 8.2 Building the model\n",
        "\n",
        "Let's start with something similar to Model_2 for the circles."
      ],
      "metadata": {
        "id": "RRHQ07W6W9b3"
      }
    },
    {
      "cell_type": "code",
      "source": [
        "# Create device agnostic code\n",
        "device = \"cuda\" if torch.cuda.is_available() else \"cpu\"\n",
        "device"
      ],
      "metadata": {
        "id": "ZAs9SNSEXNL1"
      },
      "execution_count": null,
      "outputs": []
    },
    {
      "cell_type": "code",
      "source": [
        "from torch import nn\n",
        "\n",
        "# Build model\n",
        "class BlobModel(nn.Module):\n",
        "  def __init__(self, input_features, output_features, hidden_units):\n",
        "    \"\"\" Initializes all required hyperparameters for a MC model\n",
        "\n",
        "    Args:\n",
        "    input_features (int): Number of input features to the model\n",
        "    output_features (int): Number of output features of the model\n",
        "    hidden_units (int): Number of hidden units between layers\n",
        "    \"\"\"\n",
        "\n",
        "    super().__init__()\n",
        "    self.linear_layer_stack = nn.Sequential(\n",
        "        nn.Linear(in_features=input_features,\n",
        "                  out_features=hidden_units),\n",
        "        nn.ReLU(),\n",
        "        nn.Linear(in_features=hidden_units,\n",
        "                  out_features=hidden_units),\n",
        "        nn.ReLU(),\n",
        "        nn.Linear(in_features=hidden_units,\n",
        "                  out_features=output_features)\n",
        "    )\n",
        "\n",
        "  def forward(self, x):\n",
        "    return self.linear_layer_stack(x)\n",
        "\n",
        "\n",
        "model_3 = BlobModel(input_features=NUM_FEATURES,\n",
        "                    output_features=NUM_CLASSES,\n",
        "                    hidden_units=8).to(device)\n",
        "model_3"
      ],
      "metadata": {
        "id": "GdgQ6kVgXYHJ"
      },
      "execution_count": null,
      "outputs": []
    },
    {
      "cell_type": "markdown",
      "source": [
        "### 8.3 Creating a loss function and optimizer for the MC model\n",
        "\n",
        "Since we are working with a multiclass model, we'll use the `nn.CrossEntropyLoss()` method as our loss function.\n",
        "\n",
        "And we will stick with SGD as the optimizer.\n"
      ],
      "metadata": {
        "id": "chP5sUmUac-C"
      }
    },
    {
      "cell_type": "code",
      "source": [
        "loss_fn = nn.CrossEntropyLoss()\n",
        "optimizer = torch.optim.SGD(model_3.parameters(),\n",
        "                            lr=.1)\n"
      ],
      "metadata": {
        "id": "e7HzPFkackOw"
      },
      "execution_count": null,
      "outputs": []
    },
    {
      "cell_type": "markdown",
      "source": [
        "### 8.4 Getting prediction probabilities from our MC model\n",
        "\n",
        "Lets check out a single forward pass of the model to see what it is outputting."
      ],
      "metadata": {
        "id": "-3Bv1Ejsc7dS"
      }
    },
    {
      "cell_type": "code",
      "source": [
        "model_3(X_blob_train.to(device))[:5]"
      ],
      "metadata": {
        "id": "jo2trrFVdeCL"
      },
      "execution_count": null,
      "outputs": []
    },
    {
      "cell_type": "markdown",
      "source": [
        "It appears we have 1 value per feature for each sample."
      ],
      "metadata": {
        "id": "Y9oK6Lejdou7"
      }
    },
    {
      "cell_type": "code",
      "source": [
        "model_3(X_blob_train.to(device))[0].shape, NUM_CLASSES"
      ],
      "metadata": {
        "id": "iKblcS2mdyLk"
      },
      "execution_count": null,
      "outputs": []
    },
    {
      "cell_type": "markdown",
      "source": [
        "So the model is predicting one value for each class we have.\n",
        "\n",
        "Each of these values is called a logit once again so we need to convert the logits to a probility.\n",
        "\n",
        "And then we convert the probability to a prediction label.\n",
        "\n",
        "To do this we use the `nn.softmax()` activation function.\n",
        "\n",
        "It calculates the probability of each prediction class being the actual predicted class compared to all other possible classes."
      ],
      "metadata": {
        "id": "DIMFwm4Yd6fp"
      }
    },
    {
      "cell_type": "code",
      "source": [
        "# Make prediction logits with model\n",
        "y_logits = model_3(X_blob_test.to(device))\n",
        "\n",
        "# Perform softmax calc on the logits across dim 1 to get prediction probabilities\n",
        "y_pred_probs = torch.softmax(y_logits, dim=1)\n",
        "print(y_logits[:5])\n",
        "print(y_pred_probs[:5])\n"
      ],
      "metadata": {
        "id": "TSlTBwsoeZV5"
      },
      "execution_count": null,
      "outputs": []
    },
    {
      "cell_type": "markdown",
      "source": [
        "Each of the `y_pred_probs` rows add to one which is important for our probability calcs.\n",
        "\n",
        "Now we can use `torch.argmax()` to determine the largest probability."
      ],
      "metadata": {
        "id": "q5trOcvee144"
      }
    },
    {
      "cell_type": "markdown",
      "source": [
        "### 8.5 Creating the train/test loop for the model"
      ],
      "metadata": {
        "id": "LPVyfsDBfZqE"
      }
    },
    {
      "cell_type": "code",
      "source": [
        "# Fit the model\n",
        "torch.manual_seed(42)\n",
        "torch.cuda.manual_seed(42)\n",
        "\n",
        "# Set number of epochs\n",
        "epochs = 1000\n",
        "\n",
        "# Put data to target device\n",
        "X_blob_train, y_blob_train = X_blob_train.to(device), y_blob_train.to(device)\n",
        "X_blob_test, y_blob_test = X_blob_test.to(device), y_blob_test.to(device)\n",
        "\n",
        "for epoch in range(epochs):\n",
        "  ### training\n",
        "  model_3.train()\n",
        "\n",
        "  # Forward pass\n",
        "  y_logits = model_3(X_blob_train)\n",
        "  y_pred = torch.softmax(y_logits, dim=1).argmax(dim=1) # Calcs probs then immediately finds max\n",
        "\n",
        "  # Calc loss and accuracy\n",
        "  loss = loss_fn(y_logits, y_blob_train)\n",
        "  acc = accuracy_fn(y_true=y_blob_train,\n",
        "                    y_pred=y_pred)\n",
        "\n",
        "  # Optimizer zero grad\n",
        "  optimizer.zero_grad()\n",
        "\n",
        "  # Loss backwards\n",
        "  loss.backward()\n",
        "\n",
        "  # Optimizer step\n",
        "  optimizer.step()\n",
        "\n",
        "  ### Testing\n",
        "  model_3.eval()\n",
        "  with torch.inference_mode():\n",
        "    # Forward pass\n",
        "    test_logits = model_3(X_blob_test)\n",
        "    test_pred = torch.softmax(test_logits, dim=1).argmax(dim=1)\n",
        "\n",
        "    # Calc test loss and accuracy\n",
        "    test_loss = loss_fn(test_logits, y_blob_test)\n",
        "    test_acc = accuracy_fn(y_true=y_blob_test,\n",
        "                           y_pred=test_pred)\n",
        "\n",
        "  if epoch % 10 == 0:\n",
        "    print(f\"Epoch: {epoch} | Loss: {loss:.5f}, Acc: {acc:.2f}% | Test Loss: {test_loss:.5f}, Test Acc: {test_acc:.2f}%\")"
      ],
      "metadata": {
        "id": "BC9VgXWve1q4"
      },
      "execution_count": null,
      "outputs": []
    },
    {
      "cell_type": "markdown",
      "source": [
        "### 8.6 Making and evaluating predictions from the model\n",
        "\n",
        "It looks like the model is working well but lets make sure and visualize them.\n"
      ],
      "metadata": {
        "id": "-G0jan6mhqrR"
      }
    },
    {
      "cell_type": "code",
      "source": [
        "plt.figure(figsize=(12, 6))\n",
        "plt.subplot(1, 2, 1)\n",
        "plt.title(\"Train\")\n",
        "plot_decision_boundary(model_3, X_blob_train, y_blob_train)\n",
        "plt.subplot(1, 2, 2)\n",
        "plt.title(\"Test\")\n",
        "plot_decision_boundary(model_3, X_blob_test, y_blob_test)"
      ],
      "metadata": {
        "id": "n5rD44_oh-ey"
      },
      "execution_count": null,
      "outputs": []
    },
    {
      "cell_type": "markdown",
      "source": [
        "# **03.** Computer Vision and Convolutional Neural Networks"
      ],
      "metadata": {
        "id": "YQUsqkXHvEAC"
      }
    },
    {
      "cell_type": "markdown",
      "source": [
        "The data we work with is of the form `[batch_size, height, width, color_channels]` BHWC or `[batch_size, color_channels, height, width]` BCHW.\n",
        "\n",
        "Pytorch defaults to BCHW as of 2022 while most people and libraries use BHWC."
      ],
      "metadata": {
        "id": "YCVb-jDvxrjV"
      }
    },
    {
      "cell_type": "markdown",
      "source": [
        "## What is a convolutional neural network?\n",
        "\n",
        "Architecture of a CNN:\n",
        "*   Input Image(s)\n",
        "*   Input Layer\n",
        "*   Convolutional Layer\n",
        "*   Hidden activation/nonlinear activation\n",
        "*   Pooling layer\n",
        "*   Output layer\n",
        "*   Output activation\n"
      ],
      "metadata": {
        "id": "0Hhwv4oa7QPx"
      }
    }
  ]
}